{
 "cells": [
  {
   "cell_type": "code",
   "execution_count": 1,
   "id": "terminal-router",
   "metadata": {
    "ExecuteTime": {
     "end_time": "2021-03-27T18:29:44.633782Z",
     "start_time": "2021-03-27T18:28:29.361393Z"
    }
   },
   "outputs": [
    {
     "name": "stdout",
     "output_type": "stream",
     "text": [
      "Collecting jupyter_contrib_nbextensions\n",
      "  Using cached jupyter_contrib_nbextensions-0.5.1-py2.py3-none-any.whl (20.9 MB)\n",
      "Requirement already satisfied: nbconvert>=4.2 in c:\\users\\maltanno\\anaconda3\\lib\\site-packages (from jupyter_contrib_nbextensions) (6.0.7)\n",
      "Requirement already satisfied: notebook>=4.0 in c:\\users\\maltanno\\anaconda3\\lib\\site-packages (from jupyter_contrib_nbextensions) (6.2.0)\n",
      "Requirement already satisfied: jupyter-core in c:\\users\\maltanno\\anaconda3\\lib\\site-packages (from jupyter_contrib_nbextensions) (4.7.1)\n",
      "Requirement already satisfied: pyyaml in c:\\users\\maltanno\\anaconda3\\lib\\site-packages (from jupyter_contrib_nbextensions) (5.4.1)Note: you may need to restart the kernel to use updated packages.\n",
      "Collecting jupyter-contrib-core>=0.3.3\n",
      "  Using cached jupyter_contrib_core-0.3.3-py2.py3-none-any.whl (18 kB)\n",
      "\n"
     ]
    },
    {
     "name": "stderr",
     "output_type": "stream",
     "text": [
      "ERROR: pip's dependency resolver does not currently take into account all the packages that are installed. This behaviour is the source of the following dependency conflicts.\n",
      "spyder 4.0.1 requires pyqt5<5.13; python_version >= \"3\", which is not installed.\n",
      "spyder 4.0.1 requires pyqtwebengine<5.13; python_version >= \"3\", which is not installed.\n",
      "spyder 4.0.1 requires jedi==0.14.1, but you have jedi 0.18.0 which is incompatible.\n",
      "python-language-server 0.31.7 requires jedi<0.16,>=0.14.1, but you have jedi 0.18.0 which is incompatible.\n"
     ]
    },
    {
     "name": "stdout",
     "output_type": "stream",
     "text": [
      "Collecting jupyter-highlight-selected-word>=0.1.1\n",
      "  Using cached jupyter_highlight_selected_word-0.2.0-py2.py3-none-any.whl (11 kB)\n",
      "Requirement already satisfied: tornado in c:\\users\\maltanno\\anaconda3\\lib\\site-packages (from jupyter_contrib_nbextensions) (6.1)\n",
      "Requirement already satisfied: ipython-genutils in c:\\users\\maltanno\\anaconda3\\lib\\site-packages (from jupyter_contrib_nbextensions) (0.2.0)\n",
      "Requirement already satisfied: traitlets>=4.1 in c:\\users\\maltanno\\anaconda3\\lib\\site-packages (from jupyter_contrib_nbextensions) (5.0.5)\n",
      "Collecting jupyter-latex-envs>=1.3.8\n",
      "  Using cached jupyter_latex_envs-1.4.6.tar.gz (861 kB)\n",
      "Collecting jupyter-nbextensions-configurator>=0.4.0\n",
      "  Using cached jupyter_nbextensions_configurator-0.4.1.tar.gz (479 kB)\n",
      "Requirement already satisfied: lxml in c:\\users\\maltanno\\anaconda3\\lib\\site-packages (from jupyter_contrib_nbextensions) (4.6.2)\n",
      "Requirement already satisfied: setuptools in c:\\users\\maltanno\\anaconda3\\lib\\site-packages (from jupyter-contrib-core>=0.3.3->jupyter_contrib_nbextensions) (52.0.0.post20210125)\n",
      "Requirement already satisfied: ipython in c:\\users\\maltanno\\anaconda3\\lib\\site-packages (from jupyter-latex-envs>=1.3.8->jupyter_contrib_nbextensions) (7.21.0)\n",
      "Requirement already satisfied: pygments>=2.4.1 in c:\\users\\maltanno\\anaconda3\\lib\\site-packages (from nbconvert>=4.2->jupyter_contrib_nbextensions) (2.8.1)\n",
      "Requirement already satisfied: jinja2>=2.4 in c:\\users\\maltanno\\anaconda3\\lib\\site-packages (from nbconvert>=4.2->jupyter_contrib_nbextensions) (2.11.3)\n",
      "Requirement already satisfied: jupyterlab-pygments in c:\\users\\maltanno\\anaconda3\\lib\\site-packages (from nbconvert>=4.2->jupyter_contrib_nbextensions) (0.1.2)\n",
      "Requirement already satisfied: pandocfilters>=1.4.1 in c:\\users\\maltanno\\anaconda3\\lib\\site-packages (from nbconvert>=4.2->jupyter_contrib_nbextensions) (1.4.3)\n",
      "Requirement already satisfied: nbclient<0.6.0,>=0.5.0 in c:\\users\\maltanno\\anaconda3\\lib\\site-packages (from nbconvert>=4.2->jupyter_contrib_nbextensions) (0.5.3)\n",
      "Requirement already satisfied: bleach in c:\\users\\maltanno\\anaconda3\\lib\\site-packages (from nbconvert>=4.2->jupyter_contrib_nbextensions) (3.3.0)\n",
      "Requirement already satisfied: defusedxml in c:\\users\\maltanno\\anaconda3\\lib\\site-packages (from nbconvert>=4.2->jupyter_contrib_nbextensions) (0.7.1)\n",
      "Requirement already satisfied: entrypoints>=0.2.2 in c:\\users\\maltanno\\anaconda3\\lib\\site-packages (from nbconvert>=4.2->jupyter_contrib_nbextensions) (0.3)\n",
      "Requirement already satisfied: testpath in c:\\users\\maltanno\\anaconda3\\lib\\site-packages (from nbconvert>=4.2->jupyter_contrib_nbextensions) (0.4.4)\n",
      "Requirement already satisfied: mistune<2,>=0.8.1 in c:\\users\\maltanno\\anaconda3\\lib\\site-packages (from nbconvert>=4.2->jupyter_contrib_nbextensions) (0.8.4)\n",
      "Requirement already satisfied: nbformat>=4.4 in c:\\users\\maltanno\\anaconda3\\lib\\site-packages (from nbconvert>=4.2->jupyter_contrib_nbextensions) (5.1.2)\n",
      "Requirement already satisfied: MarkupSafe>=0.23 in c:\\users\\maltanno\\anaconda3\\lib\\site-packages (from jinja2>=2.4->nbconvert>=4.2->jupyter_contrib_nbextensions) (1.1.1)\n",
      "Requirement already satisfied: async-generator in c:\\users\\maltanno\\anaconda3\\lib\\site-packages (from nbclient<0.6.0,>=0.5.0->nbconvert>=4.2->jupyter_contrib_nbextensions) (1.10)\n",
      "Requirement already satisfied: jupyter-client>=6.1.5 in c:\\users\\maltanno\\anaconda3\\lib\\site-packages (from nbclient<0.6.0,>=0.5.0->nbconvert>=4.2->jupyter_contrib_nbextensions) (6.1.7)\n",
      "Requirement already satisfied: nest-asyncio in c:\\users\\maltanno\\anaconda3\\lib\\site-packages (from nbclient<0.6.0,>=0.5.0->nbconvert>=4.2->jupyter_contrib_nbextensions) (1.5.1)\n",
      "Requirement already satisfied: python-dateutil>=2.1 in c:\\users\\maltanno\\anaconda3\\lib\\site-packages (from jupyter-client>=6.1.5->nbclient<0.6.0,>=0.5.0->nbconvert>=4.2->jupyter_contrib_nbextensions) (2.8.1)\n",
      "Requirement already satisfied: pyzmq>=13 in c:\\users\\maltanno\\anaconda3\\lib\\site-packages (from jupyter-client>=6.1.5->nbclient<0.6.0,>=0.5.0->nbconvert>=4.2->jupyter_contrib_nbextensions) (20.0.0)\n",
      "Requirement already satisfied: pywin32>=1.0 in c:\\users\\maltanno\\anaconda3\\lib\\site-packages (from jupyter-core->jupyter_contrib_nbextensions) (227)\n",
      "Requirement already satisfied: jsonschema!=2.5.0,>=2.4 in c:\\users\\maltanno\\anaconda3\\lib\\site-packages (from nbformat>=4.4->nbconvert>=4.2->jupyter_contrib_nbextensions) (3.2.0)\n",
      "Requirement already satisfied: attrs>=17.4.0 in c:\\users\\maltanno\\anaconda3\\lib\\site-packages (from jsonschema!=2.5.0,>=2.4->nbformat>=4.4->nbconvert>=4.2->jupyter_contrib_nbextensions) (20.3.0)\n",
      "Requirement already satisfied: six>=1.11.0 in c:\\users\\maltanno\\anaconda3\\lib\\site-packages (from jsonschema!=2.5.0,>=2.4->nbformat>=4.4->nbconvert>=4.2->jupyter_contrib_nbextensions) (1.15.0)\n",
      "Requirement already satisfied: pyrsistent>=0.14.0 in c:\\users\\maltanno\\anaconda3\\lib\\site-packages (from jsonschema!=2.5.0,>=2.4->nbformat>=4.4->nbconvert>=4.2->jupyter_contrib_nbextensions) (0.17.3)\n",
      "Requirement already satisfied: importlib-metadata in c:\\users\\maltanno\\anaconda3\\lib\\site-packages (from jsonschema!=2.5.0,>=2.4->nbformat>=4.4->nbconvert>=4.2->jupyter_contrib_nbextensions) (3.7.3)\n",
      "Requirement already satisfied: prometheus-client in c:\\users\\maltanno\\anaconda3\\lib\\site-packages (from notebook>=4.0->jupyter_contrib_nbextensions) (0.9.0)\n",
      "Requirement already satisfied: argon2-cffi in c:\\users\\maltanno\\anaconda3\\lib\\site-packages (from notebook>=4.0->jupyter_contrib_nbextensions) (20.1.0)\n",
      "Requirement already satisfied: Send2Trash>=1.5.0 in c:\\users\\maltanno\\anaconda3\\lib\\site-packages (from notebook>=4.0->jupyter_contrib_nbextensions) (1.5.0)\n",
      "Requirement already satisfied: terminado>=0.8.3 in c:\\users\\maltanno\\anaconda3\\lib\\site-packages (from notebook>=4.0->jupyter_contrib_nbextensions) (0.9.3)\n",
      "Requirement already satisfied: ipykernel in c:\\users\\maltanno\\anaconda3\\lib\\site-packages (from notebook>=4.0->jupyter_contrib_nbextensions) (5.3.4)\n",
      "Requirement already satisfied: pywinpty>=0.5 in c:\\users\\maltanno\\anaconda3\\lib\\site-packages (from terminado>=0.8.3->notebook>=4.0->jupyter_contrib_nbextensions) (0.5.7)\n",
      "Requirement already satisfied: cffi>=1.0.0 in c:\\users\\maltanno\\anaconda3\\lib\\site-packages (from argon2-cffi->notebook>=4.0->jupyter_contrib_nbextensions) (1.14.5)\n",
      "Requirement already satisfied: pycparser in c:\\users\\maltanno\\anaconda3\\lib\\site-packages (from cffi>=1.0.0->argon2-cffi->notebook>=4.0->jupyter_contrib_nbextensions) (2.20)\n",
      "Requirement already satisfied: packaging in c:\\users\\maltanno\\anaconda3\\lib\\site-packages (from bleach->nbconvert>=4.2->jupyter_contrib_nbextensions) (20.9)\n",
      "Requirement already satisfied: webencodings in c:\\users\\maltanno\\anaconda3\\lib\\site-packages (from bleach->nbconvert>=4.2->jupyter_contrib_nbextensions) (0.5.1)\n",
      "Requirement already satisfied: typing-extensions>=3.6.4 in c:\\users\\maltanno\\anaconda3\\lib\\site-packages (from importlib-metadata->jsonschema!=2.5.0,>=2.4->nbformat>=4.4->nbconvert>=4.2->jupyter_contrib_nbextensions) (3.7.4.3)\n",
      "Requirement already satisfied: zipp>=0.5 in c:\\users\\maltanno\\anaconda3\\lib\\site-packages (from importlib-metadata->jsonschema!=2.5.0,>=2.4->nbformat>=4.4->nbconvert>=4.2->jupyter_contrib_nbextensions) (3.4.1)\n",
      "Requirement already satisfied: prompt-toolkit!=3.0.0,!=3.0.1,<3.1.0,>=2.0.0 in c:\\users\\maltanno\\anaconda3\\lib\\site-packages (from ipython->jupyter-latex-envs>=1.3.8->jupyter_contrib_nbextensions) (3.0.8)\n",
      "Requirement already satisfied: decorator in c:\\users\\maltanno\\anaconda3\\lib\\site-packages (from ipython->jupyter-latex-envs>=1.3.8->jupyter_contrib_nbextensions) (4.4.2)\n",
      "Requirement already satisfied: backcall in c:\\users\\maltanno\\anaconda3\\lib\\site-packages (from ipython->jupyter-latex-envs>=1.3.8->jupyter_contrib_nbextensions) (0.2.0)\n",
      "Collecting jedi>=0.16\n",
      "  Downloading jedi-0.18.0-py2.py3-none-any.whl (1.4 MB)\n",
      "Requirement already satisfied: pickleshare in c:\\users\\maltanno\\anaconda3\\lib\\site-packages (from ipython->jupyter-latex-envs>=1.3.8->jupyter_contrib_nbextensions) (0.7.5)\n",
      "Requirement already satisfied: colorama in c:\\users\\maltanno\\anaconda3\\lib\\site-packages (from ipython->jupyter-latex-envs>=1.3.8->jupyter_contrib_nbextensions) (0.4.4)\n",
      "Collecting parso<0.9.0,>=0.8.0\n",
      "  Downloading parso-0.8.1-py2.py3-none-any.whl (93 kB)\n",
      "Requirement already satisfied: wcwidth in c:\\users\\maltanno\\anaconda3\\lib\\site-packages (from prompt-toolkit!=3.0.0,!=3.0.1,<3.1.0,>=2.0.0->ipython->jupyter-latex-envs>=1.3.8->jupyter_contrib_nbextensions) (0.2.5)\n",
      "Requirement already satisfied: pyparsing>=2.0.2 in c:\\users\\maltanno\\anaconda3\\lib\\site-packages (from packaging->bleach->nbconvert>=4.2->jupyter_contrib_nbextensions) (2.4.7)\n",
      "Building wheels for collected packages: jupyter-latex-envs, jupyter-nbextensions-configurator\n",
      "  Building wheel for jupyter-latex-envs (setup.py): started\n",
      "  Building wheel for jupyter-latex-envs (setup.py): finished with status 'done'\n",
      "  Created wheel for jupyter-latex-envs: filename=jupyter_latex_envs-1.4.6-py2.py3-none-any.whl size=963394 sha256=6469931decc8718d6167589dd74d2f24b154e80a38cb534e295e54407bd5c3e1\n",
      "  Stored in directory: c:\\users\\maltanno\\appdata\\local\\pip\\cache\\wheels\\a0\\95\\26\\4cf34fb92765c95fb7851fd447511594bcc3a50e504bd09af9\n",
      "  Building wheel for jupyter-nbextensions-configurator (setup.py): started\n",
      "  Building wheel for jupyter-nbextensions-configurator (setup.py): finished with status 'done'\n",
      "  Created wheel for jupyter-nbextensions-configurator: filename=jupyter_nbextensions_configurator-0.4.1-py2.py3-none-any.whl size=465825 sha256=d121c36940478e7cfa402d09996e5d2ac41bf05d979ca64c3a8f7013123dc898\n",
      "  Stored in directory: c:\\users\\maltanno\\appdata\\local\\pip\\cache\\wheels\\8d\\c4\\b5\\e4b61f624036f83566580d61f24af7b73180b1361ee1ab3722\n",
      "Successfully built jupyter-latex-envs jupyter-nbextensions-configurator\n",
      "Installing collected packages: parso, jedi, jupyter-contrib-core, jupyter-nbextensions-configurator, jupyter-latex-envs, jupyter-highlight-selected-word, jupyter-contrib-nbextensions\n",
      "  Attempting uninstall: parso\n",
      "    Found existing installation: parso 0.5.2\n",
      "    Uninstalling parso-0.5.2:\n",
      "      Successfully uninstalled parso-0.5.2\n",
      "  Attempting uninstall: jedi\n",
      "    Found existing installation: jedi 0.14.1\n",
      "    Uninstalling jedi-0.14.1:\n",
      "      Successfully uninstalled jedi-0.14.1\n",
      "Successfully installed jedi-0.18.0 jupyter-contrib-core-0.3.3 jupyter-contrib-nbextensions-0.5.1 jupyter-highlight-selected-word-0.2.0 jupyter-latex-envs-1.4.6 jupyter-nbextensions-configurator-0.4.1 parso-0.8.1\n"
     ]
    }
   ],
   "source": [
    "pip install jupyter_contrib_nbextensions"
   ]
  },
  {
   "cell_type": "code",
   "execution_count": 1,
   "id": "fixed-calvin",
   "metadata": {
    "ExecuteTime": {
     "end_time": "2021-04-07T18:11:49.723195Z",
     "start_time": "2021-04-07T18:08:45.905138Z"
    },
    "scrolled": true
   },
   "outputs": [
    {
     "name": "stdout",
     "output_type": "stream",
     "text": [
      "Collecting talosNote: you may need to restart the kernel to use updated packages.\n"
     ]
    },
    {
     "name": "stderr",
     "output_type": "stream",
     "text": [
      "ERROR: Could not install packages due to an OSError: [WinError 5] Access is denied: 'c:\\\\users\\\\maltanno\\\\anaconda3\\\\lib\\\\site-packages\\\\~cipy\\\\integrate\\\\lsoda.cp37-win_amd64.pyd'\n",
      "Consider using the `--user` option or check the permissions.\n",
      "\n"
     ]
    },
    {
     "name": "stdout",
     "output_type": "stream",
     "text": [
      "\n",
      "  Downloading talos-1.0-py3-none-any.whl (53 kB)\n",
      "Requirement already satisfied: numpy in c:\\users\\maltanno\\anaconda3\\lib\\site-packages (from talos) (1.19.2)\n",
      "Collecting kerasplotlib\n",
      "  Downloading kerasplotlib-0.1.6.tar.gz (3.5 kB)\n",
      "Requirement already satisfied: pandas in c:\\users\\maltanno\\anaconda3\\lib\\site-packages (from talos) (1.2.3)\n",
      "Requirement already satisfied: tensorflow>=2.0.0 in c:\\users\\maltanno\\anaconda3\\lib\\site-packages (from talos) (2.4.1)\n",
      "Collecting sklearn\n",
      "  Using cached sklearn-0.0.tar.gz (1.1 kB)\n",
      "Collecting wrangle\n",
      "  Downloading wrangle-0.6.7.tar.gz (25 kB)\n",
      "Requirement already satisfied: tqdm in c:\\users\\maltanno\\anaconda3\\lib\\site-packages (from talos) (4.59.0)\n",
      "Collecting chances\n",
      "  Downloading chances-0.1.9.tar.gz (35 kB)\n",
      "Collecting astetik\n",
      "  Downloading astetik-1.11.1-py3-none-any.whl (5.4 MB)\n",
      "Requirement already satisfied: requests in c:\\users\\maltanno\\anaconda3\\lib\\site-packages (from talos) (2.25.1)\n",
      "Requirement already satisfied: statsmodels>=0.11.0 in c:\\users\\maltanno\\anaconda3\\lib\\site-packages (from talos) (0.12.2)\n",
      "Requirement already satisfied: scipy>=1.1 in c:\\users\\maltanno\\anaconda3\\lib\\site-packages (from statsmodels>=0.11.0->talos) (1.6.1)\n",
      "Requirement already satisfied: patsy>=0.5 in c:\\users\\maltanno\\anaconda3\\lib\\site-packages (from statsmodels>=0.11.0->talos) (0.5.1)\n",
      "Requirement already satisfied: pytz>=2017.3 in c:\\users\\maltanno\\anaconda3\\lib\\site-packages (from pandas->talos) (2021.1)\n",
      "Requirement already satisfied: python-dateutil>=2.7.3 in c:\\users\\maltanno\\anaconda3\\lib\\site-packages (from pandas->talos) (2.8.1)\n",
      "Requirement already satisfied: six in c:\\users\\maltanno\\anaconda3\\lib\\site-packages (from patsy>=0.5->statsmodels>=0.11.0->talos) (1.15.0)\n",
      "Requirement already satisfied: tensorflow-estimator<2.5.0,>=2.4.0 in c:\\users\\maltanno\\anaconda3\\lib\\site-packages (from tensorflow>=2.0.0->talos) (2.4.0)\n",
      "Requirement already satisfied: google-pasta~=0.2 in c:\\users\\maltanno\\anaconda3\\lib\\site-packages (from tensorflow>=2.0.0->talos) (0.2.0)\n",
      "Requirement already satisfied: astunparse~=1.6.3 in c:\\users\\maltanno\\anaconda3\\lib\\site-packages (from tensorflow>=2.0.0->talos) (1.6.3)\n",
      "Requirement already satisfied: wrapt~=1.12.1 in c:\\users\\maltanno\\anaconda3\\lib\\site-packages (from tensorflow>=2.0.0->talos) (1.12.1)\n",
      "Requirement already satisfied: tensorboard~=2.4 in c:\\users\\maltanno\\anaconda3\\lib\\site-packages (from tensorflow>=2.0.0->talos) (2.4.1)\n",
      "Requirement already satisfied: grpcio~=1.32.0 in c:\\users\\maltanno\\anaconda3\\lib\\site-packages (from tensorflow>=2.0.0->talos) (1.32.0)\n",
      "Requirement already satisfied: keras-preprocessing~=1.1.2 in c:\\users\\maltanno\\anaconda3\\lib\\site-packages (from tensorflow>=2.0.0->talos) (1.1.2)\n",
      "Requirement already satisfied: protobuf>=3.9.2 in c:\\users\\maltanno\\anaconda3\\lib\\site-packages (from tensorflow>=2.0.0->talos) (3.15.6)\n",
      "Requirement already satisfied: typing-extensions~=3.7.4 in c:\\users\\maltanno\\anaconda3\\lib\\site-packages (from tensorflow>=2.0.0->talos) (3.7.4.3)\n",
      "Requirement already satisfied: absl-py~=0.10 in c:\\users\\maltanno\\anaconda3\\lib\\site-packages (from tensorflow>=2.0.0->talos) (0.12.0)\n",
      "Requirement already satisfied: opt-einsum~=3.3.0 in c:\\users\\maltanno\\anaconda3\\lib\\site-packages (from tensorflow>=2.0.0->talos) (3.3.0)\n",
      "Requirement already satisfied: h5py~=2.10.0 in c:\\users\\maltanno\\anaconda3\\lib\\site-packages (from tensorflow>=2.0.0->talos) (2.10.0)\n",
      "Requirement already satisfied: flatbuffers~=1.12.0 in c:\\users\\maltanno\\anaconda3\\lib\\site-packages (from tensorflow>=2.0.0->talos) (1.12)\n",
      "Requirement already satisfied: wheel~=0.35 in c:\\users\\maltanno\\anaconda3\\lib\\site-packages (from tensorflow>=2.0.0->talos) (0.36.2)\n",
      "Requirement already satisfied: gast==0.3.3 in c:\\users\\maltanno\\anaconda3\\lib\\site-packages (from tensorflow>=2.0.0->talos) (0.3.3)\n",
      "Requirement already satisfied: termcolor~=1.1.0 in c:\\users\\maltanno\\anaconda3\\lib\\site-packages (from tensorflow>=2.0.0->talos) (1.1.0)\n",
      "Requirement already satisfied: werkzeug>=0.11.15 in c:\\users\\maltanno\\anaconda3\\lib\\site-packages (from tensorboard~=2.4->tensorflow>=2.0.0->talos) (1.0.1)\n",
      "Requirement already satisfied: google-auth<2,>=1.6.3 in c:\\users\\maltanno\\anaconda3\\lib\\site-packages (from tensorboard~=2.4->tensorflow>=2.0.0->talos) (1.28.0)\n",
      "Requirement already satisfied: tensorboard-plugin-wit>=1.6.0 in c:\\users\\maltanno\\anaconda3\\lib\\site-packages (from tensorboard~=2.4->tensorflow>=2.0.0->talos) (1.8.0)\n",
      "Requirement already satisfied: markdown>=2.6.8 in c:\\users\\maltanno\\anaconda3\\lib\\site-packages (from tensorboard~=2.4->tensorflow>=2.0.0->talos) (3.3.4)\n",
      "Requirement already satisfied: setuptools>=41.0.0 in c:\\users\\maltanno\\anaconda3\\lib\\site-packages (from tensorboard~=2.4->tensorflow>=2.0.0->talos) (52.0.0.post20210125)\n",
      "Requirement already satisfied: google-auth-oauthlib<0.5,>=0.4.1 in c:\\users\\maltanno\\anaconda3\\lib\\site-packages (from tensorboard~=2.4->tensorflow>=2.0.0->talos) (0.4.3)\n",
      "Requirement already satisfied: cachetools<5.0,>=2.0.0 in c:\\users\\maltanno\\anaconda3\\lib\\site-packages (from google-auth<2,>=1.6.3->tensorboard~=2.4->tensorflow>=2.0.0->talos) (4.2.1)\n",
      "Requirement already satisfied: rsa<5,>=3.1.4 in c:\\users\\maltanno\\anaconda3\\lib\\site-packages (from google-auth<2,>=1.6.3->tensorboard~=2.4->tensorflow>=2.0.0->talos) (4.7.2)\n",
      "Requirement already satisfied: pyasn1-modules>=0.2.1 in c:\\users\\maltanno\\anaconda3\\lib\\site-packages (from google-auth<2,>=1.6.3->tensorboard~=2.4->tensorflow>=2.0.0->talos) (0.2.8)\n",
      "Requirement already satisfied: requests-oauthlib>=0.7.0 in c:\\users\\maltanno\\anaconda3\\lib\\site-packages (from google-auth-oauthlib<0.5,>=0.4.1->tensorboard~=2.4->tensorflow>=2.0.0->talos) (1.3.0)\n",
      "Requirement already satisfied: importlib-metadata in c:\\users\\maltanno\\anaconda3\\lib\\site-packages (from markdown>=2.6.8->tensorboard~=2.4->tensorflow>=2.0.0->talos) (3.7.3)\n",
      "Requirement already satisfied: pyasn1<0.5.0,>=0.4.6 in c:\\users\\maltanno\\anaconda3\\lib\\site-packages (from pyasn1-modules>=0.2.1->google-auth<2,>=1.6.3->tensorboard~=2.4->tensorflow>=2.0.0->talos) (0.4.8)\n",
      "Requirement already satisfied: chardet<5,>=3.0.2 in c:\\users\\maltanno\\anaconda3\\lib\\site-packages (from requests->talos) (4.0.0)\n",
      "Requirement already satisfied: urllib3<1.27,>=1.21.1 in c:\\users\\maltanno\\anaconda3\\lib\\site-packages (from requests->talos) (1.26.4)\n",
      "Requirement already satisfied: certifi>=2017.4.17 in c:\\users\\maltanno\\anaconda3\\lib\\site-packages (from requests->talos) (2020.12.5)\n",
      "Requirement already satisfied: idna<3,>=2.5 in c:\\users\\maltanno\\anaconda3\\lib\\site-packages (from requests->talos) (2.10)\n",
      "Requirement already satisfied: oauthlib>=3.0.0 in c:\\users\\maltanno\\anaconda3\\lib\\site-packages (from requests-oauthlib>=0.7.0->google-auth-oauthlib<0.5,>=0.4.1->tensorboard~=2.4->tensorflow>=2.0.0->talos) (3.1.0)\n",
      "Requirement already satisfied: seaborn in c:\\users\\maltanno\\anaconda3\\lib\\site-packages (from astetik->talos) (0.11.1)\n",
      "Requirement already satisfied: IPython in c:\\users\\maltanno\\anaconda3\\lib\\site-packages (from astetik->talos) (7.21.0)\n",
      "Collecting geonamescache\n",
      "  Downloading geonamescache-1.2.0-py3-none-any.whl (2.6 MB)\n",
      "Requirement already satisfied: zipp>=0.5 in c:\\users\\maltanno\\anaconda3\\lib\\site-packages (from importlib-metadata->markdown>=2.6.8->tensorboard~=2.4->tensorflow>=2.0.0->talos) (3.4.1)\n",
      "Requirement already satisfied: backcall in c:\\users\\maltanno\\anaconda3\\lib\\site-packages (from IPython->astetik->talos) (0.2.0)\n",
      "Requirement already satisfied: traitlets>=4.2 in c:\\users\\maltanno\\anaconda3\\lib\\site-packages (from IPython->astetik->talos) (5.0.5)\n",
      "Requirement already satisfied: prompt-toolkit!=3.0.0,!=3.0.1,<3.1.0,>=2.0.0 in c:\\users\\maltanno\\anaconda3\\lib\\site-packages (from IPython->astetik->talos) (3.0.8)\n",
      "Requirement already satisfied: jedi>=0.16 in c:\\users\\maltanno\\anaconda3\\lib\\site-packages (from IPython->astetik->talos) (0.18.0)\n",
      "Requirement already satisfied: decorator in c:\\users\\maltanno\\anaconda3\\lib\\site-packages (from IPython->astetik->talos) (4.4.2)\n",
      "Requirement already satisfied: pickleshare in c:\\users\\maltanno\\anaconda3\\lib\\site-packages (from IPython->astetik->talos) (0.7.5)\n",
      "Requirement already satisfied: colorama in c:\\users\\maltanno\\anaconda3\\lib\\site-packages (from IPython->astetik->talos) (0.4.4)\n",
      "Requirement already satisfied: pygments in c:\\users\\maltanno\\anaconda3\\lib\\site-packages (from IPython->astetik->talos) (2.8.1)\n",
      "Requirement already satisfied: parso<0.9.0,>=0.8.0 in c:\\users\\maltanno\\anaconda3\\lib\\site-packages (from jedi>=0.16->IPython->astetik->talos) (0.8.1)\n",
      "Requirement already satisfied: wcwidth in c:\\users\\maltanno\\anaconda3\\lib\\site-packages (from prompt-toolkit!=3.0.0,!=3.0.1,<3.1.0,>=2.0.0->IPython->astetik->talos) (0.2.5)\n",
      "Requirement already satisfied: ipython-genutils in c:\\users\\maltanno\\anaconda3\\lib\\site-packages (from traitlets>=4.2->IPython->astetik->talos) (0.2.0)\n",
      "Requirement already satisfied: matplotlib>=2.2 in c:\\users\\maltanno\\anaconda3\\lib\\site-packages (from seaborn->astetik->talos) (3.3.4)\n",
      "Requirement already satisfied: pillow>=6.2.0 in c:\\users\\maltanno\\anaconda3\\lib\\site-packages (from matplotlib>=2.2->seaborn->astetik->talos) (8.1.2)\n",
      "Requirement already satisfied: cycler>=0.10 in c:\\users\\maltanno\\anaconda3\\lib\\site-packages (from matplotlib>=2.2->seaborn->astetik->talos) (0.10.0)\n",
      "Requirement already satisfied: pyparsing!=2.0.4,!=2.1.2,!=2.1.6,>=2.0.3 in c:\\users\\maltanno\\anaconda3\\lib\\site-packages (from matplotlib>=2.2->seaborn->astetik->talos) (2.4.7)\n",
      "Requirement already satisfied: kiwisolver>=1.0.1 in c:\\users\\maltanno\\anaconda3\\lib\\site-packages (from matplotlib>=2.2->seaborn->astetik->talos) (1.3.1)\n",
      "Requirement already satisfied: scikit-learn in c:\\users\\maltanno\\anaconda3\\lib\\site-packages (from sklearn->talos) (0.24.1)\n",
      "Requirement already satisfied: threadpoolctl>=2.0.0 in c:\\users\\maltanno\\anaconda3\\lib\\site-packages (from scikit-learn->sklearn->talos) (2.1.0)\n",
      "Requirement already satisfied: joblib>=0.11 in c:\\users\\maltanno\\anaconda3\\lib\\site-packages (from scikit-learn->sklearn->talos) (1.0.1)\n",
      "Collecting scipy>=1.1\n",
      "  Downloading scipy-1.2.0-cp37-cp37m-win_amd64.whl (31.7 MB)\n",
      "Requirement already satisfied: keras in c:\\users\\maltanno\\anaconda3\\lib\\site-packages (from wrangle->talos) (2.4.3)\n",
      "Requirement already satisfied: pyyaml in c:\\users\\maltanno\\anaconda3\\lib\\site-packages (from keras->wrangle->talos) (5.4.1)\n",
      "Building wheels for collected packages: chances, kerasplotlib, sklearn, wrangle\n",
      "  Building wheel for chances (setup.py): started\n",
      "  Building wheel for chances (setup.py): finished with status 'done'\n",
      "  Created wheel for chances: filename=chances-0.1.9-py3-none-any.whl size=41608 sha256=17f41ac5354ce6e35cf92c31cee1bcb9949291cb939f8e3fc9e8d97c64ea3ad9\n",
      "  Stored in directory: c:\\users\\maltanno\\appdata\\local\\pip\\cache\\wheels\\f3\\2e\\7e\\316f7da11ccf2195ff05e4a0186a4b5975be9bd0b0004198b6\n",
      "  Building wheel for kerasplotlib (setup.py): started\n",
      "  Building wheel for kerasplotlib (setup.py): finished with status 'done'\n",
      "  Created wheel for kerasplotlib: filename=kerasplotlib-0.1.6-py3-none-any.whl size=3601 sha256=d91b9d38372b4f8e3f3c99b626da0d6684a3f0e6e874700bba90f3953fe9bad6\n",
      "  Stored in directory: c:\\users\\maltanno\\appdata\\local\\pip\\cache\\wheels\\1c\\b4\\c8\\d1533d85f7fc617e3201c3f41b79fe49ae9284c8fc4a5bd4b2\n",
      "  Building wheel for sklearn (setup.py): started\n",
      "  Building wheel for sklearn (setup.py): finished with status 'done'\n",
      "  Created wheel for sklearn: filename=sklearn-0.0-py2.py3-none-any.whl size=1316 sha256=bfe457244dba893c7b9367bc586283ff58d6d3ef31661e8d710131f1b04a279c\n",
      "  Stored in directory: c:\\users\\maltanno\\appdata\\local\\pip\\cache\\wheels\\46\\ef\\c3\\157e41f5ee1372d1be90b09f74f82b10e391eaacca8f22d33e\n",
      "  Building wheel for wrangle (setup.py): started\n",
      "  Building wheel for wrangle (setup.py): finished with status 'done'\n",
      "  Created wheel for wrangle: filename=wrangle-0.6.7-py3-none-any.whl size=49894 sha256=2aeeb9338e981fc47e7c622d2a939aa8b64e1abe57c326b9fb321f0d449d951d\n",
      "  Stored in directory: c:\\users\\maltanno\\appdata\\local\\pip\\cache\\wheels\\ed\\30\\6f\\0ef272d1dc45d60081669b1bb8b6122dd5107cd5afb29b2598\n",
      "Successfully built chances kerasplotlib sklearn wrangle\n",
      "Installing collected packages: scipy, sklearn, wrangle, geonamescache, kerasplotlib, chances, astetik, talos\n",
      "  Attempting uninstall: scipy\n",
      "    Found existing installation: scipy 1.6.1\n",
      "    Uninstalling scipy-1.6.1:\n",
      "      Successfully uninstalled scipy-1.6.1\n"
     ]
    }
   ],
   "source": [
    "pip install talos"
   ]
  },
  {
   "cell_type": "code",
   "execution_count": null,
   "id": "satisfied-neighbor",
   "metadata": {},
   "outputs": [],
   "source": []
  },
  {
   "cell_type": "code",
   "execution_count": 5,
   "id": "thick-writing",
   "metadata": {
    "ExecuteTime": {
     "end_time": "2021-04-18T11:15:12.598505Z",
     "start_time": "2021-04-18T11:15:12.579506Z"
    }
   },
   "outputs": [],
   "source": [
    "import numpy as np"
   ]
  },
  {
   "cell_type": "code",
   "execution_count": 11,
   "id": "silver-calgary",
   "metadata": {
    "ExecuteTime": {
     "end_time": "2021-04-18T11:17:06.881522Z",
     "start_time": "2021-04-18T11:17:06.854521Z"
    }
   },
   "outputs": [
    {
     "ename": "TypeError",
     "evalue": "unsupported operand type(s) for +: 'NoneType' and 'int'",
     "output_type": "error",
     "traceback": [
      "\u001b[1;31m---------------------------------------------------------------------------\u001b[0m",
      "\u001b[1;31mTypeError\u001b[0m                                 Traceback (most recent call last)",
      "\u001b[1;32m<ipython-input-11-d99757f71477>\u001b[0m in \u001b[0;36m<module>\u001b[1;34m\u001b[0m\n\u001b[0;32m      4\u001b[0m     \u001b[0myd\u001b[0m \u001b[1;33m=\u001b[0m \u001b[0mnp\u001b[0m\u001b[1;33m.\u001b[0m\u001b[0mmax\u001b[0m\u001b[1;33m(\u001b[0m\u001b[0mXd\u001b[0m\u001b[1;33m)\u001b[0m\u001b[1;33m+\u001b[0m\u001b[1;36m3\u001b[0m\u001b[1;33m\u001b[0m\u001b[1;33m\u001b[0m\u001b[0m\n\u001b[0;32m      5\u001b[0m     \u001b[1;32mfor\u001b[0m \u001b[0md\u001b[0m \u001b[1;32min\u001b[0m \u001b[0mrange\u001b[0m\u001b[1;33m(\u001b[0m\u001b[0mf\u001b[0m\u001b[1;33m)\u001b[0m\u001b[1;33m:\u001b[0m\u001b[1;33m\u001b[0m\u001b[1;33m\u001b[0m\u001b[0m\n\u001b[1;32m----> 6\u001b[1;33m         \u001b[0myd\u001b[0m \u001b[1;33m=\u001b[0m \u001b[0mnp\u001b[0m\u001b[1;33m.\u001b[0m\u001b[0mmax\u001b[0m\u001b[1;33m(\u001b[0m\u001b[0mXd\u001b[0m\u001b[1;33m)\u001b[0m\u001b[1;33m+\u001b[0m\u001b[1;36m3\u001b[0m\u001b[1;33m\u001b[0m\u001b[1;33m\u001b[0m\u001b[0m\n\u001b[0m\u001b[0;32m      7\u001b[0m         \u001b[0mXd\u001b[0m \u001b[1;33m=\u001b[0m \u001b[0mXd\u001b[0m\u001b[1;33m.\u001b[0m\u001b[0mappend\u001b[0m\u001b[1;33m(\u001b[0m\u001b[0myd\u001b[0m\u001b[1;33m)\u001b[0m\u001b[1;33m\u001b[0m\u001b[1;33m\u001b[0m\u001b[0m\n\u001b[0;32m      8\u001b[0m \u001b[0mXd\u001b[0m\u001b[1;33m\u001b[0m\u001b[1;33m\u001b[0m\u001b[0m\n",
      "\u001b[1;31mTypeError\u001b[0m: unsupported operand type(s) for +: 'NoneType' and 'int'"
     ]
    }
   ],
   "source": [
    "X_test =[0,1]\n",
    "for f in [1,2,4,7,12,17,22,27]:\n",
    "    Xd = X_test\n",
    "    yd = np.max(Xd)+3\n",
    "    for d in range(f):\n",
    "        yd = np.max(Xd)+3\n",
    "        Xd = Xd.append(yd)\n",
    "Xd"
   ]
  },
  {
   "cell_type": "code",
   "execution_count": 9,
   "id": "afraid-tracy",
   "metadata": {
    "ExecuteTime": {
     "end_time": "2021-04-18T11:16:41.091318Z",
     "start_time": "2021-04-18T11:16:41.083322Z"
    }
   },
   "outputs": [
    {
     "data": {
      "text/plain": [
       "4"
      ]
     },
     "execution_count": 9,
     "metadata": {},
     "output_type": "execute_result"
    }
   ],
   "source": [
    "yd"
   ]
  },
  {
   "cell_type": "code",
   "execution_count": null,
   "id": "entire-essence",
   "metadata": {},
   "outputs": [],
   "source": []
  },
  {
   "cell_type": "code",
   "execution_count": null,
   "id": "impressive-retreat",
   "metadata": {},
   "outputs": [],
   "source": []
  },
  {
   "cell_type": "code",
   "execution_count": 1,
   "id": "natural-conviction",
   "metadata": {
    "ExecuteTime": {
     "end_time": "2021-04-18T11:13:02.639639Z",
     "start_time": "2021-04-18T11:13:02.513637Z"
    }
   },
   "outputs": [
    {
     "data": {
      "text/plain": [
       "[45, 45, 23, 56, 23]"
      ]
     },
     "execution_count": 1,
     "metadata": {},
     "output_type": "execute_result"
    }
   ],
   "source": [
    "a = [45,45,23]\n",
    "b= [56,23]\n",
    "a+b"
   ]
  },
  {
   "cell_type": "code",
   "execution_count": null,
   "id": "placed-halifax",
   "metadata": {},
   "outputs": [],
   "source": []
  },
  {
   "cell_type": "code",
   "execution_count": 12,
   "id": "criminal-education",
   "metadata": {
    "ExecuteTime": {
     "end_time": "2021-04-19T10:55:50.649468Z",
     "start_time": "2021-04-19T10:55:50.634469Z"
    }
   },
   "outputs": [
    {
     "name": "stdout",
     "output_type": "stream",
     "text": [
      "0\n"
     ]
    }
   ],
   "source": [
    "for x in range(0,1):\n",
    "    print(x)"
   ]
  },
  {
   "cell_type": "code",
   "execution_count": null,
   "id": "signal-playing",
   "metadata": {},
   "outputs": [],
   "source": []
  },
  {
   "cell_type": "code",
   "execution_count": null,
   "id": "answering-agency",
   "metadata": {},
   "outputs": [],
   "source": []
  }
 ],
 "metadata": {
  "kernelspec": {
   "display_name": "Python 3",
   "language": "python",
   "name": "python3"
  },
  "language_info": {
   "codemirror_mode": {
    "name": "ipython",
    "version": 3
   },
   "file_extension": ".py",
   "mimetype": "text/x-python",
   "name": "python",
   "nbconvert_exporter": "python",
   "pygments_lexer": "ipython3",
   "version": "3.7.9"
  },
  "toc": {
   "base_numbering": 1,
   "nav_menu": {},
   "number_sections": false,
   "sideBar": true,
   "skip_h1_title": true,
   "title_cell": "Table of Contents",
   "title_sidebar": "Contents",
   "toc_cell": false,
   "toc_position": {},
   "toc_section_display": true,
   "toc_window_display": true
  },
  "varInspector": {
   "cols": {
    "lenName": 16,
    "lenType": 16,
    "lenVar": 40
   },
   "kernels_config": {
    "python": {
     "delete_cmd_postfix": "",
     "delete_cmd_prefix": "del ",
     "library": "var_list.py",
     "varRefreshCmd": "print(var_dic_list())"
    },
    "r": {
     "delete_cmd_postfix": ") ",
     "delete_cmd_prefix": "rm(",
     "library": "var_list.r",
     "varRefreshCmd": "cat(var_dic_list()) "
    }
   },
   "types_to_exclude": [
    "module",
    "function",
    "builtin_function_or_method",
    "instance",
    "_Feature"
   ],
   "window_display": false
  }
 },
 "nbformat": 4,
 "nbformat_minor": 5
}

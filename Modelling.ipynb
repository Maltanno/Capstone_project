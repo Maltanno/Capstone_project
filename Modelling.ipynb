{
 "cells": [
  {
   "cell_type": "code",
   "execution_count": 296,
   "id": "complimentary-default",
   "metadata": {
    "ExecuteTime": {
     "end_time": "2021-03-30T10:22:36.502969Z",
     "start_time": "2021-03-30T10:22:36.481975Z"
    }
   },
   "outputs": [],
   "source": [
    "import pandas as pd\n",
    "import numpy as np\n",
    "import math\n",
    "import random\n",
    "from datetime import date, timedelta\n",
    "\n",
    "from surprise import Reader\n",
    "from surprise import Dataset\n",
    "from surprise.model_selection import cross_validate as CV\n",
    "from surprise.model_selection import GridSearchCV as GSCV\n",
    "from surprise.model_selection import train_test_split as TTS\n",
    "from surprise.prediction_algorithms import SVD, SVDpp\n",
    "from surprise.accuracy import rmse\n",
    "\n",
    "from sklearn.neighbors import NearestNeighbors as NN\n",
    "from sklearn.preprocessing import StandardScaler as SS\n",
    "from sklearn.metrics import mean_squared_error as MSE\n",
    "\n",
    "\n",
    "np.seed = 42"
   ]
  },
  {
   "cell_type": "markdown",
   "id": "floral-kennedy",
   "metadata": {},
   "source": [
    "Note:   \n",
    "Try also:     \n",
    "biased = False   \n",
    "SVD++ -but probably worse    "
   ]
  },
  {
   "cell_type": "markdown",
   "id": "central-death",
   "metadata": {},
   "source": [
    "## Initial Model\n",
    "SVD on the value-change data"
   ]
  },
  {
   "cell_type": "code",
   "execution_count": 4,
   "id": "human-antique",
   "metadata": {
    "ExecuteTime": {
     "end_time": "2021-03-26T20:07:08.134927Z",
     "start_time": "2021-03-26T20:07:04.572405Z"
    },
    "scrolled": true
   },
   "outputs": [
    {
     "data": {
      "text/html": [
       "<div>\n",
       "<style scoped>\n",
       "    .dataframe tbody tr th:only-of-type {\n",
       "        vertical-align: middle;\n",
       "    }\n",
       "\n",
       "    .dataframe tbody tr th {\n",
       "        vertical-align: top;\n",
       "    }\n",
       "\n",
       "    .dataframe thead th {\n",
       "        text-align: right;\n",
       "    }\n",
       "</style>\n",
       "<table border=\"1\" class=\"dataframe\">\n",
       "  <thead>\n",
       "    <tr style=\"text-align: right;\">\n",
       "      <th></th>\n",
       "      <th>A</th>\n",
       "      <th>AA</th>\n",
       "      <th>AAIC</th>\n",
       "      <th>AAN</th>\n",
       "      <th>AAP</th>\n",
       "      <th>AAT</th>\n",
       "      <th>AB</th>\n",
       "      <th>ABB</th>\n",
       "      <th>ABBV</th>\n",
       "      <th>ABC</th>\n",
       "      <th>...</th>\n",
       "      <th>K</th>\n",
       "      <th>KAI</th>\n",
       "      <th>KAMN</th>\n",
       "      <th>KAR</th>\n",
       "      <th>KB</th>\n",
       "      <th>KBH</th>\n",
       "      <th>KBR</th>\n",
       "      <th>KEN</th>\n",
       "      <th>KEP</th>\n",
       "      <th>KEX</th>\n",
       "    </tr>\n",
       "  </thead>\n",
       "  <tbody>\n",
       "    <tr>\n",
       "      <th>1999-11-01</th>\n",
       "      <td>NaN</td>\n",
       "      <td>NaN</td>\n",
       "      <td>0.25</td>\n",
       "      <td>NaN</td>\n",
       "      <td>NaN</td>\n",
       "      <td>NaN</td>\n",
       "      <td>0.87</td>\n",
       "      <td>NaN</td>\n",
       "      <td>NaN</td>\n",
       "      <td>-1.44</td>\n",
       "      <td>...</td>\n",
       "      <td>-1.18</td>\n",
       "      <td>-0.06</td>\n",
       "      <td>-0.44</td>\n",
       "      <td>NaN</td>\n",
       "      <td>NaN</td>\n",
       "      <td>-0.81</td>\n",
       "      <td>NaN</td>\n",
       "      <td>NaN</td>\n",
       "      <td>0.50</td>\n",
       "      <td>-0.31</td>\n",
       "    </tr>\n",
       "    <tr>\n",
       "      <th>1999-11-02</th>\n",
       "      <td>NaN</td>\n",
       "      <td>NaN</td>\n",
       "      <td>0.25</td>\n",
       "      <td>NaN</td>\n",
       "      <td>NaN</td>\n",
       "      <td>NaN</td>\n",
       "      <td>2.69</td>\n",
       "      <td>NaN</td>\n",
       "      <td>NaN</td>\n",
       "      <td>0.00</td>\n",
       "      <td>...</td>\n",
       "      <td>-0.82</td>\n",
       "      <td>-0.06</td>\n",
       "      <td>-0.28</td>\n",
       "      <td>NaN</td>\n",
       "      <td>NaN</td>\n",
       "      <td>0.50</td>\n",
       "      <td>NaN</td>\n",
       "      <td>NaN</td>\n",
       "      <td>0.44</td>\n",
       "      <td>-0.37</td>\n",
       "    </tr>\n",
       "    <tr>\n",
       "      <th>1999-11-03</th>\n",
       "      <td>NaN</td>\n",
       "      <td>NaN</td>\n",
       "      <td>-0.13</td>\n",
       "      <td>NaN</td>\n",
       "      <td>NaN</td>\n",
       "      <td>NaN</td>\n",
       "      <td>-1.44</td>\n",
       "      <td>NaN</td>\n",
       "      <td>NaN</td>\n",
       "      <td>-0.76</td>\n",
       "      <td>...</td>\n",
       "      <td>-0.56</td>\n",
       "      <td>0.00</td>\n",
       "      <td>0.47</td>\n",
       "      <td>NaN</td>\n",
       "      <td>NaN</td>\n",
       "      <td>-0.12</td>\n",
       "      <td>NaN</td>\n",
       "      <td>NaN</td>\n",
       "      <td>0.63</td>\n",
       "      <td>0.06</td>\n",
       "    </tr>\n",
       "    <tr>\n",
       "      <th>1999-11-04</th>\n",
       "      <td>NaN</td>\n",
       "      <td>NaN</td>\n",
       "      <td>0.13</td>\n",
       "      <td>NaN</td>\n",
       "      <td>NaN</td>\n",
       "      <td>NaN</td>\n",
       "      <td>0.81</td>\n",
       "      <td>NaN</td>\n",
       "      <td>NaN</td>\n",
       "      <td>-0.25</td>\n",
       "      <td>...</td>\n",
       "      <td>-1.19</td>\n",
       "      <td>0.06</td>\n",
       "      <td>0.13</td>\n",
       "      <td>NaN</td>\n",
       "      <td>NaN</td>\n",
       "      <td>0.06</td>\n",
       "      <td>NaN</td>\n",
       "      <td>NaN</td>\n",
       "      <td>-0.50</td>\n",
       "      <td>-0.43</td>\n",
       "    </tr>\n",
       "    <tr>\n",
       "      <th>1999-11-05</th>\n",
       "      <td>NaN</td>\n",
       "      <td>NaN</td>\n",
       "      <td>0.25</td>\n",
       "      <td>NaN</td>\n",
       "      <td>NaN</td>\n",
       "      <td>NaN</td>\n",
       "      <td>0.07</td>\n",
       "      <td>NaN</td>\n",
       "      <td>NaN</td>\n",
       "      <td>-0.38</td>\n",
       "      <td>...</td>\n",
       "      <td>-0.25</td>\n",
       "      <td>-0.06</td>\n",
       "      <td>0.66</td>\n",
       "      <td>NaN</td>\n",
       "      <td>NaN</td>\n",
       "      <td>1.19</td>\n",
       "      <td>NaN</td>\n",
       "      <td>NaN</td>\n",
       "      <td>-0.38</td>\n",
       "      <td>-0.06</td>\n",
       "    </tr>\n",
       "  </tbody>\n",
       "</table>\n",
       "<p>5 rows × 1310 columns</p>\n",
       "</div>"
      ],
      "text/plain": [
       "             A  AA  AAIC  AAN  AAP  AAT    AB  ABB  ABBV   ABC  ...     K  \\\n",
       "1999-11-01 NaN NaN  0.25  NaN  NaN  NaN  0.87  NaN   NaN -1.44  ... -1.18   \n",
       "1999-11-02 NaN NaN  0.25  NaN  NaN  NaN  2.69  NaN   NaN  0.00  ... -0.82   \n",
       "1999-11-03 NaN NaN -0.13  NaN  NaN  NaN -1.44  NaN   NaN -0.76  ... -0.56   \n",
       "1999-11-04 NaN NaN  0.13  NaN  NaN  NaN  0.81  NaN   NaN -0.25  ... -1.19   \n",
       "1999-11-05 NaN NaN  0.25  NaN  NaN  NaN  0.07  NaN   NaN -0.38  ... -0.25   \n",
       "\n",
       "             KAI  KAMN  KAR  KB   KBH  KBR  KEN   KEP   KEX  \n",
       "1999-11-01 -0.06 -0.44  NaN NaN -0.81  NaN  NaN  0.50 -0.31  \n",
       "1999-11-02 -0.06 -0.28  NaN NaN  0.50  NaN  NaN  0.44 -0.37  \n",
       "1999-11-03  0.00  0.47  NaN NaN -0.12  NaN  NaN  0.63  0.06  \n",
       "1999-11-04  0.06  0.13  NaN NaN  0.06  NaN  NaN -0.50 -0.43  \n",
       "1999-11-05 -0.06  0.66  NaN NaN  1.19  NaN  NaN -0.38 -0.06  \n",
       "\n",
       "[5 rows x 1310 columns]"
      ]
     },
     "execution_count": 4,
     "metadata": {},
     "output_type": "execute_result"
    }
   ],
   "source": [
    "df = pd.read_csv('change.csv', index_col=0)\n",
    "df.head()"
   ]
  },
  {
   "cell_type": "code",
   "execution_count": 5,
   "id": "fatal-albany",
   "metadata": {
    "ExecuteTime": {
     "end_time": "2021-03-26T20:07:08.357927Z",
     "start_time": "2021-03-26T20:07:08.343927Z"
    }
   },
   "outputs": [],
   "source": [
    "syms = df.columns"
   ]
  },
  {
   "cell_type": "code",
   "execution_count": 10,
   "id": "identified-coast",
   "metadata": {
    "ExecuteTime": {
     "end_time": "2021-03-24T17:07:59.997523Z",
     "start_time": "2021-03-24T17:07:59.980516Z"
    },
    "scrolled": true
   },
   "outputs": [
    {
     "data": {
      "text/plain": [
       "Index(['A', 'AA', 'AAIC', 'AAN', 'AAP', 'AAT', 'AB', 'ABB', 'ABBV', 'ABC',\n",
       "       ...\n",
       "       'K', 'KAI', 'KAMN', 'KAR', 'KB', 'KBH', 'KBR', 'KEN', 'KEP', 'KEX'],\n",
       "      dtype='object', length=1310)"
      ]
     },
     "execution_count": 10,
     "metadata": {},
     "output_type": "execute_result"
    }
   ],
   "source": [
    "syms"
   ]
  },
  {
   "cell_type": "code",
   "execution_count": 1,
   "id": "previous-stanley",
   "metadata": {
    "ExecuteTime": {
     "end_time": "2021-03-26T07:35:10.166427Z",
     "start_time": "2021-03-26T07:35:10.151043Z"
    }
   },
   "outputs": [],
   "source": [
    "def surprisify(df):\n",
    "    syms = df.columns\n",
    "    symID = []\n",
    "    dateID = []\n",
    "    value = []\n",
    "\n",
    "    for sym in syms:\n",
    "        for row in df[sym].iteritems():\n",
    "            if not math.isnan(row[1]):\n",
    "                symID.append(sym)\n",
    "                dateID.append(row[0])\n",
    "                value.append(row[1])\n",
    "                \n",
    "    sur_dict = {'symID': symID,\n",
    "              'dateID': dateID,\n",
    "              'value': value\n",
    "              }\n",
    "    sur_df = pd.DataFrame(sur_dict)\n",
    "    return sur_df"
   ]
  },
  {
   "cell_type": "code",
   "execution_count": 6,
   "id": "parental-situation",
   "metadata": {
    "ExecuteTime": {
     "end_time": "2021-03-26T20:08:15.599188Z",
     "start_time": "2021-03-26T20:08:03.738152Z"
    }
   },
   "outputs": [],
   "source": [
    "sur_df = surprisify(df)"
   ]
  },
  {
   "cell_type": "code",
   "execution_count": 7,
   "id": "theoretical-greenhouse",
   "metadata": {
    "ExecuteTime": {
     "end_time": "2021-03-26T20:08:22.657155Z",
     "start_time": "2021-03-26T20:08:22.630154Z"
    },
    "scrolled": true
   },
   "outputs": [
    {
     "data": {
      "text/plain": [
       "4268702"
      ]
     },
     "execution_count": 7,
     "metadata": {},
     "output_type": "execute_result"
    }
   ],
   "source": [
    "len(sur_df)"
   ]
  },
  {
   "cell_type": "code",
   "execution_count": 62,
   "id": "bound-certification",
   "metadata": {
    "ExecuteTime": {
     "end_time": "2021-03-26T20:54:54.021790Z",
     "start_time": "2021-03-26T20:54:51.002030Z"
    }
   },
   "outputs": [
    {
     "name": "stdout",
     "output_type": "stream",
     "text": [
      "172.01\n",
      "-151.59000000000017\n"
     ]
    }
   ],
   "source": [
    "print(max(sur_df.value))\n",
    "print(min(sur_df.value))"
   ]
  },
  {
   "cell_type": "code",
   "execution_count": 104,
   "id": "present-culture",
   "metadata": {
    "ExecuteTime": {
     "end_time": "2021-03-29T15:28:01.974650Z",
     "start_time": "2021-03-29T15:28:01.960645Z"
    }
   },
   "outputs": [],
   "source": [
    "def readify(df):\n",
    "    ma = max(df.value)\n",
    "    mi = min(df.value)\n",
    "    reader = Reader(rating_scale=(mi, ma))\n",
    "    data = Dataset.load_from_df(df[['dateID', 'symID', 'value']], reader)\n",
    "    return data"
   ]
  },
  {
   "cell_type": "code",
   "execution_count": 101,
   "id": "tribal-custom",
   "metadata": {
    "ExecuteTime": {
     "end_time": "2021-03-29T15:07:31.509386Z",
     "start_time": "2021-03-29T15:07:12.003214Z"
    }
   },
   "outputs": [],
   "source": [
    "ma = max(sur_df.value)\n",
    "mi = min(sur_df.value)\n",
    "reader = Reader(rating_scale=(mi, ma))\n",
    "data = Dataset.load_from_df(sur_df[['dateID', 'symID', 'value']], reader)"
   ]
  },
  {
   "cell_type": "code",
   "execution_count": 102,
   "id": "higher-surgery",
   "metadata": {
    "ExecuteTime": {
     "end_time": "2021-03-29T15:21:29.395058Z",
     "start_time": "2021-03-29T15:10:49.704105Z"
    },
    "scrolled": true
   },
   "outputs": [
    {
     "name": "stdout",
     "output_type": "stream",
     "text": [
      "RMSE: 0.9351\n"
     ]
    },
    {
     "data": {
      "text/plain": [
       "0.9350791967812728"
      ]
     },
     "execution_count": 102,
     "metadata": {},
     "output_type": "execute_result"
    }
   ],
   "source": [
    "#data = readify(sur_df)\n",
    "train, test = TTS(data, test_size = 0.25)\n",
    "algo = SVD()\n",
    "algo.fit(train)\n",
    "preds = algo.test(test)\n",
    "\n",
    "rmse(preds)"
   ]
  },
  {
   "cell_type": "code",
   "execution_count": 105,
   "id": "sound-composition",
   "metadata": {
    "ExecuteTime": {
     "end_time": "2021-03-29T15:40:17.854374Z",
     "start_time": "2021-03-29T15:28:16.485240Z"
    }
   },
   "outputs": [
    {
     "name": "stdout",
     "output_type": "stream",
     "text": [
      "RMSE: 0.9249\n"
     ]
    },
    {
     "data": {
      "text/plain": [
       "0.9248982429606476"
      ]
     },
     "execution_count": 105,
     "metadata": {},
     "output_type": "execute_result"
    }
   ],
   "source": [
    "data = readify(sur_df)\n",
    "train, test = TTS(data, test_size = 0.25)\n",
    "algo = SVD()\n",
    "algo.fit(train)\n",
    "preds = algo.test(test)\n",
    "\n",
    "rmse(preds)"
   ]
  },
  {
   "cell_type": "code",
   "execution_count": 85,
   "id": "solar-republican",
   "metadata": {
    "ExecuteTime": {
     "end_time": "2021-03-27T12:59:26.359758Z",
     "start_time": "2021-03-27T12:59:26.315754Z"
    }
   },
   "outputs": [
    {
     "data": {
      "text/plain": [
       "1.0791845595259724"
      ]
     },
     "execution_count": 85,
     "metadata": {},
     "output_type": "execute_result"
    }
   ],
   "source": [
    "sur_df.value.std()"
   ]
  },
  {
   "cell_type": "markdown",
   "id": "herbal-morris",
   "metadata": {},
   "source": [
    "### SVD on percentage change"
   ]
  },
  {
   "cell_type": "code",
   "execution_count": 71,
   "id": "bizarre-tractor",
   "metadata": {
    "ExecuteTime": {
     "end_time": "2021-03-27T12:30:24.091353Z",
     "start_time": "2021-03-27T12:30:18.466356Z"
    }
   },
   "outputs": [
    {
     "data": {
      "text/html": [
       "<div>\n",
       "<style scoped>\n",
       "    .dataframe tbody tr th:only-of-type {\n",
       "        vertical-align: middle;\n",
       "    }\n",
       "\n",
       "    .dataframe tbody tr th {\n",
       "        vertical-align: top;\n",
       "    }\n",
       "\n",
       "    .dataframe thead th {\n",
       "        text-align: right;\n",
       "    }\n",
       "</style>\n",
       "<table border=\"1\" class=\"dataframe\">\n",
       "  <thead>\n",
       "    <tr style=\"text-align: right;\">\n",
       "      <th></th>\n",
       "      <th>A</th>\n",
       "      <th>AA</th>\n",
       "      <th>AAIC</th>\n",
       "      <th>AAN</th>\n",
       "      <th>AAP</th>\n",
       "      <th>AAT</th>\n",
       "      <th>AB</th>\n",
       "      <th>ABB</th>\n",
       "      <th>ABBV</th>\n",
       "      <th>ABC</th>\n",
       "      <th>...</th>\n",
       "      <th>K</th>\n",
       "      <th>KAI</th>\n",
       "      <th>KAMN</th>\n",
       "      <th>KAR</th>\n",
       "      <th>KB</th>\n",
       "      <th>KBH</th>\n",
       "      <th>KBR</th>\n",
       "      <th>KEN</th>\n",
       "      <th>KEP</th>\n",
       "      <th>KEX</th>\n",
       "    </tr>\n",
       "  </thead>\n",
       "  <tbody>\n",
       "    <tr>\n",
       "      <th>1999-11-01</th>\n",
       "      <td>NaN</td>\n",
       "      <td>NaN</td>\n",
       "      <td>4.940711</td>\n",
       "      <td>NaN</td>\n",
       "      <td>NaN</td>\n",
       "      <td>NaN</td>\n",
       "      <td>3.120516</td>\n",
       "      <td>NaN</td>\n",
       "      <td>NaN</td>\n",
       "      <td>-9.517515</td>\n",
       "      <td>...</td>\n",
       "      <td>-2.982811</td>\n",
       "      <td>-0.849858</td>\n",
       "      <td>-4.000000</td>\n",
       "      <td>NaN</td>\n",
       "      <td>NaN</td>\n",
       "      <td>-3.681818</td>\n",
       "      <td>NaN</td>\n",
       "      <td>NaN</td>\n",
       "      <td>3.052503</td>\n",
       "      <td>-1.722222</td>\n",
       "    </tr>\n",
       "    <tr>\n",
       "      <th>1999-11-02</th>\n",
       "      <td>NaN</td>\n",
       "      <td>NaN</td>\n",
       "      <td>4.646840</td>\n",
       "      <td>NaN</td>\n",
       "      <td>NaN</td>\n",
       "      <td>NaN</td>\n",
       "      <td>9.356522</td>\n",
       "      <td>NaN</td>\n",
       "      <td>NaN</td>\n",
       "      <td>0.000000</td>\n",
       "      <td>...</td>\n",
       "      <td>-2.136529</td>\n",
       "      <td>-0.849858</td>\n",
       "      <td>-2.583026</td>\n",
       "      <td>NaN</td>\n",
       "      <td>NaN</td>\n",
       "      <td>2.359604</td>\n",
       "      <td>NaN</td>\n",
       "      <td>NaN</td>\n",
       "      <td>2.550725</td>\n",
       "      <td>-2.107062</td>\n",
       "    </tr>\n",
       "    <tr>\n",
       "      <th>1999-11-03</th>\n",
       "      <td>NaN</td>\n",
       "      <td>NaN</td>\n",
       "      <td>-2.284710</td>\n",
       "      <td>NaN</td>\n",
       "      <td>NaN</td>\n",
       "      <td>NaN</td>\n",
       "      <td>-4.438964</td>\n",
       "      <td>NaN</td>\n",
       "      <td>NaN</td>\n",
       "      <td>-5.475504</td>\n",
       "      <td>...</td>\n",
       "      <td>-1.493333</td>\n",
       "      <td>0.000000</td>\n",
       "      <td>4.359926</td>\n",
       "      <td>NaN</td>\n",
       "      <td>NaN</td>\n",
       "      <td>-0.551724</td>\n",
       "      <td>NaN</td>\n",
       "      <td>NaN</td>\n",
       "      <td>3.537339</td>\n",
       "      <td>0.349040</td>\n",
       "    </tr>\n",
       "    <tr>\n",
       "      <th>1999-11-04</th>\n",
       "      <td>NaN</td>\n",
       "      <td>NaN</td>\n",
       "      <td>2.338129</td>\n",
       "      <td>NaN</td>\n",
       "      <td>NaN</td>\n",
       "      <td>NaN</td>\n",
       "      <td>2.571429</td>\n",
       "      <td>NaN</td>\n",
       "      <td>NaN</td>\n",
       "      <td>-1.886792</td>\n",
       "      <td>...</td>\n",
       "      <td>-3.238095</td>\n",
       "      <td>0.872093</td>\n",
       "      <td>1.155556</td>\n",
       "      <td>NaN</td>\n",
       "      <td>NaN</td>\n",
       "      <td>0.272727</td>\n",
       "      <td>NaN</td>\n",
       "      <td>NaN</td>\n",
       "      <td>-2.547122</td>\n",
       "      <td>-2.484113</td>\n",
       "    </tr>\n",
       "    <tr>\n",
       "      <th>1999-11-05</th>\n",
       "      <td>NaN</td>\n",
       "      <td>NaN</td>\n",
       "      <td>4.347826</td>\n",
       "      <td>NaN</td>\n",
       "      <td>NaN</td>\n",
       "      <td>NaN</td>\n",
       "      <td>0.214988</td>\n",
       "      <td>NaN</td>\n",
       "      <td>NaN</td>\n",
       "      <td>-2.923077</td>\n",
       "      <td>...</td>\n",
       "      <td>-0.701656</td>\n",
       "      <td>-0.864553</td>\n",
       "      <td>5.851064</td>\n",
       "      <td>NaN</td>\n",
       "      <td>NaN</td>\n",
       "      <td>5.274823</td>\n",
       "      <td>NaN</td>\n",
       "      <td>NaN</td>\n",
       "      <td>-2.060738</td>\n",
       "      <td>-0.352941</td>\n",
       "    </tr>\n",
       "  </tbody>\n",
       "</table>\n",
       "<p>5 rows × 1310 columns</p>\n",
       "</div>"
      ],
      "text/plain": [
       "             A  AA      AAIC  AAN  AAP  AAT        AB  ABB  ABBV       ABC  \\\n",
       "1999-11-01 NaN NaN  4.940711  NaN  NaN  NaN  3.120516  NaN   NaN -9.517515   \n",
       "1999-11-02 NaN NaN  4.646840  NaN  NaN  NaN  9.356522  NaN   NaN  0.000000   \n",
       "1999-11-03 NaN NaN -2.284710  NaN  NaN  NaN -4.438964  NaN   NaN -5.475504   \n",
       "1999-11-04 NaN NaN  2.338129  NaN  NaN  NaN  2.571429  NaN   NaN -1.886792   \n",
       "1999-11-05 NaN NaN  4.347826  NaN  NaN  NaN  0.214988  NaN   NaN -2.923077   \n",
       "\n",
       "            ...         K       KAI      KAMN  KAR  KB       KBH  KBR  KEN  \\\n",
       "1999-11-01  ... -2.982811 -0.849858 -4.000000  NaN NaN -3.681818  NaN  NaN   \n",
       "1999-11-02  ... -2.136529 -0.849858 -2.583026  NaN NaN  2.359604  NaN  NaN   \n",
       "1999-11-03  ... -1.493333  0.000000  4.359926  NaN NaN -0.551724  NaN  NaN   \n",
       "1999-11-04  ... -3.238095  0.872093  1.155556  NaN NaN  0.272727  NaN  NaN   \n",
       "1999-11-05  ... -0.701656 -0.864553  5.851064  NaN NaN  5.274823  NaN  NaN   \n",
       "\n",
       "                 KEP       KEX  \n",
       "1999-11-01  3.052503 -1.722222  \n",
       "1999-11-02  2.550725 -2.107062  \n",
       "1999-11-03  3.537339  0.349040  \n",
       "1999-11-04 -2.547122 -2.484113  \n",
       "1999-11-05 -2.060738 -0.352941  \n",
       "\n",
       "[5 rows x 1310 columns]"
      ]
     },
     "execution_count": 71,
     "metadata": {},
     "output_type": "execute_result"
    }
   ],
   "source": [
    "pc_df = pd.read_csv('percent_change.csv', index_col=0)\n",
    "pc_df.head()"
   ]
  },
  {
   "cell_type": "code",
   "execution_count": 72,
   "id": "constant-talent",
   "metadata": {
    "ExecuteTime": {
     "end_time": "2021-03-27T12:31:42.413629Z",
     "start_time": "2021-03-27T12:31:27.295406Z"
    }
   },
   "outputs": [
    {
     "data": {
      "text/html": [
       "<div>\n",
       "<style scoped>\n",
       "    .dataframe tbody tr th:only-of-type {\n",
       "        vertical-align: middle;\n",
       "    }\n",
       "\n",
       "    .dataframe tbody tr th {\n",
       "        vertical-align: top;\n",
       "    }\n",
       "\n",
       "    .dataframe thead th {\n",
       "        text-align: right;\n",
       "    }\n",
       "</style>\n",
       "<table border=\"1\" class=\"dataframe\">\n",
       "  <thead>\n",
       "    <tr style=\"text-align: right;\">\n",
       "      <th></th>\n",
       "      <th>symID</th>\n",
       "      <th>dateID</th>\n",
       "      <th>value</th>\n",
       "    </tr>\n",
       "  </thead>\n",
       "  <tbody>\n",
       "    <tr>\n",
       "      <th>0</th>\n",
       "      <td>A</td>\n",
       "      <td>1999-11-18</td>\n",
       "      <td>-3.296703</td>\n",
       "    </tr>\n",
       "    <tr>\n",
       "      <th>1</th>\n",
       "      <td>A</td>\n",
       "      <td>1999-11-19</td>\n",
       "      <td>-5.961807</td>\n",
       "    </tr>\n",
       "    <tr>\n",
       "      <th>2</th>\n",
       "      <td>A</td>\n",
       "      <td>1999-11-22</td>\n",
       "      <td>6.511740</td>\n",
       "    </tr>\n",
       "    <tr>\n",
       "      <th>3</th>\n",
       "      <td>A</td>\n",
       "      <td>1999-11-23</td>\n",
       "      <td>-5.294118</td>\n",
       "    </tr>\n",
       "    <tr>\n",
       "      <th>4</th>\n",
       "      <td>A</td>\n",
       "      <td>1999-11-24</td>\n",
       "      <td>2.317468</td>\n",
       "    </tr>\n",
       "  </tbody>\n",
       "</table>\n",
       "</div>"
      ],
      "text/plain": [
       "  symID      dateID     value\n",
       "0     A  1999-11-18 -3.296703\n",
       "1     A  1999-11-19 -5.961807\n",
       "2     A  1999-11-22  6.511740\n",
       "3     A  1999-11-23 -5.294118\n",
       "4     A  1999-11-24  2.317468"
      ]
     },
     "execution_count": 72,
     "metadata": {},
     "output_type": "execute_result"
    }
   ],
   "source": [
    "sur_pcdf = surprisify(pc_df)\n",
    "sur_pcdf.head()"
   ]
  },
  {
   "cell_type": "code",
   "execution_count": 91,
   "id": "russian-anthropology",
   "metadata": {
    "ExecuteTime": {
     "end_time": "2021-03-27T13:19:25.775672Z",
     "start_time": "2021-03-27T13:15:58.220193Z"
    }
   },
   "outputs": [
    {
     "name": "stdout",
     "output_type": "stream",
     "text": [
      "RMSE: 2.2489\n"
     ]
    },
    {
     "data": {
      "text/plain": [
       "2.2489349015690774"
      ]
     },
     "execution_count": 91,
     "metadata": {},
     "output_type": "execute_result"
    }
   ],
   "source": [
    "ma = max(sur_pcdf.value)\n",
    "mi = min(sur_pcdf.value)\n",
    "reader = Reader(rating_scale=(mi, ma))\n",
    "data = Dataset.load_from_df(sur_pcdf[['dateID', 'symID', 'value']], reader)\n",
    "train, test = TTS(data, test_size = 0.25)\n",
    "algo = SVD()\n",
    "algo.fit(train)\n",
    "preds = algo.test(test)\n",
    "rmse(preds)"
   ]
  },
  {
   "cell_type": "code",
   "execution_count": 84,
   "id": "homeless-championship",
   "metadata": {
    "ExecuteTime": {
     "end_time": "2021-03-27T12:59:10.825755Z",
     "start_time": "2021-03-27T12:59:10.790755Z"
    }
   },
   "outputs": [
    {
     "data": {
      "text/plain": [
       "2.3396620341091756"
      ]
     },
     "execution_count": 84,
     "metadata": {},
     "output_type": "execute_result"
    }
   ],
   "source": [
    "sur_pcdf.value.std()"
   ]
  },
  {
   "cell_type": "code",
   "execution_count": 87,
   "id": "gentle-activity",
   "metadata": {
    "ExecuteTime": {
     "end_time": "2021-03-27T13:03:19.848230Z",
     "start_time": "2021-03-27T13:03:19.827185Z"
    }
   },
   "outputs": [
    {
     "data": {
      "text/plain": [
       "(5382, 100)"
      ]
     },
     "execution_count": 87,
     "metadata": {},
     "output_type": "execute_result"
    }
   ],
   "source": [
    "algo.pu.shape"
   ]
  },
  {
   "cell_type": "code",
   "execution_count": 88,
   "id": "accurate-suicide",
   "metadata": {
    "ExecuteTime": {
     "end_time": "2021-03-27T13:04:37.455803Z",
     "start_time": "2021-03-27T13:04:37.425810Z"
    }
   },
   "outputs": [
    {
     "data": {
      "text/plain": [
       "array([ 0.32724222, -0.17112312, -0.14482898, -0.19676111, -0.61177941,\n",
       "       -0.04043862, -0.0596063 , -0.04582079, -0.37100417, -0.29101331,\n",
       "        0.00423587, -0.56929856, -0.14427849,  0.05842542, -0.00468503,\n",
       "        0.20014201, -0.00575569,  0.06437647, -0.23000374, -0.04599039,\n",
       "        0.42742323, -0.40292844,  0.18552409,  0.0656216 , -0.12046813,\n",
       "       -0.19203081, -0.33647796,  0.07588266, -0.03175989, -0.36092148,\n",
       "        0.05765124, -0.40853459, -0.17551208, -0.27035477, -0.0800951 ,\n",
       "        0.22687023, -0.18648973, -0.58957369,  0.29201327,  0.22552867,\n",
       "        0.29367648, -0.15139456,  0.27722866, -0.00545925, -0.38351509,\n",
       "       -0.11018775,  0.11501291,  0.26009605,  0.05024719, -0.20667209,\n",
       "        0.12395133,  0.44523993, -0.58493641,  0.12050439,  0.41889912,\n",
       "        0.20972228,  0.0889681 ,  0.10638516, -0.35311202,  0.20540077,\n",
       "       -0.26313919,  0.36572982,  0.24663976,  0.44654162,  0.04357456,\n",
       "       -0.0472553 ,  0.23486802,  0.1160844 ,  0.29720638,  0.34704085,\n",
       "        0.17644263, -0.22395108,  0.13042794, -0.07599135,  0.46525668,\n",
       "       -0.92662892,  0.44074833, -0.23623128,  0.28203895, -0.37206111,\n",
       "        0.13989732,  0.49743718, -0.25038543,  0.08150001, -0.25291904,\n",
       "        0.11185487,  0.24907414,  0.01786351,  0.3836459 , -0.03991282,\n",
       "       -0.06960495, -0.02752336,  0.25406731,  0.10146212, -0.08143702,\n",
       "        0.43137308, -0.35116493, -0.29304447,  0.28064171, -0.19531418])"
      ]
     },
     "execution_count": 88,
     "metadata": {},
     "output_type": "execute_result"
    }
   ],
   "source": [
    "algo.pu[0]"
   ]
  },
  {
   "cell_type": "code",
   "execution_count": null,
   "id": "protective-radio",
   "metadata": {},
   "outputs": [],
   "source": []
  },
  {
   "cell_type": "code",
   "execution_count": null,
   "id": "polar-authority",
   "metadata": {},
   "outputs": [],
   "source": []
  },
  {
   "cell_type": "code",
   "execution_count": null,
   "id": "trained-prescription",
   "metadata": {},
   "outputs": [],
   "source": []
  },
  {
   "cell_type": "code",
   "execution_count": null,
   "id": "excessive-enforcement",
   "metadata": {},
   "outputs": [],
   "source": []
  },
  {
   "cell_type": "markdown",
   "id": "adult-papua",
   "metadata": {},
   "source": [
    "## Proposition:\n",
    "Some days are similar to others. I.e. The factors affecting stocks on one day have previously been in a similar circumstance and the stocks will change in a similar manner as how they previously did.\n",
    "\n",
    "Issue:Performing SVD on the data at the end of the day is too late for making a prediction.   \n",
    "Solution: Use midday values to make a prediction.     \n",
    "Issue: May be able to get some midday results later, but currently would need to get a paid for account for the API\n",
    "   \n",
    "   \n",
    "\n",
    "## Testing \n",
    "\n",
    "How well can the results at the end of the day be predicted by those at midday?   \n",
    "The closest I can get, currently, to testing this is by grouping days into pairs and using the first day's change (acting as the midday change) to predict the total day-pair change (acting as whole day change).\n",
    "The main difference is that the underlying factors are more likely to change over two days than over one day."
   ]
  },
  {
   "cell_type": "code",
   "execution_count": 26,
   "id": "neither-prison",
   "metadata": {
    "ExecuteTime": {
     "end_time": "2021-03-26T20:21:14.074141Z",
     "start_time": "2021-03-26T20:21:06.908258Z"
    }
   },
   "outputs": [],
   "source": [
    "test_df = df.copy()\n",
    "dates = {}\n",
    "for row in range(len(test_df)-1):\n",
    "    dates[test_df.iloc[:,0].index[row]] = test_df.iloc[row] + test_df.iloc[row+1]"
   ]
  },
  {
   "cell_type": "code",
   "execution_count": 30,
   "id": "earned-barcelona",
   "metadata": {
    "ExecuteTime": {
     "end_time": "2021-03-26T20:24:10.218159Z",
     "start_time": "2021-03-26T20:24:09.434151Z"
    }
   },
   "outputs": [
    {
     "data": {
      "text/html": [
       "<div>\n",
       "<style scoped>\n",
       "    .dataframe tbody tr th:only-of-type {\n",
       "        vertical-align: middle;\n",
       "    }\n",
       "\n",
       "    .dataframe tbody tr th {\n",
       "        vertical-align: top;\n",
       "    }\n",
       "\n",
       "    .dataframe thead th {\n",
       "        text-align: right;\n",
       "    }\n",
       "</style>\n",
       "<table border=\"1\" class=\"dataframe\">\n",
       "  <thead>\n",
       "    <tr style=\"text-align: right;\">\n",
       "      <th></th>\n",
       "      <th>A</th>\n",
       "      <th>AA</th>\n",
       "      <th>AAIC</th>\n",
       "      <th>AAN</th>\n",
       "      <th>AAP</th>\n",
       "      <th>AAT</th>\n",
       "      <th>AB</th>\n",
       "      <th>ABB</th>\n",
       "      <th>ABBV</th>\n",
       "      <th>ABC</th>\n",
       "      <th>...</th>\n",
       "      <th>K</th>\n",
       "      <th>KAI</th>\n",
       "      <th>KAMN</th>\n",
       "      <th>KAR</th>\n",
       "      <th>KB</th>\n",
       "      <th>KBH</th>\n",
       "      <th>KBR</th>\n",
       "      <th>KEN</th>\n",
       "      <th>KEP</th>\n",
       "      <th>KEX</th>\n",
       "    </tr>\n",
       "  </thead>\n",
       "  <tbody>\n",
       "    <tr>\n",
       "      <th>1999-11-01</th>\n",
       "      <td>NaN</td>\n",
       "      <td>NaN</td>\n",
       "      <td>0.50</td>\n",
       "      <td>NaN</td>\n",
       "      <td>NaN</td>\n",
       "      <td>NaN</td>\n",
       "      <td>3.56</td>\n",
       "      <td>NaN</td>\n",
       "      <td>NaN</td>\n",
       "      <td>-1.44</td>\n",
       "      <td>...</td>\n",
       "      <td>-2.00</td>\n",
       "      <td>-0.12</td>\n",
       "      <td>-0.72</td>\n",
       "      <td>NaN</td>\n",
       "      <td>NaN</td>\n",
       "      <td>-0.31</td>\n",
       "      <td>NaN</td>\n",
       "      <td>NaN</td>\n",
       "      <td>0.94</td>\n",
       "      <td>-0.68</td>\n",
       "    </tr>\n",
       "    <tr>\n",
       "      <th>1999-11-02</th>\n",
       "      <td>NaN</td>\n",
       "      <td>NaN</td>\n",
       "      <td>0.12</td>\n",
       "      <td>NaN</td>\n",
       "      <td>NaN</td>\n",
       "      <td>NaN</td>\n",
       "      <td>1.25</td>\n",
       "      <td>NaN</td>\n",
       "      <td>NaN</td>\n",
       "      <td>-0.76</td>\n",
       "      <td>...</td>\n",
       "      <td>-1.38</td>\n",
       "      <td>-0.06</td>\n",
       "      <td>0.19</td>\n",
       "      <td>NaN</td>\n",
       "      <td>NaN</td>\n",
       "      <td>0.38</td>\n",
       "      <td>NaN</td>\n",
       "      <td>NaN</td>\n",
       "      <td>1.07</td>\n",
       "      <td>-0.31</td>\n",
       "    </tr>\n",
       "    <tr>\n",
       "      <th>1999-11-03</th>\n",
       "      <td>NaN</td>\n",
       "      <td>NaN</td>\n",
       "      <td>0.00</td>\n",
       "      <td>NaN</td>\n",
       "      <td>NaN</td>\n",
       "      <td>NaN</td>\n",
       "      <td>-0.63</td>\n",
       "      <td>NaN</td>\n",
       "      <td>NaN</td>\n",
       "      <td>-1.01</td>\n",
       "      <td>...</td>\n",
       "      <td>-1.75</td>\n",
       "      <td>0.06</td>\n",
       "      <td>0.60</td>\n",
       "      <td>NaN</td>\n",
       "      <td>NaN</td>\n",
       "      <td>-0.06</td>\n",
       "      <td>NaN</td>\n",
       "      <td>NaN</td>\n",
       "      <td>0.13</td>\n",
       "      <td>-0.37</td>\n",
       "    </tr>\n",
       "    <tr>\n",
       "      <th>1999-11-04</th>\n",
       "      <td>NaN</td>\n",
       "      <td>NaN</td>\n",
       "      <td>0.38</td>\n",
       "      <td>NaN</td>\n",
       "      <td>NaN</td>\n",
       "      <td>NaN</td>\n",
       "      <td>0.88</td>\n",
       "      <td>NaN</td>\n",
       "      <td>NaN</td>\n",
       "      <td>-0.63</td>\n",
       "      <td>...</td>\n",
       "      <td>-1.44</td>\n",
       "      <td>0.00</td>\n",
       "      <td>0.79</td>\n",
       "      <td>NaN</td>\n",
       "      <td>NaN</td>\n",
       "      <td>1.25</td>\n",
       "      <td>NaN</td>\n",
       "      <td>NaN</td>\n",
       "      <td>-0.88</td>\n",
       "      <td>-0.49</td>\n",
       "    </tr>\n",
       "    <tr>\n",
       "      <th>1999-11-05</th>\n",
       "      <td>NaN</td>\n",
       "      <td>NaN</td>\n",
       "      <td>0.06</td>\n",
       "      <td>NaN</td>\n",
       "      <td>NaN</td>\n",
       "      <td>NaN</td>\n",
       "      <td>-0.37</td>\n",
       "      <td>NaN</td>\n",
       "      <td>NaN</td>\n",
       "      <td>0.06</td>\n",
       "      <td>...</td>\n",
       "      <td>0.62</td>\n",
       "      <td>-0.06</td>\n",
       "      <td>0.97</td>\n",
       "      <td>NaN</td>\n",
       "      <td>NaN</td>\n",
       "      <td>1.63</td>\n",
       "      <td>NaN</td>\n",
       "      <td>NaN</td>\n",
       "      <td>-0.69</td>\n",
       "      <td>0.00</td>\n",
       "    </tr>\n",
       "  </tbody>\n",
       "</table>\n",
       "<p>5 rows × 1310 columns</p>\n",
       "</div>"
      ],
      "text/plain": [
       "             A  AA  AAIC  AAN  AAP  AAT    AB  ABB  ABBV   ABC  ...     K  \\\n",
       "1999-11-01 NaN NaN  0.50  NaN  NaN  NaN  3.56  NaN   NaN -1.44  ... -2.00   \n",
       "1999-11-02 NaN NaN  0.12  NaN  NaN  NaN  1.25  NaN   NaN -0.76  ... -1.38   \n",
       "1999-11-03 NaN NaN  0.00  NaN  NaN  NaN -0.63  NaN   NaN -1.01  ... -1.75   \n",
       "1999-11-04 NaN NaN  0.38  NaN  NaN  NaN  0.88  NaN   NaN -0.63  ... -1.44   \n",
       "1999-11-05 NaN NaN  0.06  NaN  NaN  NaN -0.37  NaN   NaN  0.06  ...  0.62   \n",
       "\n",
       "             KAI  KAMN  KAR  KB   KBH  KBR  KEN   KEP   KEX  \n",
       "1999-11-01 -0.12 -0.72  NaN NaN -0.31  NaN  NaN  0.94 -0.68  \n",
       "1999-11-02 -0.06  0.19  NaN NaN  0.38  NaN  NaN  1.07 -0.31  \n",
       "1999-11-03  0.06  0.60  NaN NaN -0.06  NaN  NaN  0.13 -0.37  \n",
       "1999-11-04  0.00  0.79  NaN NaN  1.25  NaN  NaN -0.88 -0.49  \n",
       "1999-11-05 -0.06  0.97  NaN NaN  1.63  NaN  NaN -0.69  0.00  \n",
       "\n",
       "[5 rows x 1310 columns]"
      ]
     },
     "execution_count": 30,
     "metadata": {},
     "output_type": "execute_result"
    }
   ],
   "source": [
    "test_df = pd.DataFrame(dates).transpose()\n",
    "test_df.head()"
   ]
  },
  {
   "cell_type": "code",
   "execution_count": 49,
   "id": "novel-instrument",
   "metadata": {
    "ExecuteTime": {
     "end_time": "2021-03-26T20:41:05.629044Z",
     "start_time": "2021-03-26T20:41:05.609081Z"
    }
   },
   "outputs": [
    {
     "data": {
      "text/plain": [
       "1076.2"
      ]
     },
     "execution_count": 49,
     "metadata": {},
     "output_type": "execute_result"
    }
   ],
   "source": [
    "len(test_df)*0.2"
   ]
  },
  {
   "cell_type": "code",
   "execution_count": 52,
   "id": "exotic-december",
   "metadata": {
    "ExecuteTime": {
     "end_time": "2021-03-26T20:44:52.977391Z",
     "start_time": "2021-03-26T20:44:52.954440Z"
    }
   },
   "outputs": [],
   "source": [
    "inds = random.sample(list(test_df.index), 1076)"
   ]
  },
  {
   "cell_type": "code",
   "execution_count": 54,
   "id": "incident-newman",
   "metadata": {
    "ExecuteTime": {
     "end_time": "2021-03-26T20:45:54.839287Z",
     "start_time": "2021-03-26T20:45:54.725286Z"
    }
   },
   "outputs": [
    {
     "data": {
      "text/html": [
       "<div>\n",
       "<style scoped>\n",
       "    .dataframe tbody tr th:only-of-type {\n",
       "        vertical-align: middle;\n",
       "    }\n",
       "\n",
       "    .dataframe tbody tr th {\n",
       "        vertical-align: top;\n",
       "    }\n",
       "\n",
       "    .dataframe thead th {\n",
       "        text-align: right;\n",
       "    }\n",
       "</style>\n",
       "<table border=\"1\" class=\"dataframe\">\n",
       "  <thead>\n",
       "    <tr style=\"text-align: right;\">\n",
       "      <th></th>\n",
       "      <th>A</th>\n",
       "      <th>AA</th>\n",
       "      <th>AAIC</th>\n",
       "      <th>AAN</th>\n",
       "      <th>AAP</th>\n",
       "      <th>AAT</th>\n",
       "      <th>AB</th>\n",
       "      <th>ABB</th>\n",
       "      <th>ABBV</th>\n",
       "      <th>ABC</th>\n",
       "      <th>...</th>\n",
       "      <th>K</th>\n",
       "      <th>KAI</th>\n",
       "      <th>KAMN</th>\n",
       "      <th>KAR</th>\n",
       "      <th>KB</th>\n",
       "      <th>KBH</th>\n",
       "      <th>KBR</th>\n",
       "      <th>KEN</th>\n",
       "      <th>KEP</th>\n",
       "      <th>KEX</th>\n",
       "    </tr>\n",
       "  </thead>\n",
       "  <tbody>\n",
       "    <tr>\n",
       "      <th>2001-07-10</th>\n",
       "      <td>-3.09</td>\n",
       "      <td>NaN</td>\n",
       "      <td>-0.23</td>\n",
       "      <td>NaN</td>\n",
       "      <td>NaN</td>\n",
       "      <td>NaN</td>\n",
       "      <td>-1.62</td>\n",
       "      <td>0.18</td>\n",
       "      <td>NaN</td>\n",
       "      <td>-0.50</td>\n",
       "      <td>...</td>\n",
       "      <td>-0.16</td>\n",
       "      <td>0.02</td>\n",
       "      <td>-0.11</td>\n",
       "      <td>NaN</td>\n",
       "      <td>NaN</td>\n",
       "      <td>0.48</td>\n",
       "      <td>NaN</td>\n",
       "      <td>NaN</td>\n",
       "      <td>0.02</td>\n",
       "      <td>-0.66</td>\n",
       "    </tr>\n",
       "    <tr>\n",
       "      <th>2014-02-12</th>\n",
       "      <td>0.52</td>\n",
       "      <td>NaN</td>\n",
       "      <td>0.21</td>\n",
       "      <td>NaN</td>\n",
       "      <td>0.47</td>\n",
       "      <td>0.56</td>\n",
       "      <td>0.74</td>\n",
       "      <td>0.29</td>\n",
       "      <td>0.98</td>\n",
       "      <td>0.45</td>\n",
       "      <td>...</td>\n",
       "      <td>-0.11</td>\n",
       "      <td>1.50</td>\n",
       "      <td>0.73</td>\n",
       "      <td>-0.02</td>\n",
       "      <td>-0.02</td>\n",
       "      <td>0.16</td>\n",
       "      <td>0.59</td>\n",
       "      <td>NaN</td>\n",
       "      <td>0.34</td>\n",
       "      <td>2.09</td>\n",
       "    </tr>\n",
       "    <tr>\n",
       "      <th>2018-10-29</th>\n",
       "      <td>-0.28</td>\n",
       "      <td>-0.28</td>\n",
       "      <td>-0.08</td>\n",
       "      <td>NaN</td>\n",
       "      <td>-2.03</td>\n",
       "      <td>0.86</td>\n",
       "      <td>0.17</td>\n",
       "      <td>-0.11</td>\n",
       "      <td>-1.13</td>\n",
       "      <td>1.35</td>\n",
       "      <td>...</td>\n",
       "      <td>1.83</td>\n",
       "      <td>4.64</td>\n",
       "      <td>0.65</td>\n",
       "      <td>0.49</td>\n",
       "      <td>-1.23</td>\n",
       "      <td>0.02</td>\n",
       "      <td>-0.10</td>\n",
       "      <td>-0.02</td>\n",
       "      <td>-0.17</td>\n",
       "      <td>-0.54</td>\n",
       "    </tr>\n",
       "    <tr>\n",
       "      <th>2012-02-29</th>\n",
       "      <td>0.24</td>\n",
       "      <td>NaN</td>\n",
       "      <td>-0.34</td>\n",
       "      <td>NaN</td>\n",
       "      <td>-0.41</td>\n",
       "      <td>-0.71</td>\n",
       "      <td>0.31</td>\n",
       "      <td>-0.36</td>\n",
       "      <td>NaN</td>\n",
       "      <td>-0.18</td>\n",
       "      <td>...</td>\n",
       "      <td>-0.38</td>\n",
       "      <td>-0.25</td>\n",
       "      <td>0.42</td>\n",
       "      <td>-0.18</td>\n",
       "      <td>0.25</td>\n",
       "      <td>-0.14</td>\n",
       "      <td>0.09</td>\n",
       "      <td>NaN</td>\n",
       "      <td>-0.01</td>\n",
       "      <td>1.40</td>\n",
       "    </tr>\n",
       "    <tr>\n",
       "      <th>2003-04-22</th>\n",
       "      <td>1.15</td>\n",
       "      <td>NaN</td>\n",
       "      <td>0.45</td>\n",
       "      <td>NaN</td>\n",
       "      <td>2.57</td>\n",
       "      <td>NaN</td>\n",
       "      <td>1.01</td>\n",
       "      <td>0.13</td>\n",
       "      <td>NaN</td>\n",
       "      <td>-0.53</td>\n",
       "      <td>...</td>\n",
       "      <td>0.94</td>\n",
       "      <td>0.09</td>\n",
       "      <td>0.05</td>\n",
       "      <td>NaN</td>\n",
       "      <td>-0.60</td>\n",
       "      <td>2.27</td>\n",
       "      <td>NaN</td>\n",
       "      <td>NaN</td>\n",
       "      <td>0.08</td>\n",
       "      <td>0.24</td>\n",
       "    </tr>\n",
       "  </tbody>\n",
       "</table>\n",
       "<p>5 rows × 1310 columns</p>\n",
       "</div>"
      ],
      "text/plain": [
       "               A    AA  AAIC  AAN   AAP   AAT    AB   ABB  ABBV   ABC  ...  \\\n",
       "2001-07-10 -3.09   NaN -0.23  NaN   NaN   NaN -1.62  0.18   NaN -0.50  ...   \n",
       "2014-02-12  0.52   NaN  0.21  NaN  0.47  0.56  0.74  0.29  0.98  0.45  ...   \n",
       "2018-10-29 -0.28 -0.28 -0.08  NaN -2.03  0.86  0.17 -0.11 -1.13  1.35  ...   \n",
       "2012-02-29  0.24   NaN -0.34  NaN -0.41 -0.71  0.31 -0.36   NaN -0.18  ...   \n",
       "2003-04-22  1.15   NaN  0.45  NaN  2.57   NaN  1.01  0.13   NaN -0.53  ...   \n",
       "\n",
       "               K   KAI  KAMN   KAR    KB   KBH   KBR   KEN   KEP   KEX  \n",
       "2001-07-10 -0.16  0.02 -0.11   NaN   NaN  0.48   NaN   NaN  0.02 -0.66  \n",
       "2014-02-12 -0.11  1.50  0.73 -0.02 -0.02  0.16  0.59   NaN  0.34  2.09  \n",
       "2018-10-29  1.83  4.64  0.65  0.49 -1.23  0.02 -0.10 -0.02 -0.17 -0.54  \n",
       "2012-02-29 -0.38 -0.25  0.42 -0.18  0.25 -0.14  0.09   NaN -0.01  1.40  \n",
       "2003-04-22  0.94  0.09  0.05   NaN -0.60  2.27   NaN   NaN  0.08  0.24  \n",
       "\n",
       "[5 rows x 1310 columns]"
      ]
     },
     "execution_count": 54,
     "metadata": {},
     "output_type": "execute_result"
    }
   ],
   "source": [
    "test_df_test = test_df.loc[inds, :]\n",
    "test_df_test.head()"
   ]
  },
  {
   "cell_type": "code",
   "execution_count": 56,
   "id": "former-pepper",
   "metadata": {
    "ExecuteTime": {
     "end_time": "2021-03-26T20:48:34.339598Z",
     "start_time": "2021-03-26T20:48:34.159550Z"
    }
   },
   "outputs": [
    {
     "data": {
      "text/html": [
       "<div>\n",
       "<style scoped>\n",
       "    .dataframe tbody tr th:only-of-type {\n",
       "        vertical-align: middle;\n",
       "    }\n",
       "\n",
       "    .dataframe tbody tr th {\n",
       "        vertical-align: top;\n",
       "    }\n",
       "\n",
       "    .dataframe thead th {\n",
       "        text-align: right;\n",
       "    }\n",
       "</style>\n",
       "<table border=\"1\" class=\"dataframe\">\n",
       "  <thead>\n",
       "    <tr style=\"text-align: right;\">\n",
       "      <th></th>\n",
       "      <th>A</th>\n",
       "      <th>AA</th>\n",
       "      <th>AAIC</th>\n",
       "      <th>AAN</th>\n",
       "      <th>AAP</th>\n",
       "      <th>AAT</th>\n",
       "      <th>AB</th>\n",
       "      <th>ABB</th>\n",
       "      <th>ABBV</th>\n",
       "      <th>ABC</th>\n",
       "      <th>...</th>\n",
       "      <th>K</th>\n",
       "      <th>KAI</th>\n",
       "      <th>KAMN</th>\n",
       "      <th>KAR</th>\n",
       "      <th>KB</th>\n",
       "      <th>KBH</th>\n",
       "      <th>KBR</th>\n",
       "      <th>KEN</th>\n",
       "      <th>KEP</th>\n",
       "      <th>KEX</th>\n",
       "    </tr>\n",
       "  </thead>\n",
       "  <tbody>\n",
       "    <tr>\n",
       "      <th>1999-11-01</th>\n",
       "      <td>NaN</td>\n",
       "      <td>NaN</td>\n",
       "      <td>0.50</td>\n",
       "      <td>NaN</td>\n",
       "      <td>NaN</td>\n",
       "      <td>NaN</td>\n",
       "      <td>3.56</td>\n",
       "      <td>NaN</td>\n",
       "      <td>NaN</td>\n",
       "      <td>-1.44</td>\n",
       "      <td>...</td>\n",
       "      <td>-2.00</td>\n",
       "      <td>-0.12</td>\n",
       "      <td>-0.72</td>\n",
       "      <td>NaN</td>\n",
       "      <td>NaN</td>\n",
       "      <td>-0.31</td>\n",
       "      <td>NaN</td>\n",
       "      <td>NaN</td>\n",
       "      <td>0.94</td>\n",
       "      <td>-0.68</td>\n",
       "    </tr>\n",
       "    <tr>\n",
       "      <th>1999-11-02</th>\n",
       "      <td>NaN</td>\n",
       "      <td>NaN</td>\n",
       "      <td>0.12</td>\n",
       "      <td>NaN</td>\n",
       "      <td>NaN</td>\n",
       "      <td>NaN</td>\n",
       "      <td>1.25</td>\n",
       "      <td>NaN</td>\n",
       "      <td>NaN</td>\n",
       "      <td>-0.76</td>\n",
       "      <td>...</td>\n",
       "      <td>-1.38</td>\n",
       "      <td>-0.06</td>\n",
       "      <td>0.19</td>\n",
       "      <td>NaN</td>\n",
       "      <td>NaN</td>\n",
       "      <td>0.38</td>\n",
       "      <td>NaN</td>\n",
       "      <td>NaN</td>\n",
       "      <td>1.07</td>\n",
       "      <td>-0.31</td>\n",
       "    </tr>\n",
       "    <tr>\n",
       "      <th>1999-11-03</th>\n",
       "      <td>NaN</td>\n",
       "      <td>NaN</td>\n",
       "      <td>0.00</td>\n",
       "      <td>NaN</td>\n",
       "      <td>NaN</td>\n",
       "      <td>NaN</td>\n",
       "      <td>-0.63</td>\n",
       "      <td>NaN</td>\n",
       "      <td>NaN</td>\n",
       "      <td>-1.01</td>\n",
       "      <td>...</td>\n",
       "      <td>-1.75</td>\n",
       "      <td>0.06</td>\n",
       "      <td>0.60</td>\n",
       "      <td>NaN</td>\n",
       "      <td>NaN</td>\n",
       "      <td>-0.06</td>\n",
       "      <td>NaN</td>\n",
       "      <td>NaN</td>\n",
       "      <td>0.13</td>\n",
       "      <td>-0.37</td>\n",
       "    </tr>\n",
       "    <tr>\n",
       "      <th>1999-11-04</th>\n",
       "      <td>NaN</td>\n",
       "      <td>NaN</td>\n",
       "      <td>0.38</td>\n",
       "      <td>NaN</td>\n",
       "      <td>NaN</td>\n",
       "      <td>NaN</td>\n",
       "      <td>0.88</td>\n",
       "      <td>NaN</td>\n",
       "      <td>NaN</td>\n",
       "      <td>-0.63</td>\n",
       "      <td>...</td>\n",
       "      <td>-1.44</td>\n",
       "      <td>0.00</td>\n",
       "      <td>0.79</td>\n",
       "      <td>NaN</td>\n",
       "      <td>NaN</td>\n",
       "      <td>1.25</td>\n",
       "      <td>NaN</td>\n",
       "      <td>NaN</td>\n",
       "      <td>-0.88</td>\n",
       "      <td>-0.49</td>\n",
       "    </tr>\n",
       "    <tr>\n",
       "      <th>1999-11-05</th>\n",
       "      <td>NaN</td>\n",
       "      <td>NaN</td>\n",
       "      <td>0.06</td>\n",
       "      <td>NaN</td>\n",
       "      <td>NaN</td>\n",
       "      <td>NaN</td>\n",
       "      <td>-0.37</td>\n",
       "      <td>NaN</td>\n",
       "      <td>NaN</td>\n",
       "      <td>0.06</td>\n",
       "      <td>...</td>\n",
       "      <td>0.62</td>\n",
       "      <td>-0.06</td>\n",
       "      <td>0.97</td>\n",
       "      <td>NaN</td>\n",
       "      <td>NaN</td>\n",
       "      <td>1.63</td>\n",
       "      <td>NaN</td>\n",
       "      <td>NaN</td>\n",
       "      <td>-0.69</td>\n",
       "      <td>0.00</td>\n",
       "    </tr>\n",
       "  </tbody>\n",
       "</table>\n",
       "<p>5 rows × 1310 columns</p>\n",
       "</div>"
      ],
      "text/plain": [
       "             A  AA  AAIC  AAN  AAP  AAT    AB  ABB  ABBV   ABC  ...     K  \\\n",
       "1999-11-01 NaN NaN  0.50  NaN  NaN  NaN  3.56  NaN   NaN -1.44  ... -2.00   \n",
       "1999-11-02 NaN NaN  0.12  NaN  NaN  NaN  1.25  NaN   NaN -0.76  ... -1.38   \n",
       "1999-11-03 NaN NaN  0.00  NaN  NaN  NaN -0.63  NaN   NaN -1.01  ... -1.75   \n",
       "1999-11-04 NaN NaN  0.38  NaN  NaN  NaN  0.88  NaN   NaN -0.63  ... -1.44   \n",
       "1999-11-05 NaN NaN  0.06  NaN  NaN  NaN -0.37  NaN   NaN  0.06  ...  0.62   \n",
       "\n",
       "             KAI  KAMN  KAR  KB   KBH  KBR  KEN   KEP   KEX  \n",
       "1999-11-01 -0.12 -0.72  NaN NaN -0.31  NaN  NaN  0.94 -0.68  \n",
       "1999-11-02 -0.06  0.19  NaN NaN  0.38  NaN  NaN  1.07 -0.31  \n",
       "1999-11-03  0.06  0.60  NaN NaN -0.06  NaN  NaN  0.13 -0.37  \n",
       "1999-11-04  0.00  0.79  NaN NaN  1.25  NaN  NaN -0.88 -0.49  \n",
       "1999-11-05 -0.06  0.97  NaN NaN  1.63  NaN  NaN -0.69  0.00  \n",
       "\n",
       "[5 rows x 1310 columns]"
      ]
     },
     "execution_count": 56,
     "metadata": {},
     "output_type": "execute_result"
    }
   ],
   "source": [
    "test_df_train = test_df.drop(inds)\n",
    "test_df_train.head()"
   ]
  },
  {
   "cell_type": "code",
   "execution_count": 57,
   "id": "stainless-workstation",
   "metadata": {
    "ExecuteTime": {
     "end_time": "2021-03-26T20:48:47.696824Z",
     "start_time": "2021-03-26T20:48:47.670826Z"
    }
   },
   "outputs": [
    {
     "data": {
      "text/plain": [
       "4305"
      ]
     },
     "execution_count": 57,
     "metadata": {},
     "output_type": "execute_result"
    }
   ],
   "source": [
    "len(test_df_train)"
   ]
  },
  {
   "cell_type": "code",
   "execution_count": 124,
   "id": "sound-accident",
   "metadata": {
    "ExecuteTime": {
     "end_time": "2021-03-29T17:09:03.872445Z",
     "start_time": "2021-03-29T17:09:03.770454Z"
    }
   },
   "outputs": [
    {
     "data": {
      "text/html": [
       "<div>\n",
       "<style scoped>\n",
       "    .dataframe tbody tr th:only-of-type {\n",
       "        vertical-align: middle;\n",
       "    }\n",
       "\n",
       "    .dataframe tbody tr th {\n",
       "        vertical-align: top;\n",
       "    }\n",
       "\n",
       "    .dataframe thead th {\n",
       "        text-align: right;\n",
       "    }\n",
       "</style>\n",
       "<table border=\"1\" class=\"dataframe\">\n",
       "  <thead>\n",
       "    <tr style=\"text-align: right;\">\n",
       "      <th></th>\n",
       "      <th>A</th>\n",
       "      <th>AA</th>\n",
       "      <th>AAIC</th>\n",
       "      <th>AAN</th>\n",
       "      <th>AAP</th>\n",
       "      <th>AAT</th>\n",
       "      <th>AB</th>\n",
       "      <th>ABB</th>\n",
       "      <th>ABBV</th>\n",
       "      <th>ABC</th>\n",
       "      <th>...</th>\n",
       "      <th>K</th>\n",
       "      <th>KAI</th>\n",
       "      <th>KAMN</th>\n",
       "      <th>KAR</th>\n",
       "      <th>KB</th>\n",
       "      <th>KBH</th>\n",
       "      <th>KBR</th>\n",
       "      <th>KEN</th>\n",
       "      <th>KEP</th>\n",
       "      <th>KEX</th>\n",
       "    </tr>\n",
       "  </thead>\n",
       "  <tbody>\n",
       "    <tr>\n",
       "      <th>2001-07-10</th>\n",
       "      <td>-3.09</td>\n",
       "      <td>NaN</td>\n",
       "      <td>-0.23</td>\n",
       "      <td>NaN</td>\n",
       "      <td>NaN</td>\n",
       "      <td>NaN</td>\n",
       "      <td>-1.62</td>\n",
       "      <td>0.18</td>\n",
       "      <td>NaN</td>\n",
       "      <td>-0.50</td>\n",
       "      <td>...</td>\n",
       "      <td>-0.16</td>\n",
       "      <td>0.02</td>\n",
       "      <td>-0.11</td>\n",
       "      <td>NaN</td>\n",
       "      <td>NaN</td>\n",
       "      <td>0.48</td>\n",
       "      <td>NaN</td>\n",
       "      <td>NaN</td>\n",
       "      <td>0.02</td>\n",
       "      <td>-0.66</td>\n",
       "    </tr>\n",
       "    <tr>\n",
       "      <th>2014-02-12</th>\n",
       "      <td>0.52</td>\n",
       "      <td>NaN</td>\n",
       "      <td>0.21</td>\n",
       "      <td>NaN</td>\n",
       "      <td>0.47</td>\n",
       "      <td>0.56</td>\n",
       "      <td>0.74</td>\n",
       "      <td>0.29</td>\n",
       "      <td>0.98</td>\n",
       "      <td>0.45</td>\n",
       "      <td>...</td>\n",
       "      <td>-0.11</td>\n",
       "      <td>1.50</td>\n",
       "      <td>0.73</td>\n",
       "      <td>-0.02</td>\n",
       "      <td>-0.02</td>\n",
       "      <td>0.16</td>\n",
       "      <td>0.59</td>\n",
       "      <td>NaN</td>\n",
       "      <td>0.34</td>\n",
       "      <td>2.09</td>\n",
       "    </tr>\n",
       "    <tr>\n",
       "      <th>2018-10-29</th>\n",
       "      <td>-0.28</td>\n",
       "      <td>-0.28</td>\n",
       "      <td>-0.08</td>\n",
       "      <td>NaN</td>\n",
       "      <td>-2.03</td>\n",
       "      <td>0.86</td>\n",
       "      <td>0.17</td>\n",
       "      <td>-0.11</td>\n",
       "      <td>-1.13</td>\n",
       "      <td>1.35</td>\n",
       "      <td>...</td>\n",
       "      <td>1.83</td>\n",
       "      <td>4.64</td>\n",
       "      <td>0.65</td>\n",
       "      <td>0.49</td>\n",
       "      <td>-1.23</td>\n",
       "      <td>0.02</td>\n",
       "      <td>-0.10</td>\n",
       "      <td>-0.02</td>\n",
       "      <td>-0.17</td>\n",
       "      <td>-0.54</td>\n",
       "    </tr>\n",
       "    <tr>\n",
       "      <th>2012-02-29</th>\n",
       "      <td>0.24</td>\n",
       "      <td>NaN</td>\n",
       "      <td>-0.34</td>\n",
       "      <td>NaN</td>\n",
       "      <td>-0.41</td>\n",
       "      <td>-0.71</td>\n",
       "      <td>0.31</td>\n",
       "      <td>-0.36</td>\n",
       "      <td>NaN</td>\n",
       "      <td>-0.18</td>\n",
       "      <td>...</td>\n",
       "      <td>-0.38</td>\n",
       "      <td>-0.25</td>\n",
       "      <td>0.42</td>\n",
       "      <td>-0.18</td>\n",
       "      <td>0.25</td>\n",
       "      <td>-0.14</td>\n",
       "      <td>0.09</td>\n",
       "      <td>NaN</td>\n",
       "      <td>-0.01</td>\n",
       "      <td>1.40</td>\n",
       "    </tr>\n",
       "    <tr>\n",
       "      <th>2003-04-22</th>\n",
       "      <td>1.15</td>\n",
       "      <td>NaN</td>\n",
       "      <td>0.45</td>\n",
       "      <td>NaN</td>\n",
       "      <td>2.57</td>\n",
       "      <td>NaN</td>\n",
       "      <td>1.01</td>\n",
       "      <td>0.13</td>\n",
       "      <td>NaN</td>\n",
       "      <td>-0.53</td>\n",
       "      <td>...</td>\n",
       "      <td>0.94</td>\n",
       "      <td>0.09</td>\n",
       "      <td>0.05</td>\n",
       "      <td>NaN</td>\n",
       "      <td>-0.60</td>\n",
       "      <td>2.27</td>\n",
       "      <td>NaN</td>\n",
       "      <td>NaN</td>\n",
       "      <td>0.08</td>\n",
       "      <td>0.24</td>\n",
       "    </tr>\n",
       "  </tbody>\n",
       "</table>\n",
       "<p>5 rows × 1310 columns</p>\n",
       "</div>"
      ],
      "text/plain": [
       "               A    AA  AAIC  AAN   AAP   AAT    AB   ABB  ABBV   ABC  ...  \\\n",
       "2001-07-10 -3.09   NaN -0.23  NaN   NaN   NaN -1.62  0.18   NaN -0.50  ...   \n",
       "2014-02-12  0.52   NaN  0.21  NaN  0.47  0.56  0.74  0.29  0.98  0.45  ...   \n",
       "2018-10-29 -0.28 -0.28 -0.08  NaN -2.03  0.86  0.17 -0.11 -1.13  1.35  ...   \n",
       "2012-02-29  0.24   NaN -0.34  NaN -0.41 -0.71  0.31 -0.36   NaN -0.18  ...   \n",
       "2003-04-22  1.15   NaN  0.45  NaN  2.57   NaN  1.01  0.13   NaN -0.53  ...   \n",
       "\n",
       "               K   KAI  KAMN   KAR    KB   KBH   KBR   KEN   KEP   KEX  \n",
       "2001-07-10 -0.16  0.02 -0.11   NaN   NaN  0.48   NaN   NaN  0.02 -0.66  \n",
       "2014-02-12 -0.11  1.50  0.73 -0.02 -0.02  0.16  0.59   NaN  0.34  2.09  \n",
       "2018-10-29  1.83  4.64  0.65  0.49 -1.23  0.02 -0.10 -0.02 -0.17 -0.54  \n",
       "2012-02-29 -0.38 -0.25  0.42 -0.18  0.25 -0.14  0.09   NaN -0.01  1.40  \n",
       "2003-04-22  0.94  0.09  0.05   NaN -0.60  2.27   NaN   NaN  0.08  0.24  \n",
       "\n",
       "[5 rows x 1310 columns]"
      ]
     },
     "execution_count": 124,
     "metadata": {},
     "output_type": "execute_result"
    }
   ],
   "source": [
    "test_df_test.head()"
   ]
  },
  {
   "cell_type": "code",
   "execution_count": 141,
   "id": "controversial-princeton",
   "metadata": {
    "ExecuteTime": {
     "end_time": "2021-03-29T17:22:51.937618Z",
     "start_time": "2021-03-29T17:22:51.917611Z"
    }
   },
   "outputs": [],
   "source": [
    "test_dates = [np.datetime64(x) for x in test_df_test.index]"
   ]
  },
  {
   "cell_type": "code",
   "execution_count": 172,
   "id": "hazardous-leather",
   "metadata": {
    "ExecuteTime": {
     "end_time": "2021-03-29T17:46:55.023321Z",
     "start_time": "2021-03-29T17:46:55.005359Z"
    }
   },
   "outputs": [],
   "source": [
    "#list of previous days\n",
    "test_dates_prev = [np.datetime64(x) -1 for x in test_df_test.index]\n"
   ]
  },
  {
   "cell_type": "code",
   "execution_count": 59,
   "id": "super-distance",
   "metadata": {
    "ExecuteTime": {
     "end_time": "2021-03-26T20:50:41.162545Z",
     "start_time": "2021-03-26T20:50:27.458418Z"
    }
   },
   "outputs": [
    {
     "data": {
      "text/html": [
       "<div>\n",
       "<style scoped>\n",
       "    .dataframe tbody tr th:only-of-type {\n",
       "        vertical-align: middle;\n",
       "    }\n",
       "\n",
       "    .dataframe tbody tr th {\n",
       "        vertical-align: top;\n",
       "    }\n",
       "\n",
       "    .dataframe thead th {\n",
       "        text-align: right;\n",
       "    }\n",
       "</style>\n",
       "<table border=\"1\" class=\"dataframe\">\n",
       "  <thead>\n",
       "    <tr style=\"text-align: right;\">\n",
       "      <th></th>\n",
       "      <th>symID</th>\n",
       "      <th>dateID</th>\n",
       "      <th>value</th>\n",
       "    </tr>\n",
       "  </thead>\n",
       "  <tbody>\n",
       "    <tr>\n",
       "      <th>0</th>\n",
       "      <td>A</td>\n",
       "      <td>1999-11-18</td>\n",
       "      <td>-4.06</td>\n",
       "    </tr>\n",
       "    <tr>\n",
       "      <th>1</th>\n",
       "      <td>A</td>\n",
       "      <td>1999-11-19</td>\n",
       "      <td>0.13</td>\n",
       "    </tr>\n",
       "    <tr>\n",
       "      <th>2</th>\n",
       "      <td>A</td>\n",
       "      <td>1999-11-22</td>\n",
       "      <td>0.44</td>\n",
       "    </tr>\n",
       "    <tr>\n",
       "      <th>3</th>\n",
       "      <td>A</td>\n",
       "      <td>1999-11-24</td>\n",
       "      <td>1.24</td>\n",
       "    </tr>\n",
       "    <tr>\n",
       "      <th>4</th>\n",
       "      <td>A</td>\n",
       "      <td>1999-11-29</td>\n",
       "      <td>1.32</td>\n",
       "    </tr>\n",
       "  </tbody>\n",
       "</table>\n",
       "</div>"
      ],
      "text/plain": [
       "  symID      dateID  value\n",
       "0     A  1999-11-18  -4.06\n",
       "1     A  1999-11-19   0.13\n",
       "2     A  1999-11-22   0.44\n",
       "3     A  1999-11-24   1.24\n",
       "4     A  1999-11-29   1.32"
      ]
     },
     "execution_count": 59,
     "metadata": {},
     "output_type": "execute_result"
    }
   ],
   "source": [
    "sur_train = surprisify(test_df_train)\n",
    "sur_train.head()"
   ]
  },
  {
   "cell_type": "code",
   "execution_count": 109,
   "id": "strange-iceland",
   "metadata": {
    "ExecuteTime": {
     "end_time": "2021-03-29T16:19:24.676222Z",
     "start_time": "2021-03-29T16:07:40.730002Z"
    }
   },
   "outputs": [
    {
     "data": {
      "text/plain": [
       "<surprise.prediction_algorithms.matrix_factorization.SVD at 0x190a1672948>"
      ]
     },
     "execution_count": 109,
     "metadata": {},
     "output_type": "execute_result"
    }
   ],
   "source": [
    "train = readify(sur_train)\n",
    "train = train.build_full_trainset()\n",
    "test_algo = SVD()\n",
    "test_algo.fit(train)\n"
   ]
  },
  {
   "cell_type": "code",
   "execution_count": 119,
   "id": "valued-message",
   "metadata": {
    "ExecuteTime": {
     "end_time": "2021-03-29T16:40:14.410113Z",
     "start_time": "2021-03-29T16:40:14.329110Z"
    }
   },
   "outputs": [
    {
     "data": {
      "text/html": [
       "<div>\n",
       "<style scoped>\n",
       "    .dataframe tbody tr th:only-of-type {\n",
       "        vertical-align: middle;\n",
       "    }\n",
       "\n",
       "    .dataframe tbody tr th {\n",
       "        vertical-align: top;\n",
       "    }\n",
       "\n",
       "    .dataframe thead th {\n",
       "        text-align: right;\n",
       "    }\n",
       "</style>\n",
       "<table border=\"1\" class=\"dataframe\">\n",
       "  <thead>\n",
       "    <tr style=\"text-align: right;\">\n",
       "      <th></th>\n",
       "      <th>0</th>\n",
       "      <th>1</th>\n",
       "      <th>2</th>\n",
       "      <th>3</th>\n",
       "      <th>4</th>\n",
       "      <th>5</th>\n",
       "      <th>6</th>\n",
       "      <th>7</th>\n",
       "      <th>8</th>\n",
       "      <th>9</th>\n",
       "      <th>...</th>\n",
       "      <th>90</th>\n",
       "      <th>91</th>\n",
       "      <th>92</th>\n",
       "      <th>93</th>\n",
       "      <th>94</th>\n",
       "      <th>95</th>\n",
       "      <th>96</th>\n",
       "      <th>97</th>\n",
       "      <th>98</th>\n",
       "      <th>99</th>\n",
       "    </tr>\n",
       "  </thead>\n",
       "  <tbody>\n",
       "    <tr>\n",
       "      <th>2021-03-16</th>\n",
       "      <td>0.367118</td>\n",
       "      <td>0.064925</td>\n",
       "      <td>0.431814</td>\n",
       "      <td>0.265329</td>\n",
       "      <td>0.192271</td>\n",
       "      <td>0.203466</td>\n",
       "      <td>-0.126263</td>\n",
       "      <td>-0.393558</td>\n",
       "      <td>0.188713</td>\n",
       "      <td>-0.085871</td>\n",
       "      <td>...</td>\n",
       "      <td>-0.121082</td>\n",
       "      <td>0.249686</td>\n",
       "      <td>-0.025685</td>\n",
       "      <td>-0.420226</td>\n",
       "      <td>-0.221207</td>\n",
       "      <td>-0.255014</td>\n",
       "      <td>-0.011437</td>\n",
       "      <td>-0.112349</td>\n",
       "      <td>0.016621</td>\n",
       "      <td>0.141679</td>\n",
       "    </tr>\n",
       "    <tr>\n",
       "      <th>2021-03-17</th>\n",
       "      <td>-0.133013</td>\n",
       "      <td>-0.249180</td>\n",
       "      <td>0.036074</td>\n",
       "      <td>0.205301</td>\n",
       "      <td>-0.145316</td>\n",
       "      <td>-0.114851</td>\n",
       "      <td>0.119490</td>\n",
       "      <td>0.039775</td>\n",
       "      <td>0.148908</td>\n",
       "      <td>0.184380</td>\n",
       "      <td>...</td>\n",
       "      <td>-0.084410</td>\n",
       "      <td>0.258420</td>\n",
       "      <td>-0.004861</td>\n",
       "      <td>-0.177897</td>\n",
       "      <td>0.001211</td>\n",
       "      <td>-0.071944</td>\n",
       "      <td>0.124679</td>\n",
       "      <td>-0.119976</td>\n",
       "      <td>0.148910</td>\n",
       "      <td>0.169544</td>\n",
       "    </tr>\n",
       "    <tr>\n",
       "      <th>2021-03-18</th>\n",
       "      <td>-1.400811</td>\n",
       "      <td>-0.623412</td>\n",
       "      <td>-0.706768</td>\n",
       "      <td>-0.317822</td>\n",
       "      <td>-0.610920</td>\n",
       "      <td>-0.673829</td>\n",
       "      <td>0.756931</td>\n",
       "      <td>0.414659</td>\n",
       "      <td>0.026496</td>\n",
       "      <td>0.205375</td>\n",
       "      <td>...</td>\n",
       "      <td>-0.009040</td>\n",
       "      <td>0.422216</td>\n",
       "      <td>0.273555</td>\n",
       "      <td>0.494628</td>\n",
       "      <td>0.467456</td>\n",
       "      <td>0.322478</td>\n",
       "      <td>0.586803</td>\n",
       "      <td>-0.001457</td>\n",
       "      <td>0.120540</td>\n",
       "      <td>0.283521</td>\n",
       "    </tr>\n",
       "    <tr>\n",
       "      <th>2021-03-19</th>\n",
       "      <td>0.175462</td>\n",
       "      <td>0.195865</td>\n",
       "      <td>-1.139583</td>\n",
       "      <td>0.230722</td>\n",
       "      <td>-0.130534</td>\n",
       "      <td>0.086582</td>\n",
       "      <td>-0.071924</td>\n",
       "      <td>-0.163929</td>\n",
       "      <td>0.422903</td>\n",
       "      <td>0.449381</td>\n",
       "      <td>...</td>\n",
       "      <td>0.130660</td>\n",
       "      <td>0.046565</td>\n",
       "      <td>0.101157</td>\n",
       "      <td>-0.302341</td>\n",
       "      <td>0.104991</td>\n",
       "      <td>-0.219420</td>\n",
       "      <td>0.096827</td>\n",
       "      <td>0.203656</td>\n",
       "      <td>0.357403</td>\n",
       "      <td>-0.451000</td>\n",
       "    </tr>\n",
       "    <tr>\n",
       "      <th>2021-03-22</th>\n",
       "      <td>0.083090</td>\n",
       "      <td>-0.090418</td>\n",
       "      <td>-0.250634</td>\n",
       "      <td>-0.013273</td>\n",
       "      <td>0.098419</td>\n",
       "      <td>0.028983</td>\n",
       "      <td>0.057824</td>\n",
       "      <td>0.040076</td>\n",
       "      <td>-0.162161</td>\n",
       "      <td>0.031022</td>\n",
       "      <td>...</td>\n",
       "      <td>-0.010107</td>\n",
       "      <td>-0.078166</td>\n",
       "      <td>-0.048035</td>\n",
       "      <td>-0.077645</td>\n",
       "      <td>0.244870</td>\n",
       "      <td>-0.024871</td>\n",
       "      <td>-0.144129</td>\n",
       "      <td>-0.053411</td>\n",
       "      <td>-0.111525</td>\n",
       "      <td>-0.056567</td>\n",
       "    </tr>\n",
       "  </tbody>\n",
       "</table>\n",
       "<p>5 rows × 100 columns</p>\n",
       "</div>"
      ],
      "text/plain": [
       "                  0         1         2         3         4         5   \\\n",
       "2021-03-16  0.367118  0.064925  0.431814  0.265329  0.192271  0.203466   \n",
       "2021-03-17 -0.133013 -0.249180  0.036074  0.205301 -0.145316 -0.114851   \n",
       "2021-03-18 -1.400811 -0.623412 -0.706768 -0.317822 -0.610920 -0.673829   \n",
       "2021-03-19  0.175462  0.195865 -1.139583  0.230722 -0.130534  0.086582   \n",
       "2021-03-22  0.083090 -0.090418 -0.250634 -0.013273  0.098419  0.028983   \n",
       "\n",
       "                  6         7         8         9   ...        90        91  \\\n",
       "2021-03-16 -0.126263 -0.393558  0.188713 -0.085871  ... -0.121082  0.249686   \n",
       "2021-03-17  0.119490  0.039775  0.148908  0.184380  ... -0.084410  0.258420   \n",
       "2021-03-18  0.756931  0.414659  0.026496  0.205375  ... -0.009040  0.422216   \n",
       "2021-03-19 -0.071924 -0.163929  0.422903  0.449381  ...  0.130660  0.046565   \n",
       "2021-03-22  0.057824  0.040076 -0.162161  0.031022  ... -0.010107 -0.078166   \n",
       "\n",
       "                  92        93        94        95        96        97  \\\n",
       "2021-03-16 -0.025685 -0.420226 -0.221207 -0.255014 -0.011437 -0.112349   \n",
       "2021-03-17 -0.004861 -0.177897  0.001211 -0.071944  0.124679 -0.119976   \n",
       "2021-03-18  0.273555  0.494628  0.467456  0.322478  0.586803 -0.001457   \n",
       "2021-03-19  0.101157 -0.302341  0.104991 -0.219420  0.096827  0.203656   \n",
       "2021-03-22 -0.048035 -0.077645  0.244870 -0.024871 -0.144129 -0.053411   \n",
       "\n",
       "                  98        99  \n",
       "2021-03-16  0.016621  0.141679  \n",
       "2021-03-17  0.148910  0.169544  \n",
       "2021-03-18  0.120540  0.283521  \n",
       "2021-03-19  0.357403 -0.451000  \n",
       "2021-03-22 -0.111525 -0.056567  \n",
       "\n",
       "[5 rows x 100 columns]"
      ]
     },
     "execution_count": 119,
     "metadata": {},
     "output_type": "execute_result"
    }
   ],
   "source": [
    "days_df = pd.DataFrame(test_algo.pu)\n",
    "days_df.index = test_df_train.index\n",
    "days_df.tail()"
   ]
  },
  {
   "cell_type": "code",
   "execution_count": 176,
   "id": "divine-colombia",
   "metadata": {
    "ExecuteTime": {
     "end_time": "2021-03-30T06:57:30.771169Z",
     "start_time": "2021-03-30T06:57:30.685180Z"
    }
   },
   "outputs": [
    {
     "data": {
      "text/plain": [
       "1076"
      ]
     },
     "execution_count": 176,
     "metadata": {},
     "output_type": "execute_result"
    }
   ],
   "source": [
    "test_dates_prev = []\n",
    "for date in test_df_test.index:\n",
    "    while date not in days_df.index:\n",
    "        date = str(np.datetime64(date)-1)\n",
    "    test_dates_prev.append(date)\n",
    "\n",
    "len(test_dates_prev)"
   ]
  },
  {
   "cell_type": "code",
   "execution_count": 186,
   "id": "molecular-juice",
   "metadata": {
    "ExecuteTime": {
     "end_time": "2021-03-30T07:03:56.508567Z",
     "start_time": "2021-03-30T07:03:56.114582Z"
    }
   },
   "outputs": [],
   "source": [
    "ss = SS()\n",
    "scaled = ss.fit_transform(days_df)\n",
    "\n",
    "nn = NN(n_neighbors = 15)\n",
    "nn.fit(scaled)\n",
    "neighbours = nn.kneighbors(X=days_df.loc[test_dates_prev])"
   ]
  },
  {
   "cell_type": "code",
   "execution_count": 244,
   "id": "visible-technical",
   "metadata": {
    "ExecuteTime": {
     "end_time": "2021-03-30T08:19:36.680625Z",
     "start_time": "2021-03-30T08:19:28.707410Z"
    }
   },
   "outputs": [],
   "source": [
    "preds = {}\n",
    "for i, date in enumerate(test_dates):\n",
    "    weights = neighbours[0][i] / np.sum(np.square(neighbours[0][i]))\n",
    "    vals = days_df.iloc[neighbours[1][0]-1].transpose() * weights\n",
    "    preds[date] = vals.transpose().sum()\n",
    "    \n",
    "    "
   ]
  },
  {
   "cell_type": "code",
   "execution_count": 257,
   "id": "annoying-assessment",
   "metadata": {
    "ExecuteTime": {
     "end_time": "2021-03-30T08:40:54.531777Z",
     "start_time": "2021-03-30T08:40:53.781326Z"
    }
   },
   "outputs": [
    {
     "data": {
      "text/html": [
       "<div>\n",
       "<style scoped>\n",
       "    .dataframe tbody tr th:only-of-type {\n",
       "        vertical-align: middle;\n",
       "    }\n",
       "\n",
       "    .dataframe tbody tr th {\n",
       "        vertical-align: top;\n",
       "    }\n",
       "\n",
       "    .dataframe thead th {\n",
       "        text-align: right;\n",
       "    }\n",
       "</style>\n",
       "<table border=\"1\" class=\"dataframe\">\n",
       "  <thead>\n",
       "    <tr style=\"text-align: right;\">\n",
       "      <th></th>\n",
       "      <th>0</th>\n",
       "      <th>1</th>\n",
       "      <th>2</th>\n",
       "      <th>3</th>\n",
       "      <th>4</th>\n",
       "      <th>5</th>\n",
       "      <th>6</th>\n",
       "      <th>7</th>\n",
       "      <th>8</th>\n",
       "      <th>9</th>\n",
       "      <th>...</th>\n",
       "      <th>90</th>\n",
       "      <th>91</th>\n",
       "      <th>92</th>\n",
       "      <th>93</th>\n",
       "      <th>94</th>\n",
       "      <th>95</th>\n",
       "      <th>96</th>\n",
       "      <th>97</th>\n",
       "      <th>98</th>\n",
       "      <th>99</th>\n",
       "    </tr>\n",
       "  </thead>\n",
       "  <tbody>\n",
       "    <tr>\n",
       "      <th>2001-07-10</th>\n",
       "      <td>0.005414</td>\n",
       "      <td>-0.003244</td>\n",
       "      <td>-0.002790</td>\n",
       "      <td>-0.002607</td>\n",
       "      <td>0.003862</td>\n",
       "      <td>0.000838</td>\n",
       "      <td>0.004819</td>\n",
       "      <td>-0.002494</td>\n",
       "      <td>-0.002512</td>\n",
       "      <td>0.002333</td>\n",
       "      <td>...</td>\n",
       "      <td>-0.001919</td>\n",
       "      <td>-0.002547</td>\n",
       "      <td>-0.000593</td>\n",
       "      <td>0.003853</td>\n",
       "      <td>0.002074</td>\n",
       "      <td>-0.001742</td>\n",
       "      <td>0.000630</td>\n",
       "      <td>0.005074</td>\n",
       "      <td>-0.007429</td>\n",
       "      <td>0.005151</td>\n",
       "    </tr>\n",
       "    <tr>\n",
       "      <th>2014-02-12</th>\n",
       "      <td>0.004982</td>\n",
       "      <td>-0.003100</td>\n",
       "      <td>-0.002703</td>\n",
       "      <td>-0.002555</td>\n",
       "      <td>0.003667</td>\n",
       "      <td>0.000679</td>\n",
       "      <td>0.004539</td>\n",
       "      <td>-0.002380</td>\n",
       "      <td>-0.002462</td>\n",
       "      <td>0.002297</td>\n",
       "      <td>...</td>\n",
       "      <td>-0.001959</td>\n",
       "      <td>-0.002481</td>\n",
       "      <td>-0.000363</td>\n",
       "      <td>0.003335</td>\n",
       "      <td>0.002389</td>\n",
       "      <td>-0.001471</td>\n",
       "      <td>0.000470</td>\n",
       "      <td>0.004858</td>\n",
       "      <td>-0.006715</td>\n",
       "      <td>0.004751</td>\n",
       "    </tr>\n",
       "    <tr>\n",
       "      <th>2018-10-29</th>\n",
       "      <td>0.004061</td>\n",
       "      <td>-0.002744</td>\n",
       "      <td>-0.002370</td>\n",
       "      <td>-0.002254</td>\n",
       "      <td>0.003107</td>\n",
       "      <td>0.000220</td>\n",
       "      <td>0.003927</td>\n",
       "      <td>-0.002083</td>\n",
       "      <td>-0.002405</td>\n",
       "      <td>0.002119</td>\n",
       "      <td>...</td>\n",
       "      <td>-0.001948</td>\n",
       "      <td>-0.002515</td>\n",
       "      <td>0.000077</td>\n",
       "      <td>0.002292</td>\n",
       "      <td>0.002927</td>\n",
       "      <td>-0.001017</td>\n",
       "      <td>0.000103</td>\n",
       "      <td>0.004355</td>\n",
       "      <td>-0.005171</td>\n",
       "      <td>0.003928</td>\n",
       "    </tr>\n",
       "    <tr>\n",
       "      <th>2012-02-29</th>\n",
       "      <td>0.005414</td>\n",
       "      <td>-0.003257</td>\n",
       "      <td>-0.002820</td>\n",
       "      <td>-0.002653</td>\n",
       "      <td>0.003899</td>\n",
       "      <td>0.000861</td>\n",
       "      <td>0.004835</td>\n",
       "      <td>-0.002508</td>\n",
       "      <td>-0.002517</td>\n",
       "      <td>0.002356</td>\n",
       "      <td>...</td>\n",
       "      <td>-0.001912</td>\n",
       "      <td>-0.002529</td>\n",
       "      <td>-0.000600</td>\n",
       "      <td>0.003830</td>\n",
       "      <td>0.002087</td>\n",
       "      <td>-0.001697</td>\n",
       "      <td>0.000636</td>\n",
       "      <td>0.005108</td>\n",
       "      <td>-0.007445</td>\n",
       "      <td>0.005144</td>\n",
       "    </tr>\n",
       "    <tr>\n",
       "      <th>2003-04-22</th>\n",
       "      <td>0.005666</td>\n",
       "      <td>-0.003325</td>\n",
       "      <td>-0.002809</td>\n",
       "      <td>-0.002594</td>\n",
       "      <td>0.003945</td>\n",
       "      <td>0.000905</td>\n",
       "      <td>0.004975</td>\n",
       "      <td>-0.002542</td>\n",
       "      <td>-0.002541</td>\n",
       "      <td>0.002315</td>\n",
       "      <td>...</td>\n",
       "      <td>-0.001851</td>\n",
       "      <td>-0.002661</td>\n",
       "      <td>-0.000726</td>\n",
       "      <td>0.004158</td>\n",
       "      <td>0.001859</td>\n",
       "      <td>-0.001920</td>\n",
       "      <td>0.000736</td>\n",
       "      <td>0.005230</td>\n",
       "      <td>-0.007845</td>\n",
       "      <td>0.005379</td>\n",
       "    </tr>\n",
       "  </tbody>\n",
       "</table>\n",
       "<p>5 rows × 100 columns</p>\n",
       "</div>"
      ],
      "text/plain": [
       "                  0         1         2         3         4         5   \\\n",
       "2001-07-10  0.005414 -0.003244 -0.002790 -0.002607  0.003862  0.000838   \n",
       "2014-02-12  0.004982 -0.003100 -0.002703 -0.002555  0.003667  0.000679   \n",
       "2018-10-29  0.004061 -0.002744 -0.002370 -0.002254  0.003107  0.000220   \n",
       "2012-02-29  0.005414 -0.003257 -0.002820 -0.002653  0.003899  0.000861   \n",
       "2003-04-22  0.005666 -0.003325 -0.002809 -0.002594  0.003945  0.000905   \n",
       "\n",
       "                  6         7         8         9   ...        90        91  \\\n",
       "2001-07-10  0.004819 -0.002494 -0.002512  0.002333  ... -0.001919 -0.002547   \n",
       "2014-02-12  0.004539 -0.002380 -0.002462  0.002297  ... -0.001959 -0.002481   \n",
       "2018-10-29  0.003927 -0.002083 -0.002405  0.002119  ... -0.001948 -0.002515   \n",
       "2012-02-29  0.004835 -0.002508 -0.002517  0.002356  ... -0.001912 -0.002529   \n",
       "2003-04-22  0.004975 -0.002542 -0.002541  0.002315  ... -0.001851 -0.002661   \n",
       "\n",
       "                  92        93        94        95        96        97  \\\n",
       "2001-07-10 -0.000593  0.003853  0.002074 -0.001742  0.000630  0.005074   \n",
       "2014-02-12 -0.000363  0.003335  0.002389 -0.001471  0.000470  0.004858   \n",
       "2018-10-29  0.000077  0.002292  0.002927 -0.001017  0.000103  0.004355   \n",
       "2012-02-29 -0.000600  0.003830  0.002087 -0.001697  0.000636  0.005108   \n",
       "2003-04-22 -0.000726  0.004158  0.001859 -0.001920  0.000736  0.005230   \n",
       "\n",
       "                  98        99  \n",
       "2001-07-10 -0.007429  0.005151  \n",
       "2014-02-12 -0.006715  0.004751  \n",
       "2018-10-29 -0.005171  0.003928  \n",
       "2012-02-29 -0.007445  0.005144  \n",
       "2003-04-22 -0.007845  0.005379  \n",
       "\n",
       "[5 rows x 100 columns]"
      ]
     },
     "execution_count": 257,
     "metadata": {},
     "output_type": "execute_result"
    }
   ],
   "source": [
    "preds_df = pd.DataFrame(preds).transpose()\n",
    "uns_preds = pd.DataFrame(ss.inverse_transform(preds_df), index=preds_df.index)\n",
    "uns_preds.head()"
   ]
  },
  {
   "cell_type": "code",
   "execution_count": 284,
   "id": "outstanding-boating",
   "metadata": {
    "ExecuteTime": {
     "end_time": "2021-03-30T08:59:23.769332Z",
     "start_time": "2021-03-30T08:59:23.655341Z"
    }
   },
   "outputs": [
    {
     "data": {
      "text/html": [
       "<div>\n",
       "<style scoped>\n",
       "    .dataframe tbody tr th:only-of-type {\n",
       "        vertical-align: middle;\n",
       "    }\n",
       "\n",
       "    .dataframe tbody tr th {\n",
       "        vertical-align: top;\n",
       "    }\n",
       "\n",
       "    .dataframe thead th {\n",
       "        text-align: right;\n",
       "    }\n",
       "</style>\n",
       "<table border=\"1\" class=\"dataframe\">\n",
       "  <thead>\n",
       "    <tr style=\"text-align: right;\">\n",
       "      <th></th>\n",
       "      <th>0</th>\n",
       "      <th>1</th>\n",
       "      <th>2</th>\n",
       "      <th>3</th>\n",
       "      <th>4</th>\n",
       "      <th>5</th>\n",
       "      <th>6</th>\n",
       "      <th>7</th>\n",
       "      <th>8</th>\n",
       "      <th>9</th>\n",
       "      <th>...</th>\n",
       "      <th>90</th>\n",
       "      <th>91</th>\n",
       "      <th>92</th>\n",
       "      <th>93</th>\n",
       "      <th>94</th>\n",
       "      <th>95</th>\n",
       "      <th>96</th>\n",
       "      <th>97</th>\n",
       "      <th>98</th>\n",
       "      <th>99</th>\n",
       "    </tr>\n",
       "  </thead>\n",
       "  <tbody>\n",
       "    <tr>\n",
       "      <th>2001-07-10</th>\n",
       "      <td>0.120621</td>\n",
       "      <td>-0.018095</td>\n",
       "      <td>-0.022283</td>\n",
       "      <td>0.100175</td>\n",
       "      <td>-0.060575</td>\n",
       "      <td>-0.077480</td>\n",
       "      <td>0.144291</td>\n",
       "      <td>0.040230</td>\n",
       "      <td>-0.059655</td>\n",
       "      <td>0.097492</td>\n",
       "      <td>...</td>\n",
       "      <td>-0.125174</td>\n",
       "      <td>0.066826</td>\n",
       "      <td>-0.037192</td>\n",
       "      <td>0.178491</td>\n",
       "      <td>-0.124973</td>\n",
       "      <td>-0.083445</td>\n",
       "      <td>-0.050780</td>\n",
       "      <td>0.225695</td>\n",
       "      <td>0.038329</td>\n",
       "      <td>0.086916</td>\n",
       "    </tr>\n",
       "    <tr>\n",
       "      <th>2014-02-12</th>\n",
       "      <td>0.023591</td>\n",
       "      <td>-0.038009</td>\n",
       "      <td>-0.027012</td>\n",
       "      <td>-0.142473</td>\n",
       "      <td>0.020809</td>\n",
       "      <td>0.046929</td>\n",
       "      <td>0.082563</td>\n",
       "      <td>-0.060934</td>\n",
       "      <td>0.059851</td>\n",
       "      <td>0.045112</td>\n",
       "      <td>...</td>\n",
       "      <td>0.089732</td>\n",
       "      <td>-0.090784</td>\n",
       "      <td>-0.132467</td>\n",
       "      <td>0.035261</td>\n",
       "      <td>-0.006054</td>\n",
       "      <td>0.065521</td>\n",
       "      <td>-0.053941</td>\n",
       "      <td>0.077976</td>\n",
       "      <td>0.104975</td>\n",
       "      <td>-0.028011</td>\n",
       "    </tr>\n",
       "    <tr>\n",
       "      <th>2018-10-29</th>\n",
       "      <td>-0.003756</td>\n",
       "      <td>-0.048225</td>\n",
       "      <td>-0.013594</td>\n",
       "      <td>0.012971</td>\n",
       "      <td>-0.009267</td>\n",
       "      <td>0.216581</td>\n",
       "      <td>-0.073410</td>\n",
       "      <td>-0.034690</td>\n",
       "      <td>-0.020810</td>\n",
       "      <td>0.121531</td>\n",
       "      <td>...</td>\n",
       "      <td>-0.012624</td>\n",
       "      <td>-0.062942</td>\n",
       "      <td>0.006067</td>\n",
       "      <td>0.022961</td>\n",
       "      <td>0.090733</td>\n",
       "      <td>-0.077521</td>\n",
       "      <td>0.058229</td>\n",
       "      <td>-0.021905</td>\n",
       "      <td>-0.055225</td>\n",
       "      <td>-0.061579</td>\n",
       "    </tr>\n",
       "    <tr>\n",
       "      <th>2012-02-29</th>\n",
       "      <td>0.123621</td>\n",
       "      <td>-0.017243</td>\n",
       "      <td>0.040960</td>\n",
       "      <td>0.021408</td>\n",
       "      <td>0.030324</td>\n",
       "      <td>0.015108</td>\n",
       "      <td>-0.008295</td>\n",
       "      <td>0.003847</td>\n",
       "      <td>0.013248</td>\n",
       "      <td>0.023765</td>\n",
       "      <td>...</td>\n",
       "      <td>0.029704</td>\n",
       "      <td>-0.096540</td>\n",
       "      <td>-0.084980</td>\n",
       "      <td>-0.024416</td>\n",
       "      <td>-0.020232</td>\n",
       "      <td>0.020460</td>\n",
       "      <td>0.028583</td>\n",
       "      <td>-0.045920</td>\n",
       "      <td>-0.067717</td>\n",
       "      <td>0.058292</td>\n",
       "    </tr>\n",
       "    <tr>\n",
       "      <th>2003-04-22</th>\n",
       "      <td>-0.089416</td>\n",
       "      <td>0.103192</td>\n",
       "      <td>-0.083241</td>\n",
       "      <td>-0.120813</td>\n",
       "      <td>-0.148799</td>\n",
       "      <td>0.073967</td>\n",
       "      <td>-0.261958</td>\n",
       "      <td>-0.173291</td>\n",
       "      <td>0.483816</td>\n",
       "      <td>0.260190</td>\n",
       "      <td>...</td>\n",
       "      <td>0.031274</td>\n",
       "      <td>-0.101147</td>\n",
       "      <td>-0.012965</td>\n",
       "      <td>0.192092</td>\n",
       "      <td>-0.321017</td>\n",
       "      <td>-0.059583</td>\n",
       "      <td>0.100864</td>\n",
       "      <td>-0.376590</td>\n",
       "      <td>-0.293198</td>\n",
       "      <td>-0.015264</td>\n",
       "    </tr>\n",
       "  </tbody>\n",
       "</table>\n",
       "<p>5 rows × 100 columns</p>\n",
       "</div>"
      ],
      "text/plain": [
       "                  0         1         2         3         4         5   \\\n",
       "2001-07-10  0.120621 -0.018095 -0.022283  0.100175 -0.060575 -0.077480   \n",
       "2014-02-12  0.023591 -0.038009 -0.027012 -0.142473  0.020809  0.046929   \n",
       "2018-10-29 -0.003756 -0.048225 -0.013594  0.012971 -0.009267  0.216581   \n",
       "2012-02-29  0.123621 -0.017243  0.040960  0.021408  0.030324  0.015108   \n",
       "2003-04-22 -0.089416  0.103192 -0.083241 -0.120813 -0.148799  0.073967   \n",
       "\n",
       "                  6         7         8         9   ...        90        91  \\\n",
       "2001-07-10  0.144291  0.040230 -0.059655  0.097492  ... -0.125174  0.066826   \n",
       "2014-02-12  0.082563 -0.060934  0.059851  0.045112  ...  0.089732 -0.090784   \n",
       "2018-10-29 -0.073410 -0.034690 -0.020810  0.121531  ... -0.012624 -0.062942   \n",
       "2012-02-29 -0.008295  0.003847  0.013248  0.023765  ...  0.029704 -0.096540   \n",
       "2003-04-22 -0.261958 -0.173291  0.483816  0.260190  ...  0.031274 -0.101147   \n",
       "\n",
       "                  92        93        94        95        96        97  \\\n",
       "2001-07-10 -0.037192  0.178491 -0.124973 -0.083445 -0.050780  0.225695   \n",
       "2014-02-12 -0.132467  0.035261 -0.006054  0.065521 -0.053941  0.077976   \n",
       "2018-10-29  0.006067  0.022961  0.090733 -0.077521  0.058229 -0.021905   \n",
       "2012-02-29 -0.084980 -0.024416 -0.020232  0.020460  0.028583 -0.045920   \n",
       "2003-04-22 -0.012965  0.192092 -0.321017 -0.059583  0.100864 -0.376590   \n",
       "\n",
       "                  98        99  \n",
       "2001-07-10  0.038329  0.086916  \n",
       "2014-02-12  0.104975 -0.028011  \n",
       "2018-10-29 -0.055225 -0.061579  \n",
       "2012-02-29 -0.067717  0.058292  \n",
       "2003-04-22 -0.293198 -0.015264  \n",
       "\n",
       "[5 rows x 100 columns]"
      ]
     },
     "execution_count": 284,
     "metadata": {},
     "output_type": "execute_result"
    }
   ],
   "source": [
    "true = pd.DataFrame(algo.pu, index=df.index)\n",
    "true = true.loc[inds]\n",
    "true.head()"
   ]
  },
  {
   "cell_type": "markdown",
   "id": "generic-thanksgiving",
   "metadata": {},
   "source": [
    "Predicted values are much smaller: as it finds neighbours over so many dimensions there can be greater variation -greater error- in more dimensions. As these are averaged they go some way to cancelling eachother out before being divided."
   ]
  },
  {
   "cell_type": "code",
   "execution_count": 286,
   "id": "funky-supervisor",
   "metadata": {
    "ExecuteTime": {
     "end_time": "2021-03-30T09:03:18.269480Z",
     "start_time": "2021-03-30T09:03:18.245480Z"
    }
   },
   "outputs": [
    {
     "data": {
      "text/plain": [
       "17.888558487972375"
      ]
     },
     "execution_count": 286,
     "metadata": {},
     "output_type": "execute_result"
    }
   ],
   "source": [
    "uns_preds.sum().sum()"
   ]
  },
  {
   "cell_type": "code",
   "execution_count": 287,
   "id": "reliable-payroll",
   "metadata": {
    "ExecuteTime": {
     "end_time": "2021-03-30T09:03:31.952498Z",
     "start_time": "2021-03-30T09:03:31.919494Z"
    }
   },
   "outputs": [
    {
     "data": {
      "text/plain": [
       "-23.292922062956823"
      ]
     },
     "execution_count": 287,
     "metadata": {},
     "output_type": "execute_result"
    }
   ],
   "source": [
    "true.sum().sum()"
   ]
  },
  {
   "cell_type": "code",
   "execution_count": 291,
   "id": "sixth-jewelry",
   "metadata": {
    "ExecuteTime": {
     "end_time": "2021-03-30T10:20:19.618966Z",
     "start_time": "2021-03-30T10:20:19.593959Z"
    }
   },
   "outputs": [],
   "source": [
    "list_preds = np.reshape(np.array(uns_preds), -1)"
   ]
  },
  {
   "cell_type": "code",
   "execution_count": 293,
   "id": "possible-while",
   "metadata": {
    "ExecuteTime": {
     "end_time": "2021-03-30T10:20:53.873378Z",
     "start_time": "2021-03-30T10:20:53.851378Z"
    }
   },
   "outputs": [],
   "source": [
    "list_true = np.reshape(np.array(true), -1)"
   ]
  },
  {
   "cell_type": "code",
   "execution_count": 298,
   "id": "polished-basketball",
   "metadata": {
    "ExecuteTime": {
     "end_time": "2021-03-30T10:23:43.328114Z",
     "start_time": "2021-03-30T10:23:43.307115Z"
    }
   },
   "outputs": [
    {
     "data": {
      "text/plain": [
       "0.19919319793731463"
      ]
     },
     "execution_count": 298,
     "metadata": {},
     "output_type": "execute_result"
    }
   ],
   "source": [
    "rmse = MSE(list_true, list_preds, squared=False)\n",
    "rmse"
   ]
  },
  {
   "cell_type": "markdown",
   "id": "young-knowing",
   "metadata": {},
   "source": [
    "Try the same again but this time Not Scaled"
   ]
  },
  {
   "cell_type": "code",
   "execution_count": 300,
   "id": "phantom-growth",
   "metadata": {
    "ExecuteTime": {
     "end_time": "2021-03-30T10:36:10.233183Z",
     "start_time": "2021-03-30T10:36:02.636070Z"
    }
   },
   "outputs": [
    {
     "data": {
      "text/html": [
       "<div>\n",
       "<style scoped>\n",
       "    .dataframe tbody tr th:only-of-type {\n",
       "        vertical-align: middle;\n",
       "    }\n",
       "\n",
       "    .dataframe tbody tr th {\n",
       "        vertical-align: top;\n",
       "    }\n",
       "\n",
       "    .dataframe thead th {\n",
       "        text-align: right;\n",
       "    }\n",
       "</style>\n",
       "<table border=\"1\" class=\"dataframe\">\n",
       "  <thead>\n",
       "    <tr style=\"text-align: right;\">\n",
       "      <th></th>\n",
       "      <th>0</th>\n",
       "      <th>1</th>\n",
       "      <th>2</th>\n",
       "      <th>3</th>\n",
       "      <th>4</th>\n",
       "      <th>5</th>\n",
       "      <th>6</th>\n",
       "      <th>7</th>\n",
       "      <th>8</th>\n",
       "      <th>9</th>\n",
       "      <th>...</th>\n",
       "      <th>90</th>\n",
       "      <th>91</th>\n",
       "      <th>92</th>\n",
       "      <th>93</th>\n",
       "      <th>94</th>\n",
       "      <th>95</th>\n",
       "      <th>96</th>\n",
       "      <th>97</th>\n",
       "      <th>98</th>\n",
       "      <th>99</th>\n",
       "    </tr>\n",
       "  </thead>\n",
       "  <tbody>\n",
       "    <tr>\n",
       "      <th>2001-07-10</th>\n",
       "      <td>-0.009003</td>\n",
       "      <td>0.024943</td>\n",
       "      <td>-0.010204</td>\n",
       "      <td>-0.019985</td>\n",
       "      <td>0.021546</td>\n",
       "      <td>0.043756</td>\n",
       "      <td>0.016364</td>\n",
       "      <td>-0.022423</td>\n",
       "      <td>-0.052200</td>\n",
       "      <td>-0.007420</td>\n",
       "      <td>...</td>\n",
       "      <td>-0.017647</td>\n",
       "      <td>-0.035142</td>\n",
       "      <td>-0.002357</td>\n",
       "      <td>-0.039094</td>\n",
       "      <td>-0.021490</td>\n",
       "      <td>-0.035890</td>\n",
       "      <td>-0.011408</td>\n",
       "      <td>0.001307</td>\n",
       "      <td>-0.064154</td>\n",
       "      <td>0.003300</td>\n",
       "    </tr>\n",
       "    <tr>\n",
       "      <th>2014-02-12</th>\n",
       "      <td>-0.005681</td>\n",
       "      <td>0.014913</td>\n",
       "      <td>-0.006647</td>\n",
       "      <td>-0.012092</td>\n",
       "      <td>0.013052</td>\n",
       "      <td>0.026437</td>\n",
       "      <td>0.009698</td>\n",
       "      <td>-0.013465</td>\n",
       "      <td>-0.031390</td>\n",
       "      <td>-0.004321</td>\n",
       "      <td>...</td>\n",
       "      <td>-0.010574</td>\n",
       "      <td>-0.021064</td>\n",
       "      <td>-0.001621</td>\n",
       "      <td>-0.023688</td>\n",
       "      <td>-0.013001</td>\n",
       "      <td>-0.021626</td>\n",
       "      <td>-0.006536</td>\n",
       "      <td>0.000936</td>\n",
       "      <td>-0.038562</td>\n",
       "      <td>0.002176</td>\n",
       "    </tr>\n",
       "    <tr>\n",
       "      <th>2018-10-29</th>\n",
       "      <td>-0.003411</td>\n",
       "      <td>0.008606</td>\n",
       "      <td>-0.003722</td>\n",
       "      <td>-0.006879</td>\n",
       "      <td>0.007370</td>\n",
       "      <td>0.014971</td>\n",
       "      <td>0.005500</td>\n",
       "      <td>-0.007630</td>\n",
       "      <td>-0.017813</td>\n",
       "      <td>-0.002539</td>\n",
       "      <td>...</td>\n",
       "      <td>-0.005846</td>\n",
       "      <td>-0.012085</td>\n",
       "      <td>-0.000906</td>\n",
       "      <td>-0.013500</td>\n",
       "      <td>-0.007213</td>\n",
       "      <td>-0.012313</td>\n",
       "      <td>-0.003948</td>\n",
       "      <td>0.000531</td>\n",
       "      <td>-0.021971</td>\n",
       "      <td>0.001316</td>\n",
       "    </tr>\n",
       "    <tr>\n",
       "      <th>2012-02-29</th>\n",
       "      <td>-0.009069</td>\n",
       "      <td>0.022993</td>\n",
       "      <td>-0.009322</td>\n",
       "      <td>-0.018000</td>\n",
       "      <td>0.019363</td>\n",
       "      <td>0.038857</td>\n",
       "      <td>0.014468</td>\n",
       "      <td>-0.019985</td>\n",
       "      <td>-0.046860</td>\n",
       "      <td>-0.006248</td>\n",
       "      <td>...</td>\n",
       "      <td>-0.015368</td>\n",
       "      <td>-0.031561</td>\n",
       "      <td>-0.002292</td>\n",
       "      <td>-0.035289</td>\n",
       "      <td>-0.018720</td>\n",
       "      <td>-0.032274</td>\n",
       "      <td>-0.010761</td>\n",
       "      <td>0.000894</td>\n",
       "      <td>-0.057291</td>\n",
       "      <td>0.003474</td>\n",
       "    </tr>\n",
       "    <tr>\n",
       "      <th>2003-04-22</th>\n",
       "      <td>-0.010735</td>\n",
       "      <td>0.029336</td>\n",
       "      <td>-0.013700</td>\n",
       "      <td>-0.025037</td>\n",
       "      <td>0.026149</td>\n",
       "      <td>0.052838</td>\n",
       "      <td>0.019258</td>\n",
       "      <td>-0.027615</td>\n",
       "      <td>-0.062364</td>\n",
       "      <td>-0.009162</td>\n",
       "      <td>...</td>\n",
       "      <td>-0.020856</td>\n",
       "      <td>-0.041691</td>\n",
       "      <td>-0.003413</td>\n",
       "      <td>-0.047180</td>\n",
       "      <td>-0.026065</td>\n",
       "      <td>-0.041950</td>\n",
       "      <td>-0.011734</td>\n",
       "      <td>0.003336</td>\n",
       "      <td>-0.077418</td>\n",
       "      <td>0.004346</td>\n",
       "    </tr>\n",
       "  </tbody>\n",
       "</table>\n",
       "<p>5 rows × 100 columns</p>\n",
       "</div>"
      ],
      "text/plain": [
       "                  0         1         2         3         4         5   \\\n",
       "2001-07-10 -0.009003  0.024943 -0.010204 -0.019985  0.021546  0.043756   \n",
       "2014-02-12 -0.005681  0.014913 -0.006647 -0.012092  0.013052  0.026437   \n",
       "2018-10-29 -0.003411  0.008606 -0.003722 -0.006879  0.007370  0.014971   \n",
       "2012-02-29 -0.009069  0.022993 -0.009322 -0.018000  0.019363  0.038857   \n",
       "2003-04-22 -0.010735  0.029336 -0.013700 -0.025037  0.026149  0.052838   \n",
       "\n",
       "                  6         7         8         9   ...        90        91  \\\n",
       "2001-07-10  0.016364 -0.022423 -0.052200 -0.007420  ... -0.017647 -0.035142   \n",
       "2014-02-12  0.009698 -0.013465 -0.031390 -0.004321  ... -0.010574 -0.021064   \n",
       "2018-10-29  0.005500 -0.007630 -0.017813 -0.002539  ... -0.005846 -0.012085   \n",
       "2012-02-29  0.014468 -0.019985 -0.046860 -0.006248  ... -0.015368 -0.031561   \n",
       "2003-04-22  0.019258 -0.027615 -0.062364 -0.009162  ... -0.020856 -0.041691   \n",
       "\n",
       "                  92        93        94        95        96        97  \\\n",
       "2001-07-10 -0.002357 -0.039094 -0.021490 -0.035890 -0.011408  0.001307   \n",
       "2014-02-12 -0.001621 -0.023688 -0.013001 -0.021626 -0.006536  0.000936   \n",
       "2018-10-29 -0.000906 -0.013500 -0.007213 -0.012313 -0.003948  0.000531   \n",
       "2012-02-29 -0.002292 -0.035289 -0.018720 -0.032274 -0.010761  0.000894   \n",
       "2003-04-22 -0.003413 -0.047180 -0.026065 -0.041950 -0.011734  0.003336   \n",
       "\n",
       "                  98        99  \n",
       "2001-07-10 -0.064154  0.003300  \n",
       "2014-02-12 -0.038562  0.002176  \n",
       "2018-10-29 -0.021971  0.001316  \n",
       "2012-02-29 -0.057291  0.003474  \n",
       "2003-04-22 -0.077418  0.004346  \n",
       "\n",
       "[5 rows x 100 columns]"
      ]
     },
     "execution_count": 300,
     "metadata": {},
     "output_type": "execute_result"
    }
   ],
   "source": [
    "nn = NN(n_neighbors = 15)\n",
    "nn.fit(days_df)\n",
    "neighbours = nn.kneighbors(X=days_df.loc[test_dates_prev])\n",
    "\n",
    "preds = {}\n",
    "for i, date in enumerate(test_dates):\n",
    "    weights = neighbours[0][i] / np.sum(np.square(neighbours[0][i]))\n",
    "    vals = days_df.iloc[neighbours[1][0]-1].transpose() * weights\n",
    "    preds[date] = vals.transpose().sum()\n",
    "    \n",
    "preds_df = pd.DataFrame(preds).transpose()\n",
    "preds_df.head()\n"
   ]
  },
  {
   "cell_type": "markdown",
   "id": "nervous-thriller",
   "metadata": {},
   "source": [
    "## Test\n",
    "Some days are similar to others.   \n",
    "1st test:    \n",
    "A rough test I want to do to begin -Can tomorrow's changes be approximated by the changes seen in the first days after those most similar to today?\n",
    "Not expecting too much from this -as its only going back one day- especially if PCA is needed."
   ]
  },
  {
   "cell_type": "code",
   "execution_count": 301,
   "id": "therapeutic-words",
   "metadata": {
    "ExecuteTime": {
     "end_time": "2021-03-30T10:37:04.001783Z",
     "start_time": "2021-03-30T10:37:03.975732Z"
    }
   },
   "outputs": [
    {
     "data": {
      "text/plain": [
       "0.2003353087024881"
      ]
     },
     "execution_count": 301,
     "metadata": {},
     "output_type": "execute_result"
    }
   ],
   "source": [
    "ns_list_preds = np.reshape(np.array(preds_df), -1)\n",
    "rmse = MSE(list_true, ns_list_preds, squared=False)\n",
    "rmse"
   ]
  },
  {
   "cell_type": "markdown",
   "id": "headed-probe",
   "metadata": {},
   "source": [
    "So far I've been treating each day's values as inseparable. Also, putting each day separately into the SVD algorithm, I was  only able to look one day back. I hoped there was enough information in each day's state to show where it was going, but that was a bit too much to ask of it.       \n",
    "\n",
    "I'm next going to go for an opposite approach: consider the day's values separately, but look further back in time.   \n",
    "Next: LSTMs    \n",
    "    \n",
    "Another idea is to try nearest neighbours again but for the SVD, for each day, instead just that day's ~2500 stock values, use all the values for the last week (~12500 stock values) or multiple weeks"
   ]
  },
  {
   "cell_type": "markdown",
   "id": "arctic-animation",
   "metadata": {},
   "source": [
    "# LSTM"
   ]
  },
  {
   "cell_type": "code",
   "execution_count": null,
   "id": "interpreted-poetry",
   "metadata": {},
   "outputs": [],
   "source": []
  },
  {
   "cell_type": "code",
   "execution_count": null,
   "id": "closing-gnome",
   "metadata": {},
   "outputs": [],
   "source": []
  },
  {
   "cell_type": "code",
   "execution_count": null,
   "id": "interested-chocolate",
   "metadata": {},
   "outputs": [],
   "source": []
  },
  {
   "cell_type": "code",
   "execution_count": null,
   "id": "caroline-supplier",
   "metadata": {},
   "outputs": [],
   "source": []
  },
  {
   "cell_type": "code",
   "execution_count": null,
   "id": "nasty-ultimate",
   "metadata": {},
   "outputs": [],
   "source": []
  },
  {
   "cell_type": "code",
   "execution_count": null,
   "id": "boolean-throw",
   "metadata": {},
   "outputs": [],
   "source": []
  },
  {
   "cell_type": "code",
   "execution_count": null,
   "id": "aware-stamp",
   "metadata": {},
   "outputs": [],
   "source": []
  },
  {
   "cell_type": "code",
   "execution_count": null,
   "id": "fiscal-sixth",
   "metadata": {},
   "outputs": [],
   "source": []
  },
  {
   "cell_type": "code",
   "execution_count": null,
   "id": "municipal-morning",
   "metadata": {},
   "outputs": [],
   "source": []
  },
  {
   "cell_type": "code",
   "execution_count": null,
   "id": "lesbian-holiday",
   "metadata": {},
   "outputs": [],
   "source": []
  }
 ],
 "metadata": {
  "kernelspec": {
   "display_name": "Python 3",
   "language": "python",
   "name": "python3"
  },
  "language_info": {
   "codemirror_mode": {
    "name": "ipython",
    "version": 3
   },
   "file_extension": ".py",
   "mimetype": "text/x-python",
   "name": "python",
   "nbconvert_exporter": "python",
   "pygments_lexer": "ipython3",
   "version": "3.7.9"
  },
  "toc": {
   "base_numbering": 1,
   "nav_menu": {},
   "number_sections": false,
   "sideBar": true,
   "skip_h1_title": true,
   "title_cell": "Table of Contents",
   "title_sidebar": "Contents",
   "toc_cell": false,
   "toc_position": {
    "height": "calc(100% - 180px)",
    "left": "10px",
    "top": "150px",
    "width": "384px"
   },
   "toc_section_display": true,
   "toc_window_display": true
  },
  "varInspector": {
   "cols": {
    "lenName": 16,
    "lenType": 16,
    "lenVar": 40
   },
   "kernels_config": {
    "python": {
     "delete_cmd_postfix": "",
     "delete_cmd_prefix": "del ",
     "library": "var_list.py",
     "varRefreshCmd": "print(var_dic_list())"
    },
    "r": {
     "delete_cmd_postfix": ") ",
     "delete_cmd_prefix": "rm(",
     "library": "var_list.r",
     "varRefreshCmd": "cat(var_dic_list()) "
    }
   },
   "types_to_exclude": [
    "module",
    "function",
    "builtin_function_or_method",
    "instance",
    "_Feature"
   ],
   "window_display": false
  }
 },
 "nbformat": 4,
 "nbformat_minor": 5
}

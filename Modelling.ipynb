{
 "cells": [
  {
   "cell_type": "code",
   "execution_count": 47,
   "id": "complimentary-default",
   "metadata": {
    "ExecuteTime": {
     "end_time": "2021-03-26T20:39:42.043890Z",
     "start_time": "2021-03-26T20:39:42.024890Z"
    }
   },
   "outputs": [],
   "source": [
    "import pandas as pd\n",
    "import numpy as np\n",
    "import math\n",
    "import random\n",
    "from surprise import Reader\n",
    "from surprise import Dataset\n",
    "from surprise.model_selection import cross_validate as CV\n",
    "from surprise.model_selection import GridSearchCV as GSCV\n",
    "from surprise.model_selection import train_test_split as TTS\n",
    "from surprise.prediction_algorithms import SVD, SVDpp\n",
    "from surprise.accuracy import rmse\n",
    "\n",
    "\n",
    "np.seed = 42"
   ]
  },
  {
   "cell_type": "markdown",
   "id": "floral-kennedy",
   "metadata": {},
   "source": [
    "Note:   \n",
    "Try also:     \n",
    "biased = False   \n",
    "SVD++ -but probably worse    "
   ]
  },
  {
   "cell_type": "markdown",
   "id": "quarterly-belief",
   "metadata": {},
   "source": [
    "## Initial Model\n",
    "SVD on the value-change data"
   ]
  },
  {
   "cell_type": "code",
   "execution_count": 4,
   "id": "human-antique",
   "metadata": {
    "ExecuteTime": {
     "end_time": "2021-03-26T20:07:08.134927Z",
     "start_time": "2021-03-26T20:07:04.572405Z"
    },
    "scrolled": true
   },
   "outputs": [
    {
     "data": {
      "text/html": [
       "<div>\n",
       "<style scoped>\n",
       "    .dataframe tbody tr th:only-of-type {\n",
       "        vertical-align: middle;\n",
       "    }\n",
       "\n",
       "    .dataframe tbody tr th {\n",
       "        vertical-align: top;\n",
       "    }\n",
       "\n",
       "    .dataframe thead th {\n",
       "        text-align: right;\n",
       "    }\n",
       "</style>\n",
       "<table border=\"1\" class=\"dataframe\">\n",
       "  <thead>\n",
       "    <tr style=\"text-align: right;\">\n",
       "      <th></th>\n",
       "      <th>A</th>\n",
       "      <th>AA</th>\n",
       "      <th>AAIC</th>\n",
       "      <th>AAN</th>\n",
       "      <th>AAP</th>\n",
       "      <th>AAT</th>\n",
       "      <th>AB</th>\n",
       "      <th>ABB</th>\n",
       "      <th>ABBV</th>\n",
       "      <th>ABC</th>\n",
       "      <th>...</th>\n",
       "      <th>K</th>\n",
       "      <th>KAI</th>\n",
       "      <th>KAMN</th>\n",
       "      <th>KAR</th>\n",
       "      <th>KB</th>\n",
       "      <th>KBH</th>\n",
       "      <th>KBR</th>\n",
       "      <th>KEN</th>\n",
       "      <th>KEP</th>\n",
       "      <th>KEX</th>\n",
       "    </tr>\n",
       "  </thead>\n",
       "  <tbody>\n",
       "    <tr>\n",
       "      <th>1999-11-01</th>\n",
       "      <td>NaN</td>\n",
       "      <td>NaN</td>\n",
       "      <td>0.25</td>\n",
       "      <td>NaN</td>\n",
       "      <td>NaN</td>\n",
       "      <td>NaN</td>\n",
       "      <td>0.87</td>\n",
       "      <td>NaN</td>\n",
       "      <td>NaN</td>\n",
       "      <td>-1.44</td>\n",
       "      <td>...</td>\n",
       "      <td>-1.18</td>\n",
       "      <td>-0.06</td>\n",
       "      <td>-0.44</td>\n",
       "      <td>NaN</td>\n",
       "      <td>NaN</td>\n",
       "      <td>-0.81</td>\n",
       "      <td>NaN</td>\n",
       "      <td>NaN</td>\n",
       "      <td>0.50</td>\n",
       "      <td>-0.31</td>\n",
       "    </tr>\n",
       "    <tr>\n",
       "      <th>1999-11-02</th>\n",
       "      <td>NaN</td>\n",
       "      <td>NaN</td>\n",
       "      <td>0.25</td>\n",
       "      <td>NaN</td>\n",
       "      <td>NaN</td>\n",
       "      <td>NaN</td>\n",
       "      <td>2.69</td>\n",
       "      <td>NaN</td>\n",
       "      <td>NaN</td>\n",
       "      <td>0.00</td>\n",
       "      <td>...</td>\n",
       "      <td>-0.82</td>\n",
       "      <td>-0.06</td>\n",
       "      <td>-0.28</td>\n",
       "      <td>NaN</td>\n",
       "      <td>NaN</td>\n",
       "      <td>0.50</td>\n",
       "      <td>NaN</td>\n",
       "      <td>NaN</td>\n",
       "      <td>0.44</td>\n",
       "      <td>-0.37</td>\n",
       "    </tr>\n",
       "    <tr>\n",
       "      <th>1999-11-03</th>\n",
       "      <td>NaN</td>\n",
       "      <td>NaN</td>\n",
       "      <td>-0.13</td>\n",
       "      <td>NaN</td>\n",
       "      <td>NaN</td>\n",
       "      <td>NaN</td>\n",
       "      <td>-1.44</td>\n",
       "      <td>NaN</td>\n",
       "      <td>NaN</td>\n",
       "      <td>-0.76</td>\n",
       "      <td>...</td>\n",
       "      <td>-0.56</td>\n",
       "      <td>0.00</td>\n",
       "      <td>0.47</td>\n",
       "      <td>NaN</td>\n",
       "      <td>NaN</td>\n",
       "      <td>-0.12</td>\n",
       "      <td>NaN</td>\n",
       "      <td>NaN</td>\n",
       "      <td>0.63</td>\n",
       "      <td>0.06</td>\n",
       "    </tr>\n",
       "    <tr>\n",
       "      <th>1999-11-04</th>\n",
       "      <td>NaN</td>\n",
       "      <td>NaN</td>\n",
       "      <td>0.13</td>\n",
       "      <td>NaN</td>\n",
       "      <td>NaN</td>\n",
       "      <td>NaN</td>\n",
       "      <td>0.81</td>\n",
       "      <td>NaN</td>\n",
       "      <td>NaN</td>\n",
       "      <td>-0.25</td>\n",
       "      <td>...</td>\n",
       "      <td>-1.19</td>\n",
       "      <td>0.06</td>\n",
       "      <td>0.13</td>\n",
       "      <td>NaN</td>\n",
       "      <td>NaN</td>\n",
       "      <td>0.06</td>\n",
       "      <td>NaN</td>\n",
       "      <td>NaN</td>\n",
       "      <td>-0.50</td>\n",
       "      <td>-0.43</td>\n",
       "    </tr>\n",
       "    <tr>\n",
       "      <th>1999-11-05</th>\n",
       "      <td>NaN</td>\n",
       "      <td>NaN</td>\n",
       "      <td>0.25</td>\n",
       "      <td>NaN</td>\n",
       "      <td>NaN</td>\n",
       "      <td>NaN</td>\n",
       "      <td>0.07</td>\n",
       "      <td>NaN</td>\n",
       "      <td>NaN</td>\n",
       "      <td>-0.38</td>\n",
       "      <td>...</td>\n",
       "      <td>-0.25</td>\n",
       "      <td>-0.06</td>\n",
       "      <td>0.66</td>\n",
       "      <td>NaN</td>\n",
       "      <td>NaN</td>\n",
       "      <td>1.19</td>\n",
       "      <td>NaN</td>\n",
       "      <td>NaN</td>\n",
       "      <td>-0.38</td>\n",
       "      <td>-0.06</td>\n",
       "    </tr>\n",
       "  </tbody>\n",
       "</table>\n",
       "<p>5 rows × 1310 columns</p>\n",
       "</div>"
      ],
      "text/plain": [
       "             A  AA  AAIC  AAN  AAP  AAT    AB  ABB  ABBV   ABC  ...     K  \\\n",
       "1999-11-01 NaN NaN  0.25  NaN  NaN  NaN  0.87  NaN   NaN -1.44  ... -1.18   \n",
       "1999-11-02 NaN NaN  0.25  NaN  NaN  NaN  2.69  NaN   NaN  0.00  ... -0.82   \n",
       "1999-11-03 NaN NaN -0.13  NaN  NaN  NaN -1.44  NaN   NaN -0.76  ... -0.56   \n",
       "1999-11-04 NaN NaN  0.13  NaN  NaN  NaN  0.81  NaN   NaN -0.25  ... -1.19   \n",
       "1999-11-05 NaN NaN  0.25  NaN  NaN  NaN  0.07  NaN   NaN -0.38  ... -0.25   \n",
       "\n",
       "             KAI  KAMN  KAR  KB   KBH  KBR  KEN   KEP   KEX  \n",
       "1999-11-01 -0.06 -0.44  NaN NaN -0.81  NaN  NaN  0.50 -0.31  \n",
       "1999-11-02 -0.06 -0.28  NaN NaN  0.50  NaN  NaN  0.44 -0.37  \n",
       "1999-11-03  0.00  0.47  NaN NaN -0.12  NaN  NaN  0.63  0.06  \n",
       "1999-11-04  0.06  0.13  NaN NaN  0.06  NaN  NaN -0.50 -0.43  \n",
       "1999-11-05 -0.06  0.66  NaN NaN  1.19  NaN  NaN -0.38 -0.06  \n",
       "\n",
       "[5 rows x 1310 columns]"
      ]
     },
     "execution_count": 4,
     "metadata": {},
     "output_type": "execute_result"
    }
   ],
   "source": [
    "df = pd.read_csv('change.csv', index_col=0)\n",
    "df.head()"
   ]
  },
  {
   "cell_type": "code",
   "execution_count": 5,
   "id": "fatal-albany",
   "metadata": {
    "ExecuteTime": {
     "end_time": "2021-03-26T20:07:08.357927Z",
     "start_time": "2021-03-26T20:07:08.343927Z"
    }
   },
   "outputs": [],
   "source": [
    "syms = df.columns"
   ]
  },
  {
   "cell_type": "code",
   "execution_count": 10,
   "id": "identified-coast",
   "metadata": {
    "ExecuteTime": {
     "end_time": "2021-03-24T17:07:59.997523Z",
     "start_time": "2021-03-24T17:07:59.980516Z"
    },
    "scrolled": true
   },
   "outputs": [
    {
     "data": {
      "text/plain": [
       "Index(['A', 'AA', 'AAIC', 'AAN', 'AAP', 'AAT', 'AB', 'ABB', 'ABBV', 'ABC',\n",
       "       ...\n",
       "       'K', 'KAI', 'KAMN', 'KAR', 'KB', 'KBH', 'KBR', 'KEN', 'KEP', 'KEX'],\n",
       "      dtype='object', length=1310)"
      ]
     },
     "execution_count": 10,
     "metadata": {},
     "output_type": "execute_result"
    }
   ],
   "source": [
    "syms"
   ]
  },
  {
   "cell_type": "code",
   "execution_count": 1,
   "id": "previous-stanley",
   "metadata": {
    "ExecuteTime": {
     "end_time": "2021-03-26T07:35:10.166427Z",
     "start_time": "2021-03-26T07:35:10.151043Z"
    }
   },
   "outputs": [],
   "source": [
    "def surprisify(df):\n",
    "    syms = df.columns\n",
    "    symID = []\n",
    "    dateID = []\n",
    "    value = []\n",
    "\n",
    "    for sym in syms:\n",
    "        for row in df[sym].iteritems():\n",
    "            if not math.isnan(row[1]):\n",
    "                symID.append(sym)\n",
    "                dateID.append(row[0])\n",
    "                value.append(row[1])\n",
    "                \n",
    "    sur_dict = {'symID': symID,\n",
    "              'dateID': dateID,\n",
    "              'value': value\n",
    "              }\n",
    "    sur_df = pd.DataFrame(sur_dict)\n",
    "    return sur_df"
   ]
  },
  {
   "cell_type": "code",
   "execution_count": 6,
   "id": "horizontal-contributor",
   "metadata": {
    "ExecuteTime": {
     "end_time": "2021-03-26T20:08:15.599188Z",
     "start_time": "2021-03-26T20:08:03.738152Z"
    }
   },
   "outputs": [],
   "source": [
    "sur_df = surprisify(df)"
   ]
  },
  {
   "cell_type": "code",
   "execution_count": 7,
   "id": "theoretical-greenhouse",
   "metadata": {
    "ExecuteTime": {
     "end_time": "2021-03-26T20:08:22.657155Z",
     "start_time": "2021-03-26T20:08:22.630154Z"
    },
    "scrolled": true
   },
   "outputs": [
    {
     "data": {
      "text/plain": [
       "4268702"
      ]
     },
     "execution_count": 7,
     "metadata": {},
     "output_type": "execute_result"
    }
   ],
   "source": [
    "len(sur_df)"
   ]
  },
  {
   "cell_type": "code",
   "execution_count": 62,
   "id": "bound-certification",
   "metadata": {
    "ExecuteTime": {
     "end_time": "2021-03-26T20:54:54.021790Z",
     "start_time": "2021-03-26T20:54:51.002030Z"
    }
   },
   "outputs": [
    {
     "name": "stdout",
     "output_type": "stream",
     "text": [
      "172.01\n",
      "-151.59000000000017\n"
     ]
    }
   ],
   "source": [
    "print(max(sur_df.value))\n",
    "print(min(sur_df.value))"
   ]
  },
  {
   "cell_type": "code",
   "execution_count": 92,
   "id": "tribal-custom",
   "metadata": {
    "ExecuteTime": {
     "end_time": "2021-03-27T16:18:04.410940Z",
     "start_time": "2021-03-27T16:17:43.505716Z"
    }
   },
   "outputs": [],
   "source": [
    "ma = max(sur_df.value)\n",
    "mi = min(sur_df.value)\n",
    "reader = Reader(rating_scale=(mi, ma))\n",
    "data = Dataset.load_from_df(sur_df[['dateID', 'symID', 'value']], reader)"
   ]
  },
  {
   "cell_type": "code",
   "execution_count": 93,
   "id": "higher-surgery",
   "metadata": {
    "ExecuteTime": {
     "end_time": "2021-03-27T16:25:43.617866Z",
     "start_time": "2021-03-27T16:18:48.743402Z"
    },
    "scrolled": true
   },
   "outputs": [
    {
     "name": "stdout",
     "output_type": "stream",
     "text": [
      "RMSE: 0.9171\n"
     ]
    },
    {
     "data": {
      "text/plain": [
       "0.9171401364198996"
      ]
     },
     "execution_count": 93,
     "metadata": {},
     "output_type": "execute_result"
    }
   ],
   "source": [
    "train, test = TTS(data, test_size = 0.25)\n",
    "algo = SVD()\n",
    "algo.fit(train)\n",
    "preds = algo.test(test)\n",
    "\n",
    "rmse(preds)"
   ]
  },
  {
   "cell_type": "code",
   "execution_count": 85,
   "id": "paperback-mobility",
   "metadata": {
    "ExecuteTime": {
     "end_time": "2021-03-27T12:59:26.359758Z",
     "start_time": "2021-03-27T12:59:26.315754Z"
    }
   },
   "outputs": [
    {
     "data": {
      "text/plain": [
       "1.0791845595259724"
      ]
     },
     "execution_count": 85,
     "metadata": {},
     "output_type": "execute_result"
    }
   ],
   "source": [
    "sur_df.value.std()"
   ]
  },
  {
   "cell_type": "markdown",
   "id": "obvious-investigation",
   "metadata": {},
   "source": [
    "### SVD on percentage change"
   ]
  },
  {
   "cell_type": "code",
   "execution_count": 71,
   "id": "processed-evidence",
   "metadata": {
    "ExecuteTime": {
     "end_time": "2021-03-27T12:30:24.091353Z",
     "start_time": "2021-03-27T12:30:18.466356Z"
    }
   },
   "outputs": [
    {
     "data": {
      "text/html": [
       "<div>\n",
       "<style scoped>\n",
       "    .dataframe tbody tr th:only-of-type {\n",
       "        vertical-align: middle;\n",
       "    }\n",
       "\n",
       "    .dataframe tbody tr th {\n",
       "        vertical-align: top;\n",
       "    }\n",
       "\n",
       "    .dataframe thead th {\n",
       "        text-align: right;\n",
       "    }\n",
       "</style>\n",
       "<table border=\"1\" class=\"dataframe\">\n",
       "  <thead>\n",
       "    <tr style=\"text-align: right;\">\n",
       "      <th></th>\n",
       "      <th>A</th>\n",
       "      <th>AA</th>\n",
       "      <th>AAIC</th>\n",
       "      <th>AAN</th>\n",
       "      <th>AAP</th>\n",
       "      <th>AAT</th>\n",
       "      <th>AB</th>\n",
       "      <th>ABB</th>\n",
       "      <th>ABBV</th>\n",
       "      <th>ABC</th>\n",
       "      <th>...</th>\n",
       "      <th>K</th>\n",
       "      <th>KAI</th>\n",
       "      <th>KAMN</th>\n",
       "      <th>KAR</th>\n",
       "      <th>KB</th>\n",
       "      <th>KBH</th>\n",
       "      <th>KBR</th>\n",
       "      <th>KEN</th>\n",
       "      <th>KEP</th>\n",
       "      <th>KEX</th>\n",
       "    </tr>\n",
       "  </thead>\n",
       "  <tbody>\n",
       "    <tr>\n",
       "      <th>1999-11-01</th>\n",
       "      <td>NaN</td>\n",
       "      <td>NaN</td>\n",
       "      <td>4.940711</td>\n",
       "      <td>NaN</td>\n",
       "      <td>NaN</td>\n",
       "      <td>NaN</td>\n",
       "      <td>3.120516</td>\n",
       "      <td>NaN</td>\n",
       "      <td>NaN</td>\n",
       "      <td>-9.517515</td>\n",
       "      <td>...</td>\n",
       "      <td>-2.982811</td>\n",
       "      <td>-0.849858</td>\n",
       "      <td>-4.000000</td>\n",
       "      <td>NaN</td>\n",
       "      <td>NaN</td>\n",
       "      <td>-3.681818</td>\n",
       "      <td>NaN</td>\n",
       "      <td>NaN</td>\n",
       "      <td>3.052503</td>\n",
       "      <td>-1.722222</td>\n",
       "    </tr>\n",
       "    <tr>\n",
       "      <th>1999-11-02</th>\n",
       "      <td>NaN</td>\n",
       "      <td>NaN</td>\n",
       "      <td>4.646840</td>\n",
       "      <td>NaN</td>\n",
       "      <td>NaN</td>\n",
       "      <td>NaN</td>\n",
       "      <td>9.356522</td>\n",
       "      <td>NaN</td>\n",
       "      <td>NaN</td>\n",
       "      <td>0.000000</td>\n",
       "      <td>...</td>\n",
       "      <td>-2.136529</td>\n",
       "      <td>-0.849858</td>\n",
       "      <td>-2.583026</td>\n",
       "      <td>NaN</td>\n",
       "      <td>NaN</td>\n",
       "      <td>2.359604</td>\n",
       "      <td>NaN</td>\n",
       "      <td>NaN</td>\n",
       "      <td>2.550725</td>\n",
       "      <td>-2.107062</td>\n",
       "    </tr>\n",
       "    <tr>\n",
       "      <th>1999-11-03</th>\n",
       "      <td>NaN</td>\n",
       "      <td>NaN</td>\n",
       "      <td>-2.284710</td>\n",
       "      <td>NaN</td>\n",
       "      <td>NaN</td>\n",
       "      <td>NaN</td>\n",
       "      <td>-4.438964</td>\n",
       "      <td>NaN</td>\n",
       "      <td>NaN</td>\n",
       "      <td>-5.475504</td>\n",
       "      <td>...</td>\n",
       "      <td>-1.493333</td>\n",
       "      <td>0.000000</td>\n",
       "      <td>4.359926</td>\n",
       "      <td>NaN</td>\n",
       "      <td>NaN</td>\n",
       "      <td>-0.551724</td>\n",
       "      <td>NaN</td>\n",
       "      <td>NaN</td>\n",
       "      <td>3.537339</td>\n",
       "      <td>0.349040</td>\n",
       "    </tr>\n",
       "    <tr>\n",
       "      <th>1999-11-04</th>\n",
       "      <td>NaN</td>\n",
       "      <td>NaN</td>\n",
       "      <td>2.338129</td>\n",
       "      <td>NaN</td>\n",
       "      <td>NaN</td>\n",
       "      <td>NaN</td>\n",
       "      <td>2.571429</td>\n",
       "      <td>NaN</td>\n",
       "      <td>NaN</td>\n",
       "      <td>-1.886792</td>\n",
       "      <td>...</td>\n",
       "      <td>-3.238095</td>\n",
       "      <td>0.872093</td>\n",
       "      <td>1.155556</td>\n",
       "      <td>NaN</td>\n",
       "      <td>NaN</td>\n",
       "      <td>0.272727</td>\n",
       "      <td>NaN</td>\n",
       "      <td>NaN</td>\n",
       "      <td>-2.547122</td>\n",
       "      <td>-2.484113</td>\n",
       "    </tr>\n",
       "    <tr>\n",
       "      <th>1999-11-05</th>\n",
       "      <td>NaN</td>\n",
       "      <td>NaN</td>\n",
       "      <td>4.347826</td>\n",
       "      <td>NaN</td>\n",
       "      <td>NaN</td>\n",
       "      <td>NaN</td>\n",
       "      <td>0.214988</td>\n",
       "      <td>NaN</td>\n",
       "      <td>NaN</td>\n",
       "      <td>-2.923077</td>\n",
       "      <td>...</td>\n",
       "      <td>-0.701656</td>\n",
       "      <td>-0.864553</td>\n",
       "      <td>5.851064</td>\n",
       "      <td>NaN</td>\n",
       "      <td>NaN</td>\n",
       "      <td>5.274823</td>\n",
       "      <td>NaN</td>\n",
       "      <td>NaN</td>\n",
       "      <td>-2.060738</td>\n",
       "      <td>-0.352941</td>\n",
       "    </tr>\n",
       "  </tbody>\n",
       "</table>\n",
       "<p>5 rows × 1310 columns</p>\n",
       "</div>"
      ],
      "text/plain": [
       "             A  AA      AAIC  AAN  AAP  AAT        AB  ABB  ABBV       ABC  \\\n",
       "1999-11-01 NaN NaN  4.940711  NaN  NaN  NaN  3.120516  NaN   NaN -9.517515   \n",
       "1999-11-02 NaN NaN  4.646840  NaN  NaN  NaN  9.356522  NaN   NaN  0.000000   \n",
       "1999-11-03 NaN NaN -2.284710  NaN  NaN  NaN -4.438964  NaN   NaN -5.475504   \n",
       "1999-11-04 NaN NaN  2.338129  NaN  NaN  NaN  2.571429  NaN   NaN -1.886792   \n",
       "1999-11-05 NaN NaN  4.347826  NaN  NaN  NaN  0.214988  NaN   NaN -2.923077   \n",
       "\n",
       "            ...         K       KAI      KAMN  KAR  KB       KBH  KBR  KEN  \\\n",
       "1999-11-01  ... -2.982811 -0.849858 -4.000000  NaN NaN -3.681818  NaN  NaN   \n",
       "1999-11-02  ... -2.136529 -0.849858 -2.583026  NaN NaN  2.359604  NaN  NaN   \n",
       "1999-11-03  ... -1.493333  0.000000  4.359926  NaN NaN -0.551724  NaN  NaN   \n",
       "1999-11-04  ... -3.238095  0.872093  1.155556  NaN NaN  0.272727  NaN  NaN   \n",
       "1999-11-05  ... -0.701656 -0.864553  5.851064  NaN NaN  5.274823  NaN  NaN   \n",
       "\n",
       "                 KEP       KEX  \n",
       "1999-11-01  3.052503 -1.722222  \n",
       "1999-11-02  2.550725 -2.107062  \n",
       "1999-11-03  3.537339  0.349040  \n",
       "1999-11-04 -2.547122 -2.484113  \n",
       "1999-11-05 -2.060738 -0.352941  \n",
       "\n",
       "[5 rows x 1310 columns]"
      ]
     },
     "execution_count": 71,
     "metadata": {},
     "output_type": "execute_result"
    }
   ],
   "source": [
    "pc_df = pd.read_csv('percent_change.csv', index_col=0)\n",
    "pc_df.head()"
   ]
  },
  {
   "cell_type": "code",
   "execution_count": 72,
   "id": "grateful-shark",
   "metadata": {
    "ExecuteTime": {
     "end_time": "2021-03-27T12:31:42.413629Z",
     "start_time": "2021-03-27T12:31:27.295406Z"
    }
   },
   "outputs": [
    {
     "data": {
      "text/html": [
       "<div>\n",
       "<style scoped>\n",
       "    .dataframe tbody tr th:only-of-type {\n",
       "        vertical-align: middle;\n",
       "    }\n",
       "\n",
       "    .dataframe tbody tr th {\n",
       "        vertical-align: top;\n",
       "    }\n",
       "\n",
       "    .dataframe thead th {\n",
       "        text-align: right;\n",
       "    }\n",
       "</style>\n",
       "<table border=\"1\" class=\"dataframe\">\n",
       "  <thead>\n",
       "    <tr style=\"text-align: right;\">\n",
       "      <th></th>\n",
       "      <th>symID</th>\n",
       "      <th>dateID</th>\n",
       "      <th>value</th>\n",
       "    </tr>\n",
       "  </thead>\n",
       "  <tbody>\n",
       "    <tr>\n",
       "      <th>0</th>\n",
       "      <td>A</td>\n",
       "      <td>1999-11-18</td>\n",
       "      <td>-3.296703</td>\n",
       "    </tr>\n",
       "    <tr>\n",
       "      <th>1</th>\n",
       "      <td>A</td>\n",
       "      <td>1999-11-19</td>\n",
       "      <td>-5.961807</td>\n",
       "    </tr>\n",
       "    <tr>\n",
       "      <th>2</th>\n",
       "      <td>A</td>\n",
       "      <td>1999-11-22</td>\n",
       "      <td>6.511740</td>\n",
       "    </tr>\n",
       "    <tr>\n",
       "      <th>3</th>\n",
       "      <td>A</td>\n",
       "      <td>1999-11-23</td>\n",
       "      <td>-5.294118</td>\n",
       "    </tr>\n",
       "    <tr>\n",
       "      <th>4</th>\n",
       "      <td>A</td>\n",
       "      <td>1999-11-24</td>\n",
       "      <td>2.317468</td>\n",
       "    </tr>\n",
       "  </tbody>\n",
       "</table>\n",
       "</div>"
      ],
      "text/plain": [
       "  symID      dateID     value\n",
       "0     A  1999-11-18 -3.296703\n",
       "1     A  1999-11-19 -5.961807\n",
       "2     A  1999-11-22  6.511740\n",
       "3     A  1999-11-23 -5.294118\n",
       "4     A  1999-11-24  2.317468"
      ]
     },
     "execution_count": 72,
     "metadata": {},
     "output_type": "execute_result"
    }
   ],
   "source": [
    "sur_pcdf = surprisify(pc_df)\n",
    "sur_pcdf.head()"
   ]
  },
  {
   "cell_type": "code",
   "execution_count": 91,
   "id": "statistical-norfolk",
   "metadata": {
    "ExecuteTime": {
     "end_time": "2021-03-27T13:19:25.775672Z",
     "start_time": "2021-03-27T13:15:58.220193Z"
    }
   },
   "outputs": [
    {
     "name": "stdout",
     "output_type": "stream",
     "text": [
      "RMSE: 2.2489\n"
     ]
    },
    {
     "data": {
      "text/plain": [
       "2.2489349015690774"
      ]
     },
     "execution_count": 91,
     "metadata": {},
     "output_type": "execute_result"
    }
   ],
   "source": [
    "ma = max(sur_pcdf.value)\n",
    "mi = min(sur_pcdf.value)\n",
    "reader = Reader(rating_scale=(mi, ma))\n",
    "data = Dataset.load_from_df(sur_pcdf[['dateID', 'symID', 'value']], reader)\n",
    "train, test = TTS(data, test_size = 0.25)\n",
    "algo = SVD()\n",
    "algo.fit(train)\n",
    "preds = algo.test(test)\n",
    "rmse(preds)"
   ]
  },
  {
   "cell_type": "code",
   "execution_count": 84,
   "id": "christian-carnival",
   "metadata": {
    "ExecuteTime": {
     "end_time": "2021-03-27T12:59:10.825755Z",
     "start_time": "2021-03-27T12:59:10.790755Z"
    }
   },
   "outputs": [
    {
     "data": {
      "text/plain": [
       "2.3396620341091756"
      ]
     },
     "execution_count": 84,
     "metadata": {},
     "output_type": "execute_result"
    }
   ],
   "source": [
    "sur_pcdf.value.std()"
   ]
  },
  {
   "cell_type": "code",
   "execution_count": 87,
   "id": "stretch-gallery",
   "metadata": {
    "ExecuteTime": {
     "end_time": "2021-03-27T13:03:19.848230Z",
     "start_time": "2021-03-27T13:03:19.827185Z"
    }
   },
   "outputs": [
    {
     "data": {
      "text/plain": [
       "(5382, 100)"
      ]
     },
     "execution_count": 87,
     "metadata": {},
     "output_type": "execute_result"
    }
   ],
   "source": [
    "algo.pu.shape"
   ]
  },
  {
   "cell_type": "code",
   "execution_count": 88,
   "id": "indoor-poetry",
   "metadata": {
    "ExecuteTime": {
     "end_time": "2021-03-27T13:04:37.455803Z",
     "start_time": "2021-03-27T13:04:37.425810Z"
    }
   },
   "outputs": [
    {
     "data": {
      "text/plain": [
       "array([ 0.32724222, -0.17112312, -0.14482898, -0.19676111, -0.61177941,\n",
       "       -0.04043862, -0.0596063 , -0.04582079, -0.37100417, -0.29101331,\n",
       "        0.00423587, -0.56929856, -0.14427849,  0.05842542, -0.00468503,\n",
       "        0.20014201, -0.00575569,  0.06437647, -0.23000374, -0.04599039,\n",
       "        0.42742323, -0.40292844,  0.18552409,  0.0656216 , -0.12046813,\n",
       "       -0.19203081, -0.33647796,  0.07588266, -0.03175989, -0.36092148,\n",
       "        0.05765124, -0.40853459, -0.17551208, -0.27035477, -0.0800951 ,\n",
       "        0.22687023, -0.18648973, -0.58957369,  0.29201327,  0.22552867,\n",
       "        0.29367648, -0.15139456,  0.27722866, -0.00545925, -0.38351509,\n",
       "       -0.11018775,  0.11501291,  0.26009605,  0.05024719, -0.20667209,\n",
       "        0.12395133,  0.44523993, -0.58493641,  0.12050439,  0.41889912,\n",
       "        0.20972228,  0.0889681 ,  0.10638516, -0.35311202,  0.20540077,\n",
       "       -0.26313919,  0.36572982,  0.24663976,  0.44654162,  0.04357456,\n",
       "       -0.0472553 ,  0.23486802,  0.1160844 ,  0.29720638,  0.34704085,\n",
       "        0.17644263, -0.22395108,  0.13042794, -0.07599135,  0.46525668,\n",
       "       -0.92662892,  0.44074833, -0.23623128,  0.28203895, -0.37206111,\n",
       "        0.13989732,  0.49743718, -0.25038543,  0.08150001, -0.25291904,\n",
       "        0.11185487,  0.24907414,  0.01786351,  0.3836459 , -0.03991282,\n",
       "       -0.06960495, -0.02752336,  0.25406731,  0.10146212, -0.08143702,\n",
       "        0.43137308, -0.35116493, -0.29304447,  0.28064171, -0.19531418])"
      ]
     },
     "execution_count": 88,
     "metadata": {},
     "output_type": "execute_result"
    }
   ],
   "source": [
    "algo.pu[0]"
   ]
  },
  {
   "cell_type": "code",
   "execution_count": null,
   "id": "authorized-dayton",
   "metadata": {},
   "outputs": [],
   "source": []
  },
  {
   "cell_type": "code",
   "execution_count": null,
   "id": "voluntary-cargo",
   "metadata": {},
   "outputs": [],
   "source": []
  },
  {
   "cell_type": "code",
   "execution_count": null,
   "id": "divided-alias",
   "metadata": {},
   "outputs": [],
   "source": []
  },
  {
   "cell_type": "code",
   "execution_count": null,
   "id": "useful-charm",
   "metadata": {},
   "outputs": [],
   "source": []
  },
  {
   "cell_type": "markdown",
   "id": "mineral-suggestion",
   "metadata": {},
   "source": [
    "## Proposition:\n",
    "Some days are similar to others. I.e. The factors affecting stocks on one day have previously been in a similar circumstance and the stocks will change in a similar manner as how they previously did.\n",
    "\n",
    "Issue:Performing SVD on the data at the end of the day is too late for making a prediction.   \n",
    "Solution: Use midday values to make a prediction.     \n",
    "Issue: May be able to get some midday results later, but currently would need to get a paid for account for the API\n",
    "   \n",
    "   \n",
    "\n",
    "## Testing \n",
    "\n",
    "How well can the results at the end of the day be predicted by those at midday?   \n",
    "The closest I can get, currently, to testing this is by grouping days into pairs and using the first day's change (acting as the midday change) to predict the total day-pair change (acting as whole day change).\n",
    "The main difference is that the underlying factors are more likely to change over two days than over one day."
   ]
  },
  {
   "cell_type": "code",
   "execution_count": 26,
   "id": "worth-causing",
   "metadata": {
    "ExecuteTime": {
     "end_time": "2021-03-26T20:21:14.074141Z",
     "start_time": "2021-03-26T20:21:06.908258Z"
    }
   },
   "outputs": [],
   "source": [
    "test_df = df.copy()\n",
    "dates = {}\n",
    "for row in range(len(test_df)-1):\n",
    "    dates[test_df.iloc[:,0].index[row]] = test_df.iloc[row] + test_df.iloc[row+1]"
   ]
  },
  {
   "cell_type": "code",
   "execution_count": 30,
   "id": "continental-cargo",
   "metadata": {
    "ExecuteTime": {
     "end_time": "2021-03-26T20:24:10.218159Z",
     "start_time": "2021-03-26T20:24:09.434151Z"
    }
   },
   "outputs": [
    {
     "data": {
      "text/html": [
       "<div>\n",
       "<style scoped>\n",
       "    .dataframe tbody tr th:only-of-type {\n",
       "        vertical-align: middle;\n",
       "    }\n",
       "\n",
       "    .dataframe tbody tr th {\n",
       "        vertical-align: top;\n",
       "    }\n",
       "\n",
       "    .dataframe thead th {\n",
       "        text-align: right;\n",
       "    }\n",
       "</style>\n",
       "<table border=\"1\" class=\"dataframe\">\n",
       "  <thead>\n",
       "    <tr style=\"text-align: right;\">\n",
       "      <th></th>\n",
       "      <th>A</th>\n",
       "      <th>AA</th>\n",
       "      <th>AAIC</th>\n",
       "      <th>AAN</th>\n",
       "      <th>AAP</th>\n",
       "      <th>AAT</th>\n",
       "      <th>AB</th>\n",
       "      <th>ABB</th>\n",
       "      <th>ABBV</th>\n",
       "      <th>ABC</th>\n",
       "      <th>...</th>\n",
       "      <th>K</th>\n",
       "      <th>KAI</th>\n",
       "      <th>KAMN</th>\n",
       "      <th>KAR</th>\n",
       "      <th>KB</th>\n",
       "      <th>KBH</th>\n",
       "      <th>KBR</th>\n",
       "      <th>KEN</th>\n",
       "      <th>KEP</th>\n",
       "      <th>KEX</th>\n",
       "    </tr>\n",
       "  </thead>\n",
       "  <tbody>\n",
       "    <tr>\n",
       "      <th>1999-11-01</th>\n",
       "      <td>NaN</td>\n",
       "      <td>NaN</td>\n",
       "      <td>0.50</td>\n",
       "      <td>NaN</td>\n",
       "      <td>NaN</td>\n",
       "      <td>NaN</td>\n",
       "      <td>3.56</td>\n",
       "      <td>NaN</td>\n",
       "      <td>NaN</td>\n",
       "      <td>-1.44</td>\n",
       "      <td>...</td>\n",
       "      <td>-2.00</td>\n",
       "      <td>-0.12</td>\n",
       "      <td>-0.72</td>\n",
       "      <td>NaN</td>\n",
       "      <td>NaN</td>\n",
       "      <td>-0.31</td>\n",
       "      <td>NaN</td>\n",
       "      <td>NaN</td>\n",
       "      <td>0.94</td>\n",
       "      <td>-0.68</td>\n",
       "    </tr>\n",
       "    <tr>\n",
       "      <th>1999-11-02</th>\n",
       "      <td>NaN</td>\n",
       "      <td>NaN</td>\n",
       "      <td>0.12</td>\n",
       "      <td>NaN</td>\n",
       "      <td>NaN</td>\n",
       "      <td>NaN</td>\n",
       "      <td>1.25</td>\n",
       "      <td>NaN</td>\n",
       "      <td>NaN</td>\n",
       "      <td>-0.76</td>\n",
       "      <td>...</td>\n",
       "      <td>-1.38</td>\n",
       "      <td>-0.06</td>\n",
       "      <td>0.19</td>\n",
       "      <td>NaN</td>\n",
       "      <td>NaN</td>\n",
       "      <td>0.38</td>\n",
       "      <td>NaN</td>\n",
       "      <td>NaN</td>\n",
       "      <td>1.07</td>\n",
       "      <td>-0.31</td>\n",
       "    </tr>\n",
       "    <tr>\n",
       "      <th>1999-11-03</th>\n",
       "      <td>NaN</td>\n",
       "      <td>NaN</td>\n",
       "      <td>0.00</td>\n",
       "      <td>NaN</td>\n",
       "      <td>NaN</td>\n",
       "      <td>NaN</td>\n",
       "      <td>-0.63</td>\n",
       "      <td>NaN</td>\n",
       "      <td>NaN</td>\n",
       "      <td>-1.01</td>\n",
       "      <td>...</td>\n",
       "      <td>-1.75</td>\n",
       "      <td>0.06</td>\n",
       "      <td>0.60</td>\n",
       "      <td>NaN</td>\n",
       "      <td>NaN</td>\n",
       "      <td>-0.06</td>\n",
       "      <td>NaN</td>\n",
       "      <td>NaN</td>\n",
       "      <td>0.13</td>\n",
       "      <td>-0.37</td>\n",
       "    </tr>\n",
       "    <tr>\n",
       "      <th>1999-11-04</th>\n",
       "      <td>NaN</td>\n",
       "      <td>NaN</td>\n",
       "      <td>0.38</td>\n",
       "      <td>NaN</td>\n",
       "      <td>NaN</td>\n",
       "      <td>NaN</td>\n",
       "      <td>0.88</td>\n",
       "      <td>NaN</td>\n",
       "      <td>NaN</td>\n",
       "      <td>-0.63</td>\n",
       "      <td>...</td>\n",
       "      <td>-1.44</td>\n",
       "      <td>0.00</td>\n",
       "      <td>0.79</td>\n",
       "      <td>NaN</td>\n",
       "      <td>NaN</td>\n",
       "      <td>1.25</td>\n",
       "      <td>NaN</td>\n",
       "      <td>NaN</td>\n",
       "      <td>-0.88</td>\n",
       "      <td>-0.49</td>\n",
       "    </tr>\n",
       "    <tr>\n",
       "      <th>1999-11-05</th>\n",
       "      <td>NaN</td>\n",
       "      <td>NaN</td>\n",
       "      <td>0.06</td>\n",
       "      <td>NaN</td>\n",
       "      <td>NaN</td>\n",
       "      <td>NaN</td>\n",
       "      <td>-0.37</td>\n",
       "      <td>NaN</td>\n",
       "      <td>NaN</td>\n",
       "      <td>0.06</td>\n",
       "      <td>...</td>\n",
       "      <td>0.62</td>\n",
       "      <td>-0.06</td>\n",
       "      <td>0.97</td>\n",
       "      <td>NaN</td>\n",
       "      <td>NaN</td>\n",
       "      <td>1.63</td>\n",
       "      <td>NaN</td>\n",
       "      <td>NaN</td>\n",
       "      <td>-0.69</td>\n",
       "      <td>0.00</td>\n",
       "    </tr>\n",
       "  </tbody>\n",
       "</table>\n",
       "<p>5 rows × 1310 columns</p>\n",
       "</div>"
      ],
      "text/plain": [
       "             A  AA  AAIC  AAN  AAP  AAT    AB  ABB  ABBV   ABC  ...     K  \\\n",
       "1999-11-01 NaN NaN  0.50  NaN  NaN  NaN  3.56  NaN   NaN -1.44  ... -2.00   \n",
       "1999-11-02 NaN NaN  0.12  NaN  NaN  NaN  1.25  NaN   NaN -0.76  ... -1.38   \n",
       "1999-11-03 NaN NaN  0.00  NaN  NaN  NaN -0.63  NaN   NaN -1.01  ... -1.75   \n",
       "1999-11-04 NaN NaN  0.38  NaN  NaN  NaN  0.88  NaN   NaN -0.63  ... -1.44   \n",
       "1999-11-05 NaN NaN  0.06  NaN  NaN  NaN -0.37  NaN   NaN  0.06  ...  0.62   \n",
       "\n",
       "             KAI  KAMN  KAR  KB   KBH  KBR  KEN   KEP   KEX  \n",
       "1999-11-01 -0.12 -0.72  NaN NaN -0.31  NaN  NaN  0.94 -0.68  \n",
       "1999-11-02 -0.06  0.19  NaN NaN  0.38  NaN  NaN  1.07 -0.31  \n",
       "1999-11-03  0.06  0.60  NaN NaN -0.06  NaN  NaN  0.13 -0.37  \n",
       "1999-11-04  0.00  0.79  NaN NaN  1.25  NaN  NaN -0.88 -0.49  \n",
       "1999-11-05 -0.06  0.97  NaN NaN  1.63  NaN  NaN -0.69  0.00  \n",
       "\n",
       "[5 rows x 1310 columns]"
      ]
     },
     "execution_count": 30,
     "metadata": {},
     "output_type": "execute_result"
    }
   ],
   "source": [
    "test_df = pd.DataFrame(dates).transpose()\n",
    "test_df.head()"
   ]
  },
  {
   "cell_type": "code",
   "execution_count": 49,
   "id": "vocal-bottom",
   "metadata": {
    "ExecuteTime": {
     "end_time": "2021-03-26T20:41:05.629044Z",
     "start_time": "2021-03-26T20:41:05.609081Z"
    }
   },
   "outputs": [
    {
     "data": {
      "text/plain": [
       "1076.2"
      ]
     },
     "execution_count": 49,
     "metadata": {},
     "output_type": "execute_result"
    }
   ],
   "source": [
    "len(test_df)*0.2"
   ]
  },
  {
   "cell_type": "code",
   "execution_count": 52,
   "id": "printable-civilization",
   "metadata": {
    "ExecuteTime": {
     "end_time": "2021-03-26T20:44:52.977391Z",
     "start_time": "2021-03-26T20:44:52.954440Z"
    }
   },
   "outputs": [],
   "source": [
    "inds = random.sample(list(test_df.index), 1076)"
   ]
  },
  {
   "cell_type": "code",
   "execution_count": 54,
   "id": "colonial-venice",
   "metadata": {
    "ExecuteTime": {
     "end_time": "2021-03-26T20:45:54.839287Z",
     "start_time": "2021-03-26T20:45:54.725286Z"
    }
   },
   "outputs": [
    {
     "data": {
      "text/html": [
       "<div>\n",
       "<style scoped>\n",
       "    .dataframe tbody tr th:only-of-type {\n",
       "        vertical-align: middle;\n",
       "    }\n",
       "\n",
       "    .dataframe tbody tr th {\n",
       "        vertical-align: top;\n",
       "    }\n",
       "\n",
       "    .dataframe thead th {\n",
       "        text-align: right;\n",
       "    }\n",
       "</style>\n",
       "<table border=\"1\" class=\"dataframe\">\n",
       "  <thead>\n",
       "    <tr style=\"text-align: right;\">\n",
       "      <th></th>\n",
       "      <th>A</th>\n",
       "      <th>AA</th>\n",
       "      <th>AAIC</th>\n",
       "      <th>AAN</th>\n",
       "      <th>AAP</th>\n",
       "      <th>AAT</th>\n",
       "      <th>AB</th>\n",
       "      <th>ABB</th>\n",
       "      <th>ABBV</th>\n",
       "      <th>ABC</th>\n",
       "      <th>...</th>\n",
       "      <th>K</th>\n",
       "      <th>KAI</th>\n",
       "      <th>KAMN</th>\n",
       "      <th>KAR</th>\n",
       "      <th>KB</th>\n",
       "      <th>KBH</th>\n",
       "      <th>KBR</th>\n",
       "      <th>KEN</th>\n",
       "      <th>KEP</th>\n",
       "      <th>KEX</th>\n",
       "    </tr>\n",
       "  </thead>\n",
       "  <tbody>\n",
       "    <tr>\n",
       "      <th>2001-07-10</th>\n",
       "      <td>-3.09</td>\n",
       "      <td>NaN</td>\n",
       "      <td>-0.23</td>\n",
       "      <td>NaN</td>\n",
       "      <td>NaN</td>\n",
       "      <td>NaN</td>\n",
       "      <td>-1.62</td>\n",
       "      <td>0.18</td>\n",
       "      <td>NaN</td>\n",
       "      <td>-0.50</td>\n",
       "      <td>...</td>\n",
       "      <td>-0.16</td>\n",
       "      <td>0.02</td>\n",
       "      <td>-0.11</td>\n",
       "      <td>NaN</td>\n",
       "      <td>NaN</td>\n",
       "      <td>0.48</td>\n",
       "      <td>NaN</td>\n",
       "      <td>NaN</td>\n",
       "      <td>0.02</td>\n",
       "      <td>-0.66</td>\n",
       "    </tr>\n",
       "    <tr>\n",
       "      <th>2014-02-12</th>\n",
       "      <td>0.52</td>\n",
       "      <td>NaN</td>\n",
       "      <td>0.21</td>\n",
       "      <td>NaN</td>\n",
       "      <td>0.47</td>\n",
       "      <td>0.56</td>\n",
       "      <td>0.74</td>\n",
       "      <td>0.29</td>\n",
       "      <td>0.98</td>\n",
       "      <td>0.45</td>\n",
       "      <td>...</td>\n",
       "      <td>-0.11</td>\n",
       "      <td>1.50</td>\n",
       "      <td>0.73</td>\n",
       "      <td>-0.02</td>\n",
       "      <td>-0.02</td>\n",
       "      <td>0.16</td>\n",
       "      <td>0.59</td>\n",
       "      <td>NaN</td>\n",
       "      <td>0.34</td>\n",
       "      <td>2.09</td>\n",
       "    </tr>\n",
       "    <tr>\n",
       "      <th>2018-10-29</th>\n",
       "      <td>-0.28</td>\n",
       "      <td>-0.28</td>\n",
       "      <td>-0.08</td>\n",
       "      <td>NaN</td>\n",
       "      <td>-2.03</td>\n",
       "      <td>0.86</td>\n",
       "      <td>0.17</td>\n",
       "      <td>-0.11</td>\n",
       "      <td>-1.13</td>\n",
       "      <td>1.35</td>\n",
       "      <td>...</td>\n",
       "      <td>1.83</td>\n",
       "      <td>4.64</td>\n",
       "      <td>0.65</td>\n",
       "      <td>0.49</td>\n",
       "      <td>-1.23</td>\n",
       "      <td>0.02</td>\n",
       "      <td>-0.10</td>\n",
       "      <td>-0.02</td>\n",
       "      <td>-0.17</td>\n",
       "      <td>-0.54</td>\n",
       "    </tr>\n",
       "    <tr>\n",
       "      <th>2012-02-29</th>\n",
       "      <td>0.24</td>\n",
       "      <td>NaN</td>\n",
       "      <td>-0.34</td>\n",
       "      <td>NaN</td>\n",
       "      <td>-0.41</td>\n",
       "      <td>-0.71</td>\n",
       "      <td>0.31</td>\n",
       "      <td>-0.36</td>\n",
       "      <td>NaN</td>\n",
       "      <td>-0.18</td>\n",
       "      <td>...</td>\n",
       "      <td>-0.38</td>\n",
       "      <td>-0.25</td>\n",
       "      <td>0.42</td>\n",
       "      <td>-0.18</td>\n",
       "      <td>0.25</td>\n",
       "      <td>-0.14</td>\n",
       "      <td>0.09</td>\n",
       "      <td>NaN</td>\n",
       "      <td>-0.01</td>\n",
       "      <td>1.40</td>\n",
       "    </tr>\n",
       "    <tr>\n",
       "      <th>2003-04-22</th>\n",
       "      <td>1.15</td>\n",
       "      <td>NaN</td>\n",
       "      <td>0.45</td>\n",
       "      <td>NaN</td>\n",
       "      <td>2.57</td>\n",
       "      <td>NaN</td>\n",
       "      <td>1.01</td>\n",
       "      <td>0.13</td>\n",
       "      <td>NaN</td>\n",
       "      <td>-0.53</td>\n",
       "      <td>...</td>\n",
       "      <td>0.94</td>\n",
       "      <td>0.09</td>\n",
       "      <td>0.05</td>\n",
       "      <td>NaN</td>\n",
       "      <td>-0.60</td>\n",
       "      <td>2.27</td>\n",
       "      <td>NaN</td>\n",
       "      <td>NaN</td>\n",
       "      <td>0.08</td>\n",
       "      <td>0.24</td>\n",
       "    </tr>\n",
       "  </tbody>\n",
       "</table>\n",
       "<p>5 rows × 1310 columns</p>\n",
       "</div>"
      ],
      "text/plain": [
       "               A    AA  AAIC  AAN   AAP   AAT    AB   ABB  ABBV   ABC  ...  \\\n",
       "2001-07-10 -3.09   NaN -0.23  NaN   NaN   NaN -1.62  0.18   NaN -0.50  ...   \n",
       "2014-02-12  0.52   NaN  0.21  NaN  0.47  0.56  0.74  0.29  0.98  0.45  ...   \n",
       "2018-10-29 -0.28 -0.28 -0.08  NaN -2.03  0.86  0.17 -0.11 -1.13  1.35  ...   \n",
       "2012-02-29  0.24   NaN -0.34  NaN -0.41 -0.71  0.31 -0.36   NaN -0.18  ...   \n",
       "2003-04-22  1.15   NaN  0.45  NaN  2.57   NaN  1.01  0.13   NaN -0.53  ...   \n",
       "\n",
       "               K   KAI  KAMN   KAR    KB   KBH   KBR   KEN   KEP   KEX  \n",
       "2001-07-10 -0.16  0.02 -0.11   NaN   NaN  0.48   NaN   NaN  0.02 -0.66  \n",
       "2014-02-12 -0.11  1.50  0.73 -0.02 -0.02  0.16  0.59   NaN  0.34  2.09  \n",
       "2018-10-29  1.83  4.64  0.65  0.49 -1.23  0.02 -0.10 -0.02 -0.17 -0.54  \n",
       "2012-02-29 -0.38 -0.25  0.42 -0.18  0.25 -0.14  0.09   NaN -0.01  1.40  \n",
       "2003-04-22  0.94  0.09  0.05   NaN -0.60  2.27   NaN   NaN  0.08  0.24  \n",
       "\n",
       "[5 rows x 1310 columns]"
      ]
     },
     "execution_count": 54,
     "metadata": {},
     "output_type": "execute_result"
    }
   ],
   "source": [
    "test_df_test = test_df.loc[inds, :]\n",
    "test_df_test.head()"
   ]
  },
  {
   "cell_type": "code",
   "execution_count": 56,
   "id": "former-pepper",
   "metadata": {
    "ExecuteTime": {
     "end_time": "2021-03-26T20:48:34.339598Z",
     "start_time": "2021-03-26T20:48:34.159550Z"
    }
   },
   "outputs": [
    {
     "data": {
      "text/html": [
       "<div>\n",
       "<style scoped>\n",
       "    .dataframe tbody tr th:only-of-type {\n",
       "        vertical-align: middle;\n",
       "    }\n",
       "\n",
       "    .dataframe tbody tr th {\n",
       "        vertical-align: top;\n",
       "    }\n",
       "\n",
       "    .dataframe thead th {\n",
       "        text-align: right;\n",
       "    }\n",
       "</style>\n",
       "<table border=\"1\" class=\"dataframe\">\n",
       "  <thead>\n",
       "    <tr style=\"text-align: right;\">\n",
       "      <th></th>\n",
       "      <th>A</th>\n",
       "      <th>AA</th>\n",
       "      <th>AAIC</th>\n",
       "      <th>AAN</th>\n",
       "      <th>AAP</th>\n",
       "      <th>AAT</th>\n",
       "      <th>AB</th>\n",
       "      <th>ABB</th>\n",
       "      <th>ABBV</th>\n",
       "      <th>ABC</th>\n",
       "      <th>...</th>\n",
       "      <th>K</th>\n",
       "      <th>KAI</th>\n",
       "      <th>KAMN</th>\n",
       "      <th>KAR</th>\n",
       "      <th>KB</th>\n",
       "      <th>KBH</th>\n",
       "      <th>KBR</th>\n",
       "      <th>KEN</th>\n",
       "      <th>KEP</th>\n",
       "      <th>KEX</th>\n",
       "    </tr>\n",
       "  </thead>\n",
       "  <tbody>\n",
       "    <tr>\n",
       "      <th>1999-11-01</th>\n",
       "      <td>NaN</td>\n",
       "      <td>NaN</td>\n",
       "      <td>0.50</td>\n",
       "      <td>NaN</td>\n",
       "      <td>NaN</td>\n",
       "      <td>NaN</td>\n",
       "      <td>3.56</td>\n",
       "      <td>NaN</td>\n",
       "      <td>NaN</td>\n",
       "      <td>-1.44</td>\n",
       "      <td>...</td>\n",
       "      <td>-2.00</td>\n",
       "      <td>-0.12</td>\n",
       "      <td>-0.72</td>\n",
       "      <td>NaN</td>\n",
       "      <td>NaN</td>\n",
       "      <td>-0.31</td>\n",
       "      <td>NaN</td>\n",
       "      <td>NaN</td>\n",
       "      <td>0.94</td>\n",
       "      <td>-0.68</td>\n",
       "    </tr>\n",
       "    <tr>\n",
       "      <th>1999-11-02</th>\n",
       "      <td>NaN</td>\n",
       "      <td>NaN</td>\n",
       "      <td>0.12</td>\n",
       "      <td>NaN</td>\n",
       "      <td>NaN</td>\n",
       "      <td>NaN</td>\n",
       "      <td>1.25</td>\n",
       "      <td>NaN</td>\n",
       "      <td>NaN</td>\n",
       "      <td>-0.76</td>\n",
       "      <td>...</td>\n",
       "      <td>-1.38</td>\n",
       "      <td>-0.06</td>\n",
       "      <td>0.19</td>\n",
       "      <td>NaN</td>\n",
       "      <td>NaN</td>\n",
       "      <td>0.38</td>\n",
       "      <td>NaN</td>\n",
       "      <td>NaN</td>\n",
       "      <td>1.07</td>\n",
       "      <td>-0.31</td>\n",
       "    </tr>\n",
       "    <tr>\n",
       "      <th>1999-11-03</th>\n",
       "      <td>NaN</td>\n",
       "      <td>NaN</td>\n",
       "      <td>0.00</td>\n",
       "      <td>NaN</td>\n",
       "      <td>NaN</td>\n",
       "      <td>NaN</td>\n",
       "      <td>-0.63</td>\n",
       "      <td>NaN</td>\n",
       "      <td>NaN</td>\n",
       "      <td>-1.01</td>\n",
       "      <td>...</td>\n",
       "      <td>-1.75</td>\n",
       "      <td>0.06</td>\n",
       "      <td>0.60</td>\n",
       "      <td>NaN</td>\n",
       "      <td>NaN</td>\n",
       "      <td>-0.06</td>\n",
       "      <td>NaN</td>\n",
       "      <td>NaN</td>\n",
       "      <td>0.13</td>\n",
       "      <td>-0.37</td>\n",
       "    </tr>\n",
       "    <tr>\n",
       "      <th>1999-11-04</th>\n",
       "      <td>NaN</td>\n",
       "      <td>NaN</td>\n",
       "      <td>0.38</td>\n",
       "      <td>NaN</td>\n",
       "      <td>NaN</td>\n",
       "      <td>NaN</td>\n",
       "      <td>0.88</td>\n",
       "      <td>NaN</td>\n",
       "      <td>NaN</td>\n",
       "      <td>-0.63</td>\n",
       "      <td>...</td>\n",
       "      <td>-1.44</td>\n",
       "      <td>0.00</td>\n",
       "      <td>0.79</td>\n",
       "      <td>NaN</td>\n",
       "      <td>NaN</td>\n",
       "      <td>1.25</td>\n",
       "      <td>NaN</td>\n",
       "      <td>NaN</td>\n",
       "      <td>-0.88</td>\n",
       "      <td>-0.49</td>\n",
       "    </tr>\n",
       "    <tr>\n",
       "      <th>1999-11-05</th>\n",
       "      <td>NaN</td>\n",
       "      <td>NaN</td>\n",
       "      <td>0.06</td>\n",
       "      <td>NaN</td>\n",
       "      <td>NaN</td>\n",
       "      <td>NaN</td>\n",
       "      <td>-0.37</td>\n",
       "      <td>NaN</td>\n",
       "      <td>NaN</td>\n",
       "      <td>0.06</td>\n",
       "      <td>...</td>\n",
       "      <td>0.62</td>\n",
       "      <td>-0.06</td>\n",
       "      <td>0.97</td>\n",
       "      <td>NaN</td>\n",
       "      <td>NaN</td>\n",
       "      <td>1.63</td>\n",
       "      <td>NaN</td>\n",
       "      <td>NaN</td>\n",
       "      <td>-0.69</td>\n",
       "      <td>0.00</td>\n",
       "    </tr>\n",
       "  </tbody>\n",
       "</table>\n",
       "<p>5 rows × 1310 columns</p>\n",
       "</div>"
      ],
      "text/plain": [
       "             A  AA  AAIC  AAN  AAP  AAT    AB  ABB  ABBV   ABC  ...     K  \\\n",
       "1999-11-01 NaN NaN  0.50  NaN  NaN  NaN  3.56  NaN   NaN -1.44  ... -2.00   \n",
       "1999-11-02 NaN NaN  0.12  NaN  NaN  NaN  1.25  NaN   NaN -0.76  ... -1.38   \n",
       "1999-11-03 NaN NaN  0.00  NaN  NaN  NaN -0.63  NaN   NaN -1.01  ... -1.75   \n",
       "1999-11-04 NaN NaN  0.38  NaN  NaN  NaN  0.88  NaN   NaN -0.63  ... -1.44   \n",
       "1999-11-05 NaN NaN  0.06  NaN  NaN  NaN -0.37  NaN   NaN  0.06  ...  0.62   \n",
       "\n",
       "             KAI  KAMN  KAR  KB   KBH  KBR  KEN   KEP   KEX  \n",
       "1999-11-01 -0.12 -0.72  NaN NaN -0.31  NaN  NaN  0.94 -0.68  \n",
       "1999-11-02 -0.06  0.19  NaN NaN  0.38  NaN  NaN  1.07 -0.31  \n",
       "1999-11-03  0.06  0.60  NaN NaN -0.06  NaN  NaN  0.13 -0.37  \n",
       "1999-11-04  0.00  0.79  NaN NaN  1.25  NaN  NaN -0.88 -0.49  \n",
       "1999-11-05 -0.06  0.97  NaN NaN  1.63  NaN  NaN -0.69  0.00  \n",
       "\n",
       "[5 rows x 1310 columns]"
      ]
     },
     "execution_count": 56,
     "metadata": {},
     "output_type": "execute_result"
    }
   ],
   "source": [
    "test_df_train = test_df.drop(inds)\n",
    "test_df_train.head()"
   ]
  },
  {
   "cell_type": "code",
   "execution_count": 57,
   "id": "stainless-workstation",
   "metadata": {
    "ExecuteTime": {
     "end_time": "2021-03-26T20:48:47.696824Z",
     "start_time": "2021-03-26T20:48:47.670826Z"
    }
   },
   "outputs": [
    {
     "data": {
      "text/plain": [
       "4305"
      ]
     },
     "execution_count": 57,
     "metadata": {},
     "output_type": "execute_result"
    }
   ],
   "source": [
    "len(test_df_train)"
   ]
  },
  {
   "cell_type": "code",
   "execution_count": 59,
   "id": "wired-angle",
   "metadata": {
    "ExecuteTime": {
     "end_time": "2021-03-26T20:50:41.162545Z",
     "start_time": "2021-03-26T20:50:27.458418Z"
    }
   },
   "outputs": [
    {
     "data": {
      "text/html": [
       "<div>\n",
       "<style scoped>\n",
       "    .dataframe tbody tr th:only-of-type {\n",
       "        vertical-align: middle;\n",
       "    }\n",
       "\n",
       "    .dataframe tbody tr th {\n",
       "        vertical-align: top;\n",
       "    }\n",
       "\n",
       "    .dataframe thead th {\n",
       "        text-align: right;\n",
       "    }\n",
       "</style>\n",
       "<table border=\"1\" class=\"dataframe\">\n",
       "  <thead>\n",
       "    <tr style=\"text-align: right;\">\n",
       "      <th></th>\n",
       "      <th>symID</th>\n",
       "      <th>dateID</th>\n",
       "      <th>value</th>\n",
       "    </tr>\n",
       "  </thead>\n",
       "  <tbody>\n",
       "    <tr>\n",
       "      <th>0</th>\n",
       "      <td>A</td>\n",
       "      <td>1999-11-18</td>\n",
       "      <td>-4.06</td>\n",
       "    </tr>\n",
       "    <tr>\n",
       "      <th>1</th>\n",
       "      <td>A</td>\n",
       "      <td>1999-11-19</td>\n",
       "      <td>0.13</td>\n",
       "    </tr>\n",
       "    <tr>\n",
       "      <th>2</th>\n",
       "      <td>A</td>\n",
       "      <td>1999-11-22</td>\n",
       "      <td>0.44</td>\n",
       "    </tr>\n",
       "    <tr>\n",
       "      <th>3</th>\n",
       "      <td>A</td>\n",
       "      <td>1999-11-24</td>\n",
       "      <td>1.24</td>\n",
       "    </tr>\n",
       "    <tr>\n",
       "      <th>4</th>\n",
       "      <td>A</td>\n",
       "      <td>1999-11-29</td>\n",
       "      <td>1.32</td>\n",
       "    </tr>\n",
       "  </tbody>\n",
       "</table>\n",
       "</div>"
      ],
      "text/plain": [
       "  symID      dateID  value\n",
       "0     A  1999-11-18  -4.06\n",
       "1     A  1999-11-19   0.13\n",
       "2     A  1999-11-22   0.44\n",
       "3     A  1999-11-24   1.24\n",
       "4     A  1999-11-29   1.32"
      ]
     },
     "execution_count": 59,
     "metadata": {},
     "output_type": "execute_result"
    }
   ],
   "source": [
    "sur_train = surprisify(test_df_train)\n",
    "sur_train.head()"
   ]
  },
  {
   "cell_type": "code",
   "execution_count": 64,
   "id": "wireless-birth",
   "metadata": {
    "ExecuteTime": {
     "end_time": "2021-03-26T20:56:02.513578Z",
     "start_time": "2021-03-26T20:55:59.706582Z"
    }
   },
   "outputs": [
    {
     "name": "stdout",
     "output_type": "stream",
     "text": [
      "222.60000000000002\n",
      "-190.5600000000002\n"
     ]
    }
   ],
   "source": [
    "print(max(sur_train.value))\n",
    "print(min(sur_train.value))"
   ]
  },
  {
   "cell_type": "code",
   "execution_count": 65,
   "id": "differential-establishment",
   "metadata": {
    "ExecuteTime": {
     "end_time": "2021-03-26T20:57:02.067700Z",
     "start_time": "2021-03-26T20:56:48.945158Z"
    }
   },
   "outputs": [],
   "source": [
    "reader = Reader(rating_scale=(-220, 250))\n",
    "train = Dataset.load_from_df(sur_train[['dateID', 'symID', 'value']], reader)"
   ]
  },
  {
   "cell_type": "code",
   "execution_count": 67,
   "id": "continued-going",
   "metadata": {
    "ExecuteTime": {
     "end_time": "2021-03-26T20:58:24.905823Z",
     "start_time": "2021-03-26T20:58:24.791774Z"
    }
   },
   "outputs": [
    {
     "ename": "AttributeError",
     "evalue": "'DatasetAutoFolds' object has no attribute 'global_mean'",
     "output_type": "error",
     "traceback": [
      "\u001b[1;31m---------------------------------------------------------------------------\u001b[0m",
      "\u001b[1;31mAttributeError\u001b[0m                            Traceback (most recent call last)",
      "\u001b[1;32m<ipython-input-67-fa94d33a8fbd>\u001b[0m in \u001b[0;36m<module>\u001b[1;34m\u001b[0m\n\u001b[0;32m      1\u001b[0m \u001b[0mtest_algo\u001b[0m \u001b[1;33m=\u001b[0m \u001b[0mSVD\u001b[0m\u001b[1;33m(\u001b[0m\u001b[1;33m)\u001b[0m\u001b[1;33m\u001b[0m\u001b[1;33m\u001b[0m\u001b[0m\n\u001b[1;32m----> 2\u001b[1;33m \u001b[0mtest_algo\u001b[0m\u001b[1;33m.\u001b[0m\u001b[0mfit\u001b[0m\u001b[1;33m(\u001b[0m\u001b[0mtrain\u001b[0m\u001b[1;33m)\u001b[0m\u001b[1;33m\u001b[0m\u001b[1;33m\u001b[0m\u001b[0m\n\u001b[0m",
      "\u001b[1;32m~\\anaconda3\\lib\\site-packages\\surprise\\prediction_algorithms\\matrix_factorization.pyx\u001b[0m in \u001b[0;36msurprise.prediction_algorithms.matrix_factorization.SVD.fit\u001b[1;34m()\u001b[0m\n",
      "\u001b[1;32m~\\anaconda3\\lib\\site-packages\\surprise\\prediction_algorithms\\matrix_factorization.pyx\u001b[0m in \u001b[0;36msurprise.prediction_algorithms.matrix_factorization.SVD.sgd\u001b[1;34m()\u001b[0m\n",
      "\u001b[1;31mAttributeError\u001b[0m: 'DatasetAutoFolds' object has no attribute 'global_mean'"
     ]
    }
   ],
   "source": [
    "test_algo = SVD()\n",
    "test_algo.fit(train)\n"
   ]
  },
  {
   "cell_type": "code",
   "execution_count": null,
   "id": "grateful-photograph",
   "metadata": {},
   "outputs": [],
   "source": []
  },
  {
   "cell_type": "code",
   "execution_count": null,
   "id": "stylish-amsterdam",
   "metadata": {},
   "outputs": [],
   "source": []
  },
  {
   "cell_type": "code",
   "execution_count": null,
   "id": "magnetic-minneapolis",
   "metadata": {},
   "outputs": [],
   "source": []
  },
  {
   "cell_type": "code",
   "execution_count": null,
   "id": "confused-charger",
   "metadata": {},
   "outputs": [],
   "source": []
  },
  {
   "cell_type": "code",
   "execution_count": null,
   "id": "intense-curtis",
   "metadata": {},
   "outputs": [],
   "source": []
  },
  {
   "cell_type": "code",
   "execution_count": null,
   "id": "continent-graphic",
   "metadata": {},
   "outputs": [],
   "source": []
  },
  {
   "cell_type": "code",
   "execution_count": null,
   "id": "cordless-genetics",
   "metadata": {},
   "outputs": [],
   "source": []
  },
  {
   "cell_type": "code",
   "execution_count": null,
   "id": "noticed-timber",
   "metadata": {},
   "outputs": [],
   "source": []
  },
  {
   "cell_type": "code",
   "execution_count": null,
   "id": "amazing-heavy",
   "metadata": {},
   "outputs": [],
   "source": []
  },
  {
   "cell_type": "code",
   "execution_count": null,
   "id": "raised-marine",
   "metadata": {},
   "outputs": [],
   "source": []
  },
  {
   "cell_type": "code",
   "execution_count": null,
   "id": "regional-tuning",
   "metadata": {},
   "outputs": [],
   "source": []
  },
  {
   "cell_type": "code",
   "execution_count": null,
   "id": "preliminary-costume",
   "metadata": {},
   "outputs": [],
   "source": []
  },
  {
   "cell_type": "code",
   "execution_count": null,
   "id": "aware-stamp",
   "metadata": {},
   "outputs": [],
   "source": []
  },
  {
   "cell_type": "code",
   "execution_count": null,
   "id": "fiscal-sixth",
   "metadata": {},
   "outputs": [],
   "source": []
  },
  {
   "cell_type": "code",
   "execution_count": null,
   "id": "municipal-morning",
   "metadata": {},
   "outputs": [],
   "source": []
  },
  {
   "cell_type": "code",
   "execution_count": null,
   "id": "lesbian-holiday",
   "metadata": {},
   "outputs": [],
   "source": []
  }
 ],
 "metadata": {
  "kernelspec": {
   "display_name": "Python 3",
   "language": "python",
   "name": "python3"
  },
  "language_info": {
   "codemirror_mode": {
    "name": "ipython",
    "version": 3
   },
   "file_extension": ".py",
   "mimetype": "text/x-python",
   "name": "python",
   "nbconvert_exporter": "python",
   "pygments_lexer": "ipython3",
   "version": "3.7.9"
  },
  "toc": {
   "base_numbering": 1,
   "nav_menu": {},
   "number_sections": false,
   "sideBar": true,
   "skip_h1_title": true,
   "title_cell": "Table of Contents",
   "title_sidebar": "Contents",
   "toc_cell": false,
   "toc_position": {
    "height": "calc(100% - 180px)",
    "left": "10px",
    "top": "150px",
    "width": "384px"
   },
   "toc_section_display": true,
   "toc_window_display": true
  },
  "varInspector": {
   "cols": {
    "lenName": 16,
    "lenType": 16,
    "lenVar": 40
   },
   "kernels_config": {
    "python": {
     "delete_cmd_postfix": "",
     "delete_cmd_prefix": "del ",
     "library": "var_list.py",
     "varRefreshCmd": "print(var_dic_list())"
    },
    "r": {
     "delete_cmd_postfix": ") ",
     "delete_cmd_prefix": "rm(",
     "library": "var_list.r",
     "varRefreshCmd": "cat(var_dic_list()) "
    }
   },
   "types_to_exclude": [
    "module",
    "function",
    "builtin_function_or_method",
    "instance",
    "_Feature"
   ],
   "window_display": false
  }
 },
 "nbformat": 4,
 "nbformat_minor": 5
}
